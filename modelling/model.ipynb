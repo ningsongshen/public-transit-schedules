{
 "metadata": {
  "language_info": {
   "codemirror_mode": {
    "name": "ipython",
    "version": 3
   },
   "file_extension": ".py",
   "mimetype": "text/x-python",
   "name": "python",
   "nbconvert_exporter": "python",
   "pygments_lexer": "ipython3",
   "version": "3.8.3-final"
  },
  "orig_nbformat": 2,
  "kernelspec": {
   "name": "python3",
   "display_name": "Python 3",
   "language": "python"
  }
 },
 "nbformat": 4,
 "nbformat_minor": 2,
 "cells": [
  {
   "cell_type": "code",
   "execution_count": 2,
   "metadata": {},
   "outputs": [],
   "source": [
    "# We have a csv with the actual stop times.\n",
    "# We have another CSV with the scheduled stop times.\n",
    "# We want to combine them so we can run a linear regression.\n",
    "# We use pandas\n",
    "\n",
    "import pandas as pd \n",
    "CLEAN_DIRECTORY = 'C:/Users/nings/OneDrive - The University of Western Ontario/Scholar\\'s 2200E/clean_data'\n",
    "LTC_DIRECTORY = 'C:/Users/nings/Documents/GitHub/se-2200e/raw_data'\n"
   ]
  },
  {
   "cell_type": "code",
   "execution_count": 6,
   "metadata": {},
   "outputs": [
    {
     "output_type": "execute_result",
     "data": {
      "text/plain": [
       "   trip_id departure_time   stop_id  stop_sequence\n",
       "0  1342560        6:13:00  KIPPADEL              1\n",
       "1  1342560        6:13:51  KIPPBELF              2\n",
       "2  1342560        6:14:41  KIPPBARK              3\n",
       "3  1342560        6:15:13  KIPPARBO              4\n",
       "4  1342560        6:16:04  KIPPBRIA              5"
      ],
      "text/html": "<div>\n<style scoped>\n    .dataframe tbody tr th:only-of-type {\n        vertical-align: middle;\n    }\n\n    .dataframe tbody tr th {\n        vertical-align: top;\n    }\n\n    .dataframe thead th {\n        text-align: right;\n    }\n</style>\n<table border=\"1\" class=\"dataframe\">\n  <thead>\n    <tr style=\"text-align: right;\">\n      <th></th>\n      <th>trip_id</th>\n      <th>departure_time</th>\n      <th>stop_id</th>\n      <th>stop_sequence</th>\n    </tr>\n  </thead>\n  <tbody>\n    <tr>\n      <th>0</th>\n      <td>1342560</td>\n      <td>6:13:00</td>\n      <td>KIPPADEL</td>\n      <td>1</td>\n    </tr>\n    <tr>\n      <th>1</th>\n      <td>1342560</td>\n      <td>6:13:51</td>\n      <td>KIPPBELF</td>\n      <td>2</td>\n    </tr>\n    <tr>\n      <th>2</th>\n      <td>1342560</td>\n      <td>6:14:41</td>\n      <td>KIPPBARK</td>\n      <td>3</td>\n    </tr>\n    <tr>\n      <th>3</th>\n      <td>1342560</td>\n      <td>6:15:13</td>\n      <td>KIPPARBO</td>\n      <td>4</td>\n    </tr>\n    <tr>\n      <th>4</th>\n      <td>1342560</td>\n      <td>6:16:04</td>\n      <td>KIPPBRIA</td>\n      <td>5</td>\n    </tr>\n  </tbody>\n</table>\n</div>"
     },
     "metadata": {},
     "execution_count": 6
    }
   ],
   "source": [
    "schedule_csv_path = LTC_DIRECTORY + '/schedule/stop_times.txt'\n",
    "schedule_df = pd.read_csv(schedule_csv_path)\n",
    "schedule_df = schedule_df.drop(columns=['stop_headsign', 'arrival_time', 'pickup_type', 'drop_off_type', 'timepoint'])\n",
    "schedule_df.head()\n"
   ]
  },
  {
   "cell_type": "code",
   "execution_count": 13,
   "metadata": {},
   "outputs": [
    {
     "output_type": "stream",
     "name": "stdout",
     "text": [
      "<class 'pandas.core.frame.DataFrame'>\nRangeIndex: 6771386 entries, 0 to 6771385\nData columns (total 10 columns):\n #   Column          Dtype \n---  ------          ----- \n 0   trip_id         object\n 1   start_date      object\n 2   start_time      object\n 3   route_id        object\n 4   stop_sequence   object\n 5   departure_time  object\n 6   stop_id         object\n 7   vehicle_id      object\n 8   vehicle_label   object\n 9   timestamp       object\ndtypes: object(10)\nmemory usage: 516.6+ MB\n"
     ]
    },
    {
     "output_type": "execute_result",
     "data": {
      "text/plain": [
       "   trip_id start_date start_time route_id stop_sequence departure_time  \\\n",
       "0  1346803   20201104   11:18:00       24            41     1604508849   \n",
       "1  1346803   20201104   11:18:00       24            42     1604508850   \n",
       "2  1346803   20201104   11:18:00       24            43     1604508889   \n",
       "3  1346803   20201104   11:18:00       24            44     1604508928   \n",
       "4  1346803   20201104   11:18:00       24            45     1604508982   \n",
       "\n",
       "    stop_id vehicle_id vehicle_label   timestamp  \n",
       "0  WESTMAL1       3140           140  1604509170  \n",
       "1  VISCFARN       3140           140  1604509170  \n",
       "2  VISCVIGR       3140           140  1604509170  \n",
       "3  VISCCRAN       3140           140  1604509170  \n",
       "4  CRANBAR2       3140           140  1604509170  "
      ],
      "text/html": "<div>\n<style scoped>\n    .dataframe tbody tr th:only-of-type {\n        vertical-align: middle;\n    }\n\n    .dataframe tbody tr th {\n        vertical-align: top;\n    }\n\n    .dataframe thead th {\n        text-align: right;\n    }\n</style>\n<table border=\"1\" class=\"dataframe\">\n  <thead>\n    <tr style=\"text-align: right;\">\n      <th></th>\n      <th>trip_id</th>\n      <th>start_date</th>\n      <th>start_time</th>\n      <th>route_id</th>\n      <th>stop_sequence</th>\n      <th>departure_time</th>\n      <th>stop_id</th>\n      <th>vehicle_id</th>\n      <th>vehicle_label</th>\n      <th>timestamp</th>\n    </tr>\n  </thead>\n  <tbody>\n    <tr>\n      <th>0</th>\n      <td>1346803</td>\n      <td>20201104</td>\n      <td>11:18:00</td>\n      <td>24</td>\n      <td>41</td>\n      <td>1604508849</td>\n      <td>WESTMAL1</td>\n      <td>3140</td>\n      <td>140</td>\n      <td>1604509170</td>\n    </tr>\n    <tr>\n      <th>1</th>\n      <td>1346803</td>\n      <td>20201104</td>\n      <td>11:18:00</td>\n      <td>24</td>\n      <td>42</td>\n      <td>1604508850</td>\n      <td>VISCFARN</td>\n      <td>3140</td>\n      <td>140</td>\n      <td>1604509170</td>\n    </tr>\n    <tr>\n      <th>2</th>\n      <td>1346803</td>\n      <td>20201104</td>\n      <td>11:18:00</td>\n      <td>24</td>\n      <td>43</td>\n      <td>1604508889</td>\n      <td>VISCVIGR</td>\n      <td>3140</td>\n      <td>140</td>\n      <td>1604509170</td>\n    </tr>\n    <tr>\n      <th>3</th>\n      <td>1346803</td>\n      <td>20201104</td>\n      <td>11:18:00</td>\n      <td>24</td>\n      <td>44</td>\n      <td>1604508928</td>\n      <td>VISCCRAN</td>\n      <td>3140</td>\n      <td>140</td>\n      <td>1604509170</td>\n    </tr>\n    <tr>\n      <th>4</th>\n      <td>1346803</td>\n      <td>20201104</td>\n      <td>11:18:00</td>\n      <td>24</td>\n      <td>45</td>\n      <td>1604508982</td>\n      <td>CRANBAR2</td>\n      <td>3140</td>\n      <td>140</td>\n      <td>1604509170</td>\n    </tr>\n  </tbody>\n</table>\n</div>"
     },
     "metadata": {},
     "execution_count": 13
    }
   ],
   "source": [
    "actual_csv_path = CLEAN_DIRECTORY + '/result.csv'\n",
    "actual_df = pd.read_csv(actual_csv_path, sep=',', error_bad_lines=False, index_col=False, dtype='unicode')\n",
    "actual_df.info()\n",
    "actual_df.head()\n"
   ]
  },
  {
   "cell_type": "code",
   "execution_count": 22,
   "metadata": {},
   "outputs": [
    {
     "output_type": "stream",
     "name": "stdout",
     "text": [
      "<class 'pandas.core.frame.DataFrame'>\nRangeIndex: 6771386 entries, 0 to 6771385\nData columns (total 10 columns):\n #   Column          Dtype         \n---  ------          -----         \n 0   trip_id         int64         \n 1   start_date      object        \n 2   start_time      object        \n 3   route_id        object        \n 4   stop_sequence   int64         \n 5   departure_time  datetime64[ns]\n 6   stop_id         object        \n 7   vehicle_id      object        \n 8   vehicle_label   object        \n 9   timestamp       datetime64[ns]\ndtypes: datetime64[ns](2), int64(2), object(6)\nmemory usage: 516.6+ MB\n"
     ]
    },
    {
     "output_type": "execute_result",
     "data": {
      "text/plain": [
       "   trip_id start_date start_time route_id  stop_sequence      departure_time  \\\n",
       "0  1346803   20201104   11:18:00       24             41 2020-11-04 16:54:09   \n",
       "1  1346803   20201104   11:18:00       24             42 2020-11-04 16:54:10   \n",
       "2  1346803   20201104   11:18:00       24             43 2020-11-04 16:54:49   \n",
       "3  1346803   20201104   11:18:00       24             44 2020-11-04 16:55:28   \n",
       "4  1346803   20201104   11:18:00       24             45 2020-11-04 16:56:22   \n",
       "\n",
       "    stop_id vehicle_id vehicle_label           timestamp  \n",
       "0  WESTMAL1       3140           140 2020-11-04 16:59:30  \n",
       "1  VISCFARN       3140           140 2020-11-04 16:59:30  \n",
       "2  VISCVIGR       3140           140 2020-11-04 16:59:30  \n",
       "3  VISCCRAN       3140           140 2020-11-04 16:59:30  \n",
       "4  CRANBAR2       3140           140 2020-11-04 16:59:30  "
      ],
      "text/html": "<div>\n<style scoped>\n    .dataframe tbody tr th:only-of-type {\n        vertical-align: middle;\n    }\n\n    .dataframe tbody tr th {\n        vertical-align: top;\n    }\n\n    .dataframe thead th {\n        text-align: right;\n    }\n</style>\n<table border=\"1\" class=\"dataframe\">\n  <thead>\n    <tr style=\"text-align: right;\">\n      <th></th>\n      <th>trip_id</th>\n      <th>start_date</th>\n      <th>start_time</th>\n      <th>route_id</th>\n      <th>stop_sequence</th>\n      <th>departure_time</th>\n      <th>stop_id</th>\n      <th>vehicle_id</th>\n      <th>vehicle_label</th>\n      <th>timestamp</th>\n    </tr>\n  </thead>\n  <tbody>\n    <tr>\n      <th>0</th>\n      <td>1346803</td>\n      <td>20201104</td>\n      <td>11:18:00</td>\n      <td>24</td>\n      <td>41</td>\n      <td>2020-11-04 16:54:09</td>\n      <td>WESTMAL1</td>\n      <td>3140</td>\n      <td>140</td>\n      <td>2020-11-04 16:59:30</td>\n    </tr>\n    <tr>\n      <th>1</th>\n      <td>1346803</td>\n      <td>20201104</td>\n      <td>11:18:00</td>\n      <td>24</td>\n      <td>42</td>\n      <td>2020-11-04 16:54:10</td>\n      <td>VISCFARN</td>\n      <td>3140</td>\n      <td>140</td>\n      <td>2020-11-04 16:59:30</td>\n    </tr>\n    <tr>\n      <th>2</th>\n      <td>1346803</td>\n      <td>20201104</td>\n      <td>11:18:00</td>\n      <td>24</td>\n      <td>43</td>\n      <td>2020-11-04 16:54:49</td>\n      <td>VISCVIGR</td>\n      <td>3140</td>\n      <td>140</td>\n      <td>2020-11-04 16:59:30</td>\n    </tr>\n    <tr>\n      <th>3</th>\n      <td>1346803</td>\n      <td>20201104</td>\n      <td>11:18:00</td>\n      <td>24</td>\n      <td>44</td>\n      <td>2020-11-04 16:55:28</td>\n      <td>VISCCRAN</td>\n      <td>3140</td>\n      <td>140</td>\n      <td>2020-11-04 16:59:30</td>\n    </tr>\n    <tr>\n      <th>4</th>\n      <td>1346803</td>\n      <td>20201104</td>\n      <td>11:18:00</td>\n      <td>24</td>\n      <td>45</td>\n      <td>2020-11-04 16:56:22</td>\n      <td>CRANBAR2</td>\n      <td>3140</td>\n      <td>140</td>\n      <td>2020-11-04 16:59:30</td>\n    </tr>\n  </tbody>\n</table>\n</div>"
     },
     "metadata": {},
     "execution_count": 22
    }
   ],
   "source": [
    "actual_df = actual_df.astype(dtype={\n",
    "    'trip_id': 'int64',\n",
    "    'route_id': 'int64',\n",
    "    'stop_sequence': 'int64',\n",
    "    'departure_time': 'datetime64',\n",
    "    'vehicle_id': 'int64',\n",
    "    'timestamp': 'datetime64'\n",
    "}, errors='ignore')\n",
    "actual_df['departure_time'] = pd.to_datetime(actual_df['departure_time'], unit='s')\n",
    "actual_df['timestamp'] = pd.to_datetime(actual_df['timestamp'], unit='s')\n",
    "actual_df.info()\n",
    "actual_df.head()"
   ]
  },
  {
   "cell_type": "code",
   "execution_count": 23,
   "metadata": {},
   "outputs": [
    {
     "output_type": "stream",
     "name": "stdout",
     "text": [
      "<class 'pandas.core.frame.DataFrame'>\nRangeIndex: 6771386 entries, 0 to 6771385\nData columns (total 10 columns):\n #   Column          Dtype         \n---  ------          -----         \n 0   trip_id         int64         \n 1   start_date      object        \n 2   start_time      object        \n 3   route_id        object        \n 4   stop_sequence   int64         \n 5   departure_time  datetime64[ns]\n 6   stop_id         object        \n 7   vehicle_id      object        \n 8   vehicle_label   object        \n 9   timestamp       datetime64[ns]\ndtypes: datetime64[ns](2), int64(2), object(6)\nmemory usage: 516.6+ MB\n"
     ]
    },
    {
     "output_type": "execute_result",
     "data": {
      "text/plain": [
       "   trip_id start_date start_time route_id  stop_sequence    departure_time_x  \\\n",
       "0  1346628   20201104   11:39:00       19              9 2020-11-04 16:47:57   \n",
       "1  1346628   20201105   11:39:00       19              9 2020-11-05 16:43:38   \n",
       "2  1346628   20201106   11:39:00       19              9 2020-11-06 16:43:52   \n",
       "3  1346628   20201109   11:39:00       19              9 2020-11-09 16:42:28   \n",
       "4  1346628   20201110   11:39:00       19              9 2020-11-10 16:42:13   \n",
       "\n",
       "    stop_id vehicle_id vehicle_label           timestamp departure_time_y  \n",
       "0  SUNNYMCA       3141           141 2020-11-04 16:59:31         11:40:27  \n",
       "1  SUNNYMCA       3317           317 2020-11-05 16:52:43         11:40:27  \n",
       "2  SUNNYMCA       3108           108 2020-11-06 16:52:34         11:40:27  \n",
       "3  SUNNYMCA       3153           153 2020-11-09 16:50:47         11:40:27  \n",
       "4  SUNNYMCA       3303           303 2020-11-10 16:50:33         11:40:27  "
      ],
      "text/html": "<div>\n<style scoped>\n    .dataframe tbody tr th:only-of-type {\n        vertical-align: middle;\n    }\n\n    .dataframe tbody tr th {\n        vertical-align: top;\n    }\n\n    .dataframe thead th {\n        text-align: right;\n    }\n</style>\n<table border=\"1\" class=\"dataframe\">\n  <thead>\n    <tr style=\"text-align: right;\">\n      <th></th>\n      <th>trip_id</th>\n      <th>start_date</th>\n      <th>start_time</th>\n      <th>route_id</th>\n      <th>stop_sequence</th>\n      <th>departure_time_x</th>\n      <th>stop_id</th>\n      <th>vehicle_id</th>\n      <th>vehicle_label</th>\n      <th>timestamp</th>\n      <th>departure_time_y</th>\n    </tr>\n  </thead>\n  <tbody>\n    <tr>\n      <th>0</th>\n      <td>1346628</td>\n      <td>20201104</td>\n      <td>11:39:00</td>\n      <td>19</td>\n      <td>9</td>\n      <td>2020-11-04 16:47:57</td>\n      <td>SUNNYMCA</td>\n      <td>3141</td>\n      <td>141</td>\n      <td>2020-11-04 16:59:31</td>\n      <td>11:40:27</td>\n    </tr>\n    <tr>\n      <th>1</th>\n      <td>1346628</td>\n      <td>20201105</td>\n      <td>11:39:00</td>\n      <td>19</td>\n      <td>9</td>\n      <td>2020-11-05 16:43:38</td>\n      <td>SUNNYMCA</td>\n      <td>3317</td>\n      <td>317</td>\n      <td>2020-11-05 16:52:43</td>\n      <td>11:40:27</td>\n    </tr>\n    <tr>\n      <th>2</th>\n      <td>1346628</td>\n      <td>20201106</td>\n      <td>11:39:00</td>\n      <td>19</td>\n      <td>9</td>\n      <td>2020-11-06 16:43:52</td>\n      <td>SUNNYMCA</td>\n      <td>3108</td>\n      <td>108</td>\n      <td>2020-11-06 16:52:34</td>\n      <td>11:40:27</td>\n    </tr>\n    <tr>\n      <th>3</th>\n      <td>1346628</td>\n      <td>20201109</td>\n      <td>11:39:00</td>\n      <td>19</td>\n      <td>9</td>\n      <td>2020-11-09 16:42:28</td>\n      <td>SUNNYMCA</td>\n      <td>3153</td>\n      <td>153</td>\n      <td>2020-11-09 16:50:47</td>\n      <td>11:40:27</td>\n    </tr>\n    <tr>\n      <th>4</th>\n      <td>1346628</td>\n      <td>20201110</td>\n      <td>11:39:00</td>\n      <td>19</td>\n      <td>9</td>\n      <td>2020-11-10 16:42:13</td>\n      <td>SUNNYMCA</td>\n      <td>3303</td>\n      <td>303</td>\n      <td>2020-11-10 16:50:33</td>\n      <td>11:40:27</td>\n    </tr>\n  </tbody>\n</table>\n</div>"
     },
     "metadata": {},
     "execution_count": 23
    }
   ],
   "source": [
    "combined_df = actual_df.merge(schedule_df, how='inner', on=['trip_id', 'stop_id', 'stop_sequence'])\n",
    "actual_df.info()\n",
    "combined_df.head()"
   ]
  },
  {
   "cell_type": "code",
   "execution_count": null,
   "metadata": {},
   "outputs": [],
   "source": []
  }
 ]
}