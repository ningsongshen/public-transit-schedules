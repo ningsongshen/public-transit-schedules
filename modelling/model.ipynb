{
 "metadata": {
  "language_info": {
   "codemirror_mode": {
    "name": "ipython",
    "version": 3
   },
   "file_extension": ".py",
   "mimetype": "text/x-python",
   "name": "python",
   "nbconvert_exporter": "python",
   "pygments_lexer": "ipython3",
   "version": "3.8.3-final"
  },
  "orig_nbformat": 2,
  "kernelspec": {
   "name": "python3",
   "display_name": "Python 3",
   "language": "python"
  }
 },
 "nbformat": 4,
 "nbformat_minor": 2,
 "cells": [
  {
   "cell_type": "code",
   "execution_count": null,
   "metadata": {},
   "outputs": [],
   "source": [
    "# We have a csv with the actual stop times.\n",
    "# We have another CSV with the scheduled stop times.\n",
    "# We want to combine them so we can run a linear regression.\n",
    "# We use pandas\n",
    "\n",
    "import pandas as pd\n",
    "from sklearn.linear_model import LinearRegression\n",
    "\n",
    "import pytz\n",
    "RESULT_DIRECTORY = 'C:/Users/nings/OneDrive - The University of Western Ontario/Scholar\\'s 2200E/result_data'\n",
    "LTC_DIRECTORY = 'C:/Users/nings/Documents/GitHub/se-2200e/raw_data'\n"
   ]
  },
  {
   "cell_type": "code",
   "execution_count": null,
   "metadata": {},
   "outputs": [],
   "source": [
    "schedule_csv_path = LTC_DIRECTORY + '/schedule/stop_times.txt'\n",
    "schedule_df = pd.read_csv(schedule_csv_path)\n",
    "schedule_df = schedule_df.drop(columns=['stop_headsign', 'arrival_time', 'pickup_type', 'drop_off_type', 'timepoint'])\n",
    "schedule_df.head()\n"
   ]
  },
  {
   "cell_type": "code",
   "execution_count": null,
   "metadata": {},
   "outputs": [],
   "source": [
    "schedule_df['trip_id'] = pd.to_numeric(schedule_df['trip_id'], errors='coerce').fillna(0).astype(int)\n",
    "schedule_df['departure_time'] = pd.to_datetime(schedule_df['departure_time'], format='%H:%M:%S', errors='coerce')\n",
    "schedule_df['stop_sequence'] = pd.to_numeric(schedule_df['stop_sequence'], errors='coerce').fillna(0).astype(int)\n",
    "schedule_df['stop_id'] = schedule_df['stop_id'].astype('category')\n",
    "eastern = pytz.timezone('America/Toronto')\n",
    "\n",
    "schedule_df.info()\n",
    "schedule_df.head()"
   ]
  },
  {
   "cell_type": "code",
   "execution_count": null,
   "metadata": {},
   "outputs": [],
   "source": [
    "csv_path = RESULT_DIRECTORY + '/result.csv'\n",
    "actual_df = pd.read_csv(csv_path, sep=',', error_bad_lines=False, index_col=False)\n",
    "actual_df = actual_df.rename(columns={'departure_time': 'actual_departure_time'})\n",
    "actual_df.info()\n",
    "actual_df.head()\n"
   ]
  },
  {
   "cell_type": "code",
   "execution_count": null,
   "metadata": {},
   "outputs": [],
   "source": [
    "actual_df['trip_id'] = pd.to_numeric(actual_df['trip_id'], errors='coerce').fillna(0).astype(int)\n",
    "actual_df['route_id'] = pd.to_numeric(actual_df['route_id'], errors='coerce').fillna(0).astype(int)\n",
    "actual_df['stop_sequence'] = pd.to_numeric(actual_df['stop_sequence'], errors='coerce').fillna(0).astype(int)\n",
    "actual_df['vehicle_id'] = pd.to_numeric(actual_df['vehicle_id'], errors='coerce').fillna(0).astype(int)\n",
    "actual_df['vehicle_label'] = pd.to_numeric(actual_df['vehicle_label'], errors='coerce').fillna(0).astype(int)\n",
    "actual_df.info()\n",
    "actual_df.head()"
   ]
  },
  {
   "cell_type": "code",
   "execution_count": null,
   "metadata": {},
   "outputs": [],
   "source": [
    "actual_df['actual_departure_time'] = pd.to_datetime(actual_df['actual_departure_time'], unit='s', errors='coerce').dt.tz_localize('utc').dt.tz_convert('America/Toronto')\n",
    "actual_df['timestamp'] = pd.to_datetime(actual_df['timestamp'], unit='s', errors='coerce').dt.tz_localize('utc').dt.tz_convert('America/Toronto')\n",
    "actual_df['stop_id'] = actual_df['stop_id'].astype('category')\n",
    "# actual_df['start_date'] = pd.to_datetime(actual_df['start_date'], infer_datetime_format=True, errors='coerce')\n",
    "# actual_df['start_time'] = pd.to_datetime(actual_df['start_time'], infer_datetime_format=True, errors='coerce')\n",
    "\n",
    "actual_df.info()\n",
    "actual_df.head(50)"
   ]
  },
  {
   "cell_type": "code",
   "execution_count": null,
   "metadata": {},
   "outputs": [],
   "source": [
    "combined_df = actual_df.merge(schedule_df, how='inner', on=['trip_id', 'stop_id', 'stop_sequence'])\n",
    "combined_df.info()\n",
    "combined_df.head(500)"
   ]
  },
  {
   "cell_type": "code",
   "execution_count": null,
   "metadata": {},
   "outputs": [],
   "source": [
    "combined_df['actual_departure_time'] = combined_df['actual_departure_time'].values.astype(int)\n",
    "combined_df['departure_time'] = combined_df['departure_time'].values.astype(int)"
   ]
  },
  {
   "cell_type": "code",
   "execution_count": null,
   "metadata": {},
   "outputs": [],
   "source": [
    "# import seaborn as sns\n",
    "# sns.relplot(data=combined_df, x='departure_time', y='actual_departure_time')"
   ]
  },
  {
   "cell_type": "code",
   "execution_count": null,
   "metadata": {},
   "outputs": [],
   "source": [
    "X = combined_df[['trip_id', 'route_id', 'stop_sequence', 'actual_departure_time', 'vehicle_id']]\n",
    "Y = combined_df['departure_time']\n",
    "reg = LinearRegression().fit(X, Y)\n",
    "reg.score(X, Y)"
   ]
  },
  {
   "cell_type": "code",
   "execution_count": null,
   "metadata": {},
   "outputs": [],
   "source": [
    "# reg.predict([])"
   ]
  }
 ]
}