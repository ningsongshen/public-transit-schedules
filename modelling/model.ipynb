{
 "metadata": {
  "language_info": {
   "codemirror_mode": {
    "name": "ipython",
    "version": 3
   },
   "file_extension": ".py",
   "mimetype": "text/x-python",
   "name": "python",
   "nbconvert_exporter": "python",
   "pygments_lexer": "ipython3",
   "version": "3.8.3-final"
  },
  "orig_nbformat": 2,
  "kernelspec": {
   "name": "python3",
   "display_name": "Python 3",
   "language": "python"
  }
 },
 "nbformat": 4,
 "nbformat_minor": 2,
 "cells": [
  {
   "source": [
    "# SE-2200E Model Generation\n",
    "\n",
    "Get inspired: https://machinelearningmastery.com/start-here/#process\n",
    "\n",
    "We have CSVs with actual stop times, scheduled stop times, and we want to combine them to run a regression to predict future times. "
   ],
   "cell_type": "markdown",
   "metadata": {}
  },
  {
   "cell_type": "code",
   "execution_count": 1,
   "metadata": {},
   "outputs": [],
   "source": [
    "import pandas as pd\n",
    "import pytz\n",
    "from sklearn.linear_model import LinearRegression\n",
    "\n",
    "REALTIME_DATA_PATH = 'C:/Users/nings/OneDrive - The University of Western Ontario/Scholar\\'s 2200E/result_data/result.csv'\n",
    "SCHEDULE_DATA_PATH = 'C:/Users/nings/Documents/GitHub/se-2200e/raw_data/schedule/stop_times.txt'"
   ]
  },
  {
   "source": [
    "## Data Preparation\n",
    "Remove excess features, identify outliers, regularization, transformation"
   ],
   "cell_type": "markdown",
   "metadata": {}
  },
  {
   "cell_type": "code",
   "execution_count": 7,
   "metadata": {},
   "outputs": [
    {
     "output_type": "execute_result",
     "data": {
      "text/plain": [
       "   trip_id start_date start_time route_id stop_sequence  \\\n",
       "0  1346803   20201104   11:18:00       24            41   \n",
       "1  1346803   20201105   11:18:00       24            41   \n",
       "2  1346803   20201106   11:18:00       24            41   \n",
       "3  1346803   20201109   11:18:00       24            41   \n",
       "4  1346803   20201110   11:18:00       24            41   \n",
       "\n",
       "  realtime_departure_time vehicle_id scheduled_departure_time  \n",
       "0              1604508849       3140                 11:53:34  \n",
       "1              1604595120       3177                 11:53:34  \n",
       "2              1604681520       3143                 11:53:34  \n",
       "3              1604940720       3144                 11:53:34  \n",
       "4              1605027120       3178                 11:53:34  "
      ],
      "text/html": "<div>\n<style scoped>\n    .dataframe tbody tr th:only-of-type {\n        vertical-align: middle;\n    }\n\n    .dataframe tbody tr th {\n        vertical-align: top;\n    }\n\n    .dataframe thead th {\n        text-align: right;\n    }\n</style>\n<table border=\"1\" class=\"dataframe\">\n  <thead>\n    <tr style=\"text-align: right;\">\n      <th></th>\n      <th>trip_id</th>\n      <th>start_date</th>\n      <th>start_time</th>\n      <th>route_id</th>\n      <th>stop_sequence</th>\n      <th>realtime_departure_time</th>\n      <th>vehicle_id</th>\n      <th>scheduled_departure_time</th>\n    </tr>\n  </thead>\n  <tbody>\n    <tr>\n      <th>0</th>\n      <td>1346803</td>\n      <td>20201104</td>\n      <td>11:18:00</td>\n      <td>24</td>\n      <td>41</td>\n      <td>1604508849</td>\n      <td>3140</td>\n      <td>11:53:34</td>\n    </tr>\n    <tr>\n      <th>1</th>\n      <td>1346803</td>\n      <td>20201105</td>\n      <td>11:18:00</td>\n      <td>24</td>\n      <td>41</td>\n      <td>1604595120</td>\n      <td>3177</td>\n      <td>11:53:34</td>\n    </tr>\n    <tr>\n      <th>2</th>\n      <td>1346803</td>\n      <td>20201106</td>\n      <td>11:18:00</td>\n      <td>24</td>\n      <td>41</td>\n      <td>1604681520</td>\n      <td>3143</td>\n      <td>11:53:34</td>\n    </tr>\n    <tr>\n      <th>3</th>\n      <td>1346803</td>\n      <td>20201109</td>\n      <td>11:18:00</td>\n      <td>24</td>\n      <td>41</td>\n      <td>1604940720</td>\n      <td>3144</td>\n      <td>11:53:34</td>\n    </tr>\n    <tr>\n      <th>4</th>\n      <td>1346803</td>\n      <td>20201110</td>\n      <td>11:18:00</td>\n      <td>24</td>\n      <td>41</td>\n      <td>1605027120</td>\n      <td>3178</td>\n      <td>11:53:34</td>\n    </tr>\n  </tbody>\n</table>\n</div>"
     },
     "metadata": {},
     "execution_count": 7
    }
   ],
   "source": [
    "realtime_df = pd.read_csv(REALTIME_DATA_PATH, sep=',', error_bad_lines=False, index_col=False)\n",
    "realtime_df = realtime_df.drop(columns=['stop_id', 'vehicle_label', 'timestamp'])\n",
    "realtime_df = realtime_df.rename(columns={'departure_time': 'realtime_departure_time'})\n",
    "\n",
    "schedule_df = pd.read_csv(SCHEDULE_DATA_PATH, sep=',', error_bad_lines=False, index_col=False)\n",
    "schedule_df = schedule_df.drop(columns=['arrival_time', 'drop_off_type', 'pickup_type', 'stop_headsign', 'stop_id', 'timepoint'])\n",
    "schedule_df = schedule_df.rename(columns={'departure_time': 'scheduled_departure_time'})\n",
    "\n",
    "combined_df = realtime_df.merge(schedule_df, how='inner', on=['trip_id', 'stop_sequence'])\n",
    "combined_df.head()\n",
    "\n"
   ]
  },
  {
   "cell_type": "code",
   "execution_count": 16,
   "metadata": {},
   "outputs": [
    {
     "output_type": "stream",
     "name": "stdout",
     "text": [
      "<class 'pandas.core.frame.DataFrame'>\nInt64Index: 3128386 entries, 0 to 3128385\nData columns (total 8 columns):\n #   Column                    Dtype                          \n---  ------                    -----                          \n 0   trip_id                   category                       \n 1   start_date                object                         \n 2   start_time                object                         \n 3   route_id                  category                       \n 4   stop_sequence             int32                          \n 5   realtime_departure_time   datetime64[ns, America/Toronto]\n 6   vehicle_id                category                       \n 7   scheduled_departure_time  datetime64[ns]                 \ndtypes: category(3), datetime64[ns, America/Toronto](1), datetime64[ns](1), int32(1), object(2)\nmemory usage: 226.4+ MB\n"
     ]
    },
    {
     "output_type": "execute_result",
     "data": {
      "text/plain": [
       "   trip_id start_date start_time route_id  stop_sequence  \\\n",
       "0  1346803   20201104   11:18:00       24             41   \n",
       "1  1346803   20201105   11:18:00       24             41   \n",
       "2  1346803   20201106   11:18:00       24             41   \n",
       "3  1346803   20201109   11:18:00       24             41   \n",
       "4  1346803   20201110   11:18:00       24             41   \n",
       "\n",
       "    realtime_departure_time vehicle_id scheduled_departure_time  \n",
       "0 2020-11-04 11:54:09-05:00     3140.0      1900-01-01 11:53:34  \n",
       "1 2020-11-05 11:52:00-05:00     3177.0      1900-01-01 11:53:34  \n",
       "2 2020-11-06 11:52:00-05:00     3143.0      1900-01-01 11:53:34  \n",
       "3 2020-11-09 11:52:00-05:00     3144.0      1900-01-01 11:53:34  \n",
       "4 2020-11-10 11:52:00-05:00     3178.0      1900-01-01 11:53:34  "
      ],
      "text/html": "<div>\n<style scoped>\n    .dataframe tbody tr th:only-of-type {\n        vertical-align: middle;\n    }\n\n    .dataframe tbody tr th {\n        vertical-align: top;\n    }\n\n    .dataframe thead th {\n        text-align: right;\n    }\n</style>\n<table border=\"1\" class=\"dataframe\">\n  <thead>\n    <tr style=\"text-align: right;\">\n      <th></th>\n      <th>trip_id</th>\n      <th>start_date</th>\n      <th>start_time</th>\n      <th>route_id</th>\n      <th>stop_sequence</th>\n      <th>realtime_departure_time</th>\n      <th>vehicle_id</th>\n      <th>scheduled_departure_time</th>\n    </tr>\n  </thead>\n  <tbody>\n    <tr>\n      <th>0</th>\n      <td>1346803</td>\n      <td>20201104</td>\n      <td>11:18:00</td>\n      <td>24</td>\n      <td>41</td>\n      <td>2020-11-04 11:54:09-05:00</td>\n      <td>3140.0</td>\n      <td>1900-01-01 11:53:34</td>\n    </tr>\n    <tr>\n      <th>1</th>\n      <td>1346803</td>\n      <td>20201105</td>\n      <td>11:18:00</td>\n      <td>24</td>\n      <td>41</td>\n      <td>2020-11-05 11:52:00-05:00</td>\n      <td>3177.0</td>\n      <td>1900-01-01 11:53:34</td>\n    </tr>\n    <tr>\n      <th>2</th>\n      <td>1346803</td>\n      <td>20201106</td>\n      <td>11:18:00</td>\n      <td>24</td>\n      <td>41</td>\n      <td>2020-11-06 11:52:00-05:00</td>\n      <td>3143.0</td>\n      <td>1900-01-01 11:53:34</td>\n    </tr>\n    <tr>\n      <th>3</th>\n      <td>1346803</td>\n      <td>20201109</td>\n      <td>11:18:00</td>\n      <td>24</td>\n      <td>41</td>\n      <td>2020-11-09 11:52:00-05:00</td>\n      <td>3144.0</td>\n      <td>1900-01-01 11:53:34</td>\n    </tr>\n    <tr>\n      <th>4</th>\n      <td>1346803</td>\n      <td>20201110</td>\n      <td>11:18:00</td>\n      <td>24</td>\n      <td>41</td>\n      <td>2020-11-10 11:52:00-05:00</td>\n      <td>3178.0</td>\n      <td>1900-01-01 11:53:34</td>\n    </tr>\n  </tbody>\n</table>\n</div>"
     },
     "metadata": {},
     "execution_count": 16
    }
   ],
   "source": [
    "# Categorical\n",
    "combined_df['trip_id'] = pd.Categorical(combined_df['trip_id'])\n",
    "\n",
    "# Categorical\n",
    "combined_df['route_id'] = pd.Categorical(combined_df['route_id'])\n",
    "\n",
    "# Numeric\n",
    "combined_df['stop_sequence'] = pd.to_numeric(combined_df['stop_sequence'], errors='coerce').fillna(0).astype(int)\n",
    "\n",
    "# Convert UTC to EST\n",
    "try:\n",
    "    combined_df['realtime_departure_time'] = pd.to_datetime(combined_df['realtime_departure_time'], unit='s', errors='coerce').dt.tz_localize('utc').dt.tz_convert('America/Toronto')\n",
    "except TypeError:\n",
    "    pass\n",
    "\n",
    "# Categorical\n",
    "combined_df['vehicle_id'] = pd.Categorical(combined_df['vehicle_id'])\n",
    "\n",
    "# Time\n",
    "combined_df['scheduled_departure_time'] = pd.to_datetime(combined_df['scheduled_departure_time'], format='%H:%M:%S', errors='coerce')\n",
    "\n",
    "combined_df.info()\n",
    "combined_df.head()"
   ]
  },
  {
   "source": [
    "## Algorithm Spot Check\n",
    "Test and train, is it necessary for linear regression?"
   ],
   "cell_type": "markdown",
   "metadata": {}
  },
  {
   "cell_type": "code",
   "execution_count": 18,
   "metadata": {},
   "outputs": [],
   "source": [
    "combined_df['realtime_departure_time'] = combined_df['realtime_departure_time'].values.astype(int)\n",
    "combined_df['scheduled_departure_time'] = combined_df['scheduled_departure_time'].values.astype(int)"
   ]
  },
  {
   "cell_type": "code",
   "execution_count": 19,
   "metadata": {},
   "outputs": [],
   "source": [
    "# import seaborn as sns\n",
    "# sns.relplot(data=combined_df, x='departure_time', y='actual_departure_time')"
   ]
  },
  {
   "cell_type": "code",
   "execution_count": 22,
   "metadata": {},
   "outputs": [
    {
     "output_type": "execute_result",
     "data": {
      "text/plain": [
       "7.00048850532653e-06"
      ]
     },
     "metadata": {},
     "execution_count": 22
    }
   ],
   "source": [
    "X = combined_df[['stop_sequence', 'realtime_departure_time']]\n",
    "Y = combined_df['scheduled_departure_time']\n",
    "reg = LinearRegression().fit(X, Y)\n",
    "reg.score(X, Y)"
   ]
  },
  {
   "cell_type": "code",
   "execution_count": 24,
   "metadata": {},
   "outputs": [
    {
     "output_type": "execute_result",
     "data": {
      "text/plain": [
       "array([-3070230.64344943])"
      ]
     },
     "metadata": {},
     "execution_count": 24
    }
   ],
   "source": [
    "import numpy as np\n",
    "reg.predict(np.array([41, 1604508849]).reshape(1, -1))"
   ]
  },
  {
   "source": [
    "## Model Usage\n",
    "Get a trained model paramaters and use it to predict live data from transit feeds using the AWS vm."
   ],
   "cell_type": "markdown",
   "metadata": {}
  }
 ]
}