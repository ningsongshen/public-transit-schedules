{
 "metadata": {
  "language_info": {
   "codemirror_mode": {
    "name": "ipython",
    "version": 3
   },
   "file_extension": ".py",
   "mimetype": "text/x-python",
   "name": "python",
   "nbconvert_exporter": "python",
   "pygments_lexer": "ipython3",
   "version": "3.8.3-final"
  },
  "orig_nbformat": 2,
  "kernelspec": {
   "name": "python3",
   "display_name": "Python 3",
   "language": "python"
  }
 },
 "nbformat": 4,
 "nbformat_minor": 2,
 "cells": [
  {
   "cell_type": "code",
   "execution_count": 1,
   "metadata": {},
   "outputs": [],
   "source": [
    "# We have a csv with the actual stop times.\n",
    "# We have another CSV with the scheduled stop times.\n",
    "# We want to combine them so we can run a linear regression.\n",
    "# We use pandas\n",
    "\n",
    "import pandas as pd\n",
    "from sklearn.linear_model import LinearRegression\n",
    "\n",
    "import pytz\n",
    "RESULT_DIRECTORY = 'C:/Users/nings/OneDrive - The University of Western Ontario/Scholar\\'s 2200E/result_data'\n",
    "LTC_DIRECTORY = 'C:/Users/nings/Documents/GitHub/se-2200e/raw_data'\n"
   ]
  },
  {
   "cell_type": "code",
   "execution_count": 2,
   "metadata": {},
   "outputs": [
    {
     "output_type": "execute_result",
     "data": {
      "text/plain": [
       "   trip_id departure_time   stop_id  stop_sequence\n",
       "0  1342560        6:13:00  KIPPADEL              1\n",
       "1  1342560        6:13:51  KIPPBELF              2\n",
       "2  1342560        6:14:41  KIPPBARK              3\n",
       "3  1342560        6:15:13  KIPPARBO              4\n",
       "4  1342560        6:16:04  KIPPBRIA              5"
      ],
      "text/html": "<div>\n<style scoped>\n    .dataframe tbody tr th:only-of-type {\n        vertical-align: middle;\n    }\n\n    .dataframe tbody tr th {\n        vertical-align: top;\n    }\n\n    .dataframe thead th {\n        text-align: right;\n    }\n</style>\n<table border=\"1\" class=\"dataframe\">\n  <thead>\n    <tr style=\"text-align: right;\">\n      <th></th>\n      <th>trip_id</th>\n      <th>departure_time</th>\n      <th>stop_id</th>\n      <th>stop_sequence</th>\n    </tr>\n  </thead>\n  <tbody>\n    <tr>\n      <th>0</th>\n      <td>1342560</td>\n      <td>6:13:00</td>\n      <td>KIPPADEL</td>\n      <td>1</td>\n    </tr>\n    <tr>\n      <th>1</th>\n      <td>1342560</td>\n      <td>6:13:51</td>\n      <td>KIPPBELF</td>\n      <td>2</td>\n    </tr>\n    <tr>\n      <th>2</th>\n      <td>1342560</td>\n      <td>6:14:41</td>\n      <td>KIPPBARK</td>\n      <td>3</td>\n    </tr>\n    <tr>\n      <th>3</th>\n      <td>1342560</td>\n      <td>6:15:13</td>\n      <td>KIPPARBO</td>\n      <td>4</td>\n    </tr>\n    <tr>\n      <th>4</th>\n      <td>1342560</td>\n      <td>6:16:04</td>\n      <td>KIPPBRIA</td>\n      <td>5</td>\n    </tr>\n  </tbody>\n</table>\n</div>"
     },
     "metadata": {},
     "execution_count": 2
    }
   ],
   "source": [
    "schedule_csv_path = LTC_DIRECTORY + '/schedule/stop_times.txt'\n",
    "schedule_df = pd.read_csv(schedule_csv_path)\n",
    "schedule_df = schedule_df.drop(columns=['stop_headsign', 'arrival_time', 'pickup_type', 'drop_off_type', 'timepoint'])\n",
    "schedule_df.head()\n"
   ]
  },
  {
   "cell_type": "code",
   "execution_count": 3,
   "metadata": {},
   "outputs": [
    {
     "output_type": "stream",
     "name": "stdout",
     "text": [
      "<class 'pandas.core.frame.DataFrame'>\nRangeIndex: 314334 entries, 0 to 314333\nData columns (total 4 columns):\n #   Column          Non-Null Count   Dtype         \n---  ------          --------------   -----         \n 0   trip_id         314334 non-null  int32         \n 1   departure_time  309366 non-null  datetime64[ns]\n 2   stop_id         314334 non-null  category      \n 3   stop_sequence   314334 non-null  int32         \ndtypes: category(1), datetime64[ns](1), int32(2)\nmemory usage: 5.5 MB\n"
     ]
    },
    {
     "output_type": "execute_result",
     "data": {
      "text/plain": [
       "   trip_id      departure_time   stop_id  stop_sequence\n",
       "0  1342560 1900-01-01 06:13:00  KIPPADEL              1\n",
       "1  1342560 1900-01-01 06:13:51  KIPPBELF              2\n",
       "2  1342560 1900-01-01 06:14:41  KIPPBARK              3\n",
       "3  1342560 1900-01-01 06:15:13  KIPPARBO              4\n",
       "4  1342560 1900-01-01 06:16:04  KIPPBRIA              5"
      ],
      "text/html": "<div>\n<style scoped>\n    .dataframe tbody tr th:only-of-type {\n        vertical-align: middle;\n    }\n\n    .dataframe tbody tr th {\n        vertical-align: top;\n    }\n\n    .dataframe thead th {\n        text-align: right;\n    }\n</style>\n<table border=\"1\" class=\"dataframe\">\n  <thead>\n    <tr style=\"text-align: right;\">\n      <th></th>\n      <th>trip_id</th>\n      <th>departure_time</th>\n      <th>stop_id</th>\n      <th>stop_sequence</th>\n    </tr>\n  </thead>\n  <tbody>\n    <tr>\n      <th>0</th>\n      <td>1342560</td>\n      <td>1900-01-01 06:13:00</td>\n      <td>KIPPADEL</td>\n      <td>1</td>\n    </tr>\n    <tr>\n      <th>1</th>\n      <td>1342560</td>\n      <td>1900-01-01 06:13:51</td>\n      <td>KIPPBELF</td>\n      <td>2</td>\n    </tr>\n    <tr>\n      <th>2</th>\n      <td>1342560</td>\n      <td>1900-01-01 06:14:41</td>\n      <td>KIPPBARK</td>\n      <td>3</td>\n    </tr>\n    <tr>\n      <th>3</th>\n      <td>1342560</td>\n      <td>1900-01-01 06:15:13</td>\n      <td>KIPPARBO</td>\n      <td>4</td>\n    </tr>\n    <tr>\n      <th>4</th>\n      <td>1342560</td>\n      <td>1900-01-01 06:16:04</td>\n      <td>KIPPBRIA</td>\n      <td>5</td>\n    </tr>\n  </tbody>\n</table>\n</div>"
     },
     "metadata": {},
     "execution_count": 3
    }
   ],
   "source": [
    "schedule_df['trip_id'] = pd.to_numeric(schedule_df['trip_id'], errors='coerce').fillna(0).astype(int)\n",
    "schedule_df['departure_time'] = pd.to_datetime(schedule_df['departure_time'], format='%H:%M:%S', errors='coerce')\n",
    "schedule_df['stop_sequence'] = pd.to_numeric(schedule_df['stop_sequence'], errors='coerce').fillna(0).astype(int)\n",
    "schedule_df['stop_id'] = schedule_df['stop_id'].astype('category')\n",
    "eastern = pytz.timezone('America/Toronto')\n",
    "\n",
    "schedule_df.info()\n",
    "schedule_df.head()"
   ]
  },
  {
   "cell_type": "code",
   "execution_count": 4,
   "metadata": {},
   "outputs": [
    {
     "output_type": "stream",
     "name": "stdout",
     "text": [
      "<class 'pandas.core.frame.DataFrame'>\nRangeIndex: 6387017 entries, 0 to 6387016\nData columns (total 10 columns):\n #   Column                 Dtype \n---  ------                 ----- \n 0   trip_id                object\n 1   start_date             object\n 2   start_time             object\n 3   route_id               object\n 4   stop_sequence          object\n 5   actual_departure_time  object\n 6   stop_id                object\n 7   vehicle_id             object\n 8   vehicle_label          object\n 9   timestamp              object\ndtypes: object(10)\nmemory usage: 487.3+ MB\n"
     ]
    },
    {
     "output_type": "execute_result",
     "data": {
      "text/plain": [
       "   trip_id start_date start_time route_id stop_sequence actual_departure_time  \\\n",
       "0  1346803   20201104   11:18:00       24            41            1604508849   \n",
       "1  1346803   20201104   11:18:00       24            42            1604508850   \n",
       "2  1346803   20201104   11:18:00       24            43            1604508889   \n",
       "3  1346803   20201104   11:18:00       24            44            1604508928   \n",
       "4  1346803   20201104   11:18:00       24            45            1604508982   \n",
       "\n",
       "    stop_id vehicle_id vehicle_label   timestamp  \n",
       "0  WESTMAL1       3140           140  1604509170  \n",
       "1  VISCFARN       3140           140  1604509170  \n",
       "2  VISCVIGR       3140           140  1604509170  \n",
       "3  VISCCRAN       3140           140  1604509170  \n",
       "4  CRANBAR2       3140           140  1604509170  "
      ],
      "text/html": "<div>\n<style scoped>\n    .dataframe tbody tr th:only-of-type {\n        vertical-align: middle;\n    }\n\n    .dataframe tbody tr th {\n        vertical-align: top;\n    }\n\n    .dataframe thead th {\n        text-align: right;\n    }\n</style>\n<table border=\"1\" class=\"dataframe\">\n  <thead>\n    <tr style=\"text-align: right;\">\n      <th></th>\n      <th>trip_id</th>\n      <th>start_date</th>\n      <th>start_time</th>\n      <th>route_id</th>\n      <th>stop_sequence</th>\n      <th>actual_departure_time</th>\n      <th>stop_id</th>\n      <th>vehicle_id</th>\n      <th>vehicle_label</th>\n      <th>timestamp</th>\n    </tr>\n  </thead>\n  <tbody>\n    <tr>\n      <th>0</th>\n      <td>1346803</td>\n      <td>20201104</td>\n      <td>11:18:00</td>\n      <td>24</td>\n      <td>41</td>\n      <td>1604508849</td>\n      <td>WESTMAL1</td>\n      <td>3140</td>\n      <td>140</td>\n      <td>1604509170</td>\n    </tr>\n    <tr>\n      <th>1</th>\n      <td>1346803</td>\n      <td>20201104</td>\n      <td>11:18:00</td>\n      <td>24</td>\n      <td>42</td>\n      <td>1604508850</td>\n      <td>VISCFARN</td>\n      <td>3140</td>\n      <td>140</td>\n      <td>1604509170</td>\n    </tr>\n    <tr>\n      <th>2</th>\n      <td>1346803</td>\n      <td>20201104</td>\n      <td>11:18:00</td>\n      <td>24</td>\n      <td>43</td>\n      <td>1604508889</td>\n      <td>VISCVIGR</td>\n      <td>3140</td>\n      <td>140</td>\n      <td>1604509170</td>\n    </tr>\n    <tr>\n      <th>3</th>\n      <td>1346803</td>\n      <td>20201104</td>\n      <td>11:18:00</td>\n      <td>24</td>\n      <td>44</td>\n      <td>1604508928</td>\n      <td>VISCCRAN</td>\n      <td>3140</td>\n      <td>140</td>\n      <td>1604509170</td>\n    </tr>\n    <tr>\n      <th>4</th>\n      <td>1346803</td>\n      <td>20201104</td>\n      <td>11:18:00</td>\n      <td>24</td>\n      <td>45</td>\n      <td>1604508982</td>\n      <td>CRANBAR2</td>\n      <td>3140</td>\n      <td>140</td>\n      <td>1604509170</td>\n    </tr>\n  </tbody>\n</table>\n</div>"
     },
     "metadata": {},
     "execution_count": 4
    }
   ],
   "source": [
    "csv_path = RESULT_DIRECTORY + '/result.csv'\n",
    "actual_df = pd.read_csv(csv_path, sep=',', error_bad_lines=False, index_col=False)\n",
    "actual_df = actual_df.rename(columns={'departure_time': 'actual_departure_time'})\n",
    "actual_df.info()\n",
    "actual_df.head()\n"
   ]
  },
  {
   "cell_type": "code",
   "execution_count": 5,
   "metadata": {},
   "outputs": [
    {
     "output_type": "stream",
     "name": "stdout",
     "text": [
      "<class 'pandas.core.frame.DataFrame'>\nRangeIndex: 6387017 entries, 0 to 6387016\nData columns (total 10 columns):\n #   Column                 Dtype \n---  ------                 ----- \n 0   trip_id                int32 \n 1   start_date             object\n 2   start_time             object\n 3   route_id               int32 \n 4   stop_sequence          int32 \n 5   actual_departure_time  object\n 6   stop_id                object\n 7   vehicle_id             int32 \n 8   vehicle_label          int32 \n 9   timestamp              object\ndtypes: int32(5), object(5)\nmemory usage: 365.5+ MB\n"
     ]
    },
    {
     "output_type": "execute_result",
     "data": {
      "text/plain": [
       "   trip_id start_date start_time  route_id  stop_sequence  \\\n",
       "0  1346803   20201104   11:18:00        24             41   \n",
       "1  1346803   20201104   11:18:00        24             42   \n",
       "2  1346803   20201104   11:18:00        24             43   \n",
       "3  1346803   20201104   11:18:00        24             44   \n",
       "4  1346803   20201104   11:18:00        24             45   \n",
       "\n",
       "  actual_departure_time   stop_id  vehicle_id  vehicle_label   timestamp  \n",
       "0            1604508849  WESTMAL1        3140            140  1604509170  \n",
       "1            1604508850  VISCFARN        3140            140  1604509170  \n",
       "2            1604508889  VISCVIGR        3140            140  1604509170  \n",
       "3            1604508928  VISCCRAN        3140            140  1604509170  \n",
       "4            1604508982  CRANBAR2        3140            140  1604509170  "
      ],
      "text/html": "<div>\n<style scoped>\n    .dataframe tbody tr th:only-of-type {\n        vertical-align: middle;\n    }\n\n    .dataframe tbody tr th {\n        vertical-align: top;\n    }\n\n    .dataframe thead th {\n        text-align: right;\n    }\n</style>\n<table border=\"1\" class=\"dataframe\">\n  <thead>\n    <tr style=\"text-align: right;\">\n      <th></th>\n      <th>trip_id</th>\n      <th>start_date</th>\n      <th>start_time</th>\n      <th>route_id</th>\n      <th>stop_sequence</th>\n      <th>actual_departure_time</th>\n      <th>stop_id</th>\n      <th>vehicle_id</th>\n      <th>vehicle_label</th>\n      <th>timestamp</th>\n    </tr>\n  </thead>\n  <tbody>\n    <tr>\n      <th>0</th>\n      <td>1346803</td>\n      <td>20201104</td>\n      <td>11:18:00</td>\n      <td>24</td>\n      <td>41</td>\n      <td>1604508849</td>\n      <td>WESTMAL1</td>\n      <td>3140</td>\n      <td>140</td>\n      <td>1604509170</td>\n    </tr>\n    <tr>\n      <th>1</th>\n      <td>1346803</td>\n      <td>20201104</td>\n      <td>11:18:00</td>\n      <td>24</td>\n      <td>42</td>\n      <td>1604508850</td>\n      <td>VISCFARN</td>\n      <td>3140</td>\n      <td>140</td>\n      <td>1604509170</td>\n    </tr>\n    <tr>\n      <th>2</th>\n      <td>1346803</td>\n      <td>20201104</td>\n      <td>11:18:00</td>\n      <td>24</td>\n      <td>43</td>\n      <td>1604508889</td>\n      <td>VISCVIGR</td>\n      <td>3140</td>\n      <td>140</td>\n      <td>1604509170</td>\n    </tr>\n    <tr>\n      <th>3</th>\n      <td>1346803</td>\n      <td>20201104</td>\n      <td>11:18:00</td>\n      <td>24</td>\n      <td>44</td>\n      <td>1604508928</td>\n      <td>VISCCRAN</td>\n      <td>3140</td>\n      <td>140</td>\n      <td>1604509170</td>\n    </tr>\n    <tr>\n      <th>4</th>\n      <td>1346803</td>\n      <td>20201104</td>\n      <td>11:18:00</td>\n      <td>24</td>\n      <td>45</td>\n      <td>1604508982</td>\n      <td>CRANBAR2</td>\n      <td>3140</td>\n      <td>140</td>\n      <td>1604509170</td>\n    </tr>\n  </tbody>\n</table>\n</div>"
     },
     "metadata": {},
     "execution_count": 5
    }
   ],
   "source": [
    "actual_df['trip_id'] = pd.to_numeric(actual_df['trip_id'], errors='coerce').fillna(0).astype(int)\n",
    "actual_df['route_id'] = pd.to_numeric(actual_df['route_id'], errors='coerce').fillna(0).astype(int)\n",
    "actual_df['stop_sequence'] = pd.to_numeric(actual_df['stop_sequence'], errors='coerce').fillna(0).astype(int)\n",
    "actual_df['vehicle_id'] = pd.to_numeric(actual_df['vehicle_id'], errors='coerce').fillna(0).astype(int)\n",
    "actual_df['vehicle_label'] = pd.to_numeric(actual_df['vehicle_label'], errors='coerce').fillna(0).astype(int)\n",
    "actual_df.info()\n",
    "actual_df.head()"
   ]
  },
  {
   "cell_type": "code",
   "execution_count": 6,
   "metadata": {},
   "outputs": [
    {
     "output_type": "stream",
     "name": "stdout",
     "text": [
      "<class 'pandas.core.frame.DataFrame'>\nRangeIndex: 6387017 entries, 0 to 6387016\nData columns (total 10 columns):\n #   Column                 Dtype                          \n---  ------                 -----                          \n 0   trip_id                int32                          \n 1   start_date             object                         \n 2   start_time             object                         \n 3   route_id               int32                          \n 4   stop_sequence          int32                          \n 5   actual_departure_time  datetime64[ns, America/Toronto]\n 6   stop_id                category                       \n 7   vehicle_id             int32                          \n 8   vehicle_label          int32                          \n 9   timestamp              datetime64[ns, America/Toronto]\ndtypes: category(1), datetime64[ns, America/Toronto](2), int32(5), object(2)\nmemory usage: 329.0+ MB\n"
     ]
    },
    {
     "output_type": "execute_result",
     "data": {
      "text/plain": [
       "    trip_id start_date start_time  route_id  stop_sequence  \\\n",
       "0   1346803   20201104   11:18:00        24             41   \n",
       "1   1346803   20201104   11:18:00        24             42   \n",
       "2   1346803   20201104   11:18:00        24             43   \n",
       "3   1346803   20201104   11:18:00        24             44   \n",
       "4   1346803   20201104   11:18:00        24             45   \n",
       "5   1346803   20201104   11:18:00        24             46   \n",
       "6   1346803   20201104   11:18:00        24             47   \n",
       "7   1346803   20201104   11:18:00        24             48   \n",
       "8   1346803   20201104   11:18:00        24             49   \n",
       "9   1346803   20201104   11:18:00        24             50   \n",
       "10  1346803   20201104   11:18:00        24             51   \n",
       "11  1346803   20201104   11:18:00        24             52   \n",
       "12  1346803   20201104   11:18:00        24             53   \n",
       "13  1346628   20201104   11:39:00        19              9   \n",
       "14  1346628   20201104   11:39:00        19             10   \n",
       "15  1346628   20201104   11:39:00        19             11   \n",
       "16  1346628   20201104   11:39:00        19             12   \n",
       "17  1346628   20201104   11:39:00        19             13   \n",
       "18  1346628   20201104   11:39:00        19             14   \n",
       "19  1346628   20201104   11:39:00        19             15   \n",
       "20  1346628   20201104   11:39:00        19             16   \n",
       "21  1346628   20201104   11:39:00        19             17   \n",
       "22  1346628   20201104   11:39:00        19             18   \n",
       "23  1346628   20201104   11:39:00        19             19   \n",
       "24  1347315   20201104   11:42:00         2             10   \n",
       "25  1347315   20201104   11:42:00         2             11   \n",
       "26  1347315   20201104   11:42:00         2             12   \n",
       "27  1347315   20201104   11:42:00         2             13   \n",
       "28  1347315   20201104   11:42:00         2             14   \n",
       "29  1347315   20201104   11:42:00         2             15   \n",
       "30  1347315   20201104   11:42:00         2             16   \n",
       "31  1347315   20201104   11:42:00         2             17   \n",
       "32  1347315   20201104   11:42:00         2             18   \n",
       "33  1345731   20201104   11:27:00        15             38   \n",
       "34  1345731   20201104   11:27:00        15             39   \n",
       "35  1338046   20201104   11:05:00        20             62   \n",
       "36  1338046   20201104   11:05:00        20             63   \n",
       "37  1347390   20201104   11:32:00         2             37   \n",
       "38  1339307   20201104   11:50:00        27              2   \n",
       "39  1347409   20201104   11:30:00         2             19   \n",
       "40  1347409   20201104   11:30:00         2             20   \n",
       "41  1347409   20201104   11:30:00         2             21   \n",
       "42  1347409   20201104   11:30:00         2             22   \n",
       "43  1347409   20201104   11:30:00         2             23   \n",
       "44  1347409   20201104   11:30:00         2             24   \n",
       "45  1347409   20201104   11:30:00         2             25   \n",
       "46  1347409   20201104   11:30:00         2             26   \n",
       "47  1347409   20201104   11:30:00         2             27   \n",
       "48  1347409   20201104   11:30:00         2             28   \n",
       "49  1347409   20201104   11:30:00         2             29   \n",
       "\n",
       "       actual_departure_time   stop_id  vehicle_id  vehicle_label  \\\n",
       "0  2020-11-04 11:54:09-05:00  WESTMAL1        3140            140   \n",
       "1  2020-11-04 11:54:10-05:00  VISCFARN        3140            140   \n",
       "2  2020-11-04 11:54:49-05:00  VISCVIGR        3140            140   \n",
       "3  2020-11-04 11:55:28-05:00  VISCCRAN        3140            140   \n",
       "4  2020-11-04 11:56:22-05:00  CRANBAR2        3140            140   \n",
       "5  2020-11-04 11:57:02-05:00  CRANBIRC        3140            140   \n",
       "6  2020-11-04 11:57:30-05:00  CRANSCHR        3140            140   \n",
       "7  2020-11-04 11:58:07-05:00  TILLSOUT        3140            140   \n",
       "8  2020-11-04 11:58:35-05:00  TILLRALE        3140            140   \n",
       "9  2020-11-04 11:59:07-05:00  TILBPOME        3140            140   \n",
       "10 2020-11-04 11:59:50-05:00  RALERALE        3140            140   \n",
       "11 2020-11-04 12:00:14-05:00  RALECOLT        3140            140   \n",
       "12 2020-11-04 12:01:15-05:00  COLTSOU2        3140            140   \n",
       "13 2020-11-04 11:47:57-05:00  SUNNYMCA        3141            141   \n",
       "14 2020-11-04 11:48:58-05:00  SUNNADE2        3141            141   \n",
       "15 2020-11-04 11:51:31-05:00  SUNNCANV        3141            141   \n",
       "16 2020-11-04 11:52:21-05:00  BLUESUN2        3141            141   \n",
       "17 2020-11-04 11:52:44-05:00  SKYLCHAM        3141            141   \n",
       "18 2020-11-04 11:54:07-05:00  CHAMWHIS        3141            141   \n",
       "19 2020-11-04 11:54:37-05:00  HASTCHA2        3141            141   \n",
       "20 2020-11-04 11:55:39-05:00  HASTVIR2        3141            141   \n",
       "21 2020-11-04 11:57:45-05:00  FANSJEN2        3141            141   \n",
       "22 2020-11-04 11:58:25-05:00  FANSJEN4        3141            141   \n",
       "23 2020-11-04 11:59:30-05:00  FANSNCR2        3141            141   \n",
       "24 2020-11-04 11:54:21-05:00  WHARPAUL        3507            507   \n",
       "25 2020-11-04 11:55:15-05:00  WHARLEXI        3507            507   \n",
       "26 2020-11-04 11:55:59-05:00  WHARMPL2        3507            507   \n",
       "27 2020-11-04 11:56:37-05:00  RIVEWHA1        3507            507   \n",
       "28 2020-11-04 11:57:09-05:00  RIVEWIL1        3507            507   \n",
       "29 2020-11-04 11:58:34-05:00  DUNDRIDO        3507            507   \n",
       "30 2020-11-04 11:59:22-05:00  KINGTALB        3507            507   \n",
       "31 2020-11-04 12:00:15-05:00  KINGRIC1        3507            507   \n",
       "32 2020-11-04 12:00:15-05:00  KINGRIC1        3507            507   \n",
       "33 2020-11-04 11:59:55-05:00  HORTRIC2        3510            510   \n",
       "34 2020-11-04 12:01:15-05:00  RIDOHORT        3510            510   \n",
       "35 2020-11-04 11:58:55-05:00  OXFOHIG3        3159            159   \n",
       "36 2020-11-04 12:00:30-05:00  FANCOLL3        3159            159   \n",
       "37 2020-11-04 12:00:00-05:00  QUEERIC1        3162            162   \n",
       "38 2020-11-04 11:59:45-05:00  WONDOXF1        3314            314   \n",
       "39 2020-11-04 11:52:15-05:00  DUNDCLK4        3513            513   \n",
       "40 2020-11-04 11:53:27-05:00  DUNDBEA2        3513            513   \n",
       "41 2020-11-04 11:54:53-05:00   DUNDTHR        3513            513   \n",
       "42 2020-11-04 11:56:03-05:00  DUNDBUR2        3513            513   \n",
       "43 2020-11-04 11:57:08-05:00  DUNDFIR2        3513            513   \n",
       "44 2020-11-04 11:58:21-05:00  DUNDHAL2        3513            513   \n",
       "45 2020-11-04 11:58:53-05:00  DUNDHAL4        3513            513   \n",
       "46 2020-11-04 12:00:00-05:00  DUNDHIG2        3513            513   \n",
       "47 2020-11-04 12:01:13-05:00  DUNDASH4        3513            513   \n",
       "48 2020-11-04 12:02:13-05:00  DUNDMCOR        3513            513   \n",
       "49 2020-11-04 12:03:02-05:00  DUNDDORI        3513            513   \n",
       "\n",
       "                   timestamp  \n",
       "0  2020-11-04 11:59:30-05:00  \n",
       "1  2020-11-04 11:59:30-05:00  \n",
       "2  2020-11-04 11:59:30-05:00  \n",
       "3  2020-11-04 11:59:30-05:00  \n",
       "4  2020-11-04 11:59:30-05:00  \n",
       "5  2020-11-04 11:59:30-05:00  \n",
       "6  2020-11-04 11:59:30-05:00  \n",
       "7  2020-11-04 11:59:30-05:00  \n",
       "8  2020-11-04 11:59:30-05:00  \n",
       "9  2020-11-04 11:59:30-05:00  \n",
       "10 2020-11-04 11:59:30-05:00  \n",
       "11 2020-11-04 11:59:30-05:00  \n",
       "12 2020-11-04 11:59:30-05:00  \n",
       "13 2020-11-04 11:59:31-05:00  \n",
       "14 2020-11-04 11:59:31-05:00  \n",
       "15 2020-11-04 11:59:31-05:00  \n",
       "16 2020-11-04 11:59:31-05:00  \n",
       "17 2020-11-04 11:59:31-05:00  \n",
       "18 2020-11-04 11:59:31-05:00  \n",
       "19 2020-11-04 11:59:31-05:00  \n",
       "20 2020-11-04 11:59:31-05:00  \n",
       "21 2020-11-04 11:59:31-05:00  \n",
       "22 2020-11-04 11:59:31-05:00  \n",
       "23 2020-11-04 11:59:31-05:00  \n",
       "24 2020-11-04 11:59:40-05:00  \n",
       "25 2020-11-04 11:59:40-05:00  \n",
       "26 2020-11-04 11:59:40-05:00  \n",
       "27 2020-11-04 11:59:40-05:00  \n",
       "28 2020-11-04 11:59:40-05:00  \n",
       "29 2020-11-04 11:59:40-05:00  \n",
       "30 2020-11-04 11:59:40-05:00  \n",
       "31 2020-11-04 11:59:40-05:00  \n",
       "32 2020-11-04 11:59:40-05:00  \n",
       "33 2020-11-04 11:59:42-05:00  \n",
       "34 2020-11-04 11:59:42-05:00  \n",
       "35 2020-11-04 11:59:34-05:00  \n",
       "36 2020-11-04 11:59:34-05:00  \n",
       "37 2020-11-04 11:59:51-05:00  \n",
       "38 2020-11-04 11:59:48-05:00  \n",
       "39 2020-11-04 11:59:39-05:00  \n",
       "40 2020-11-04 11:59:39-05:00  \n",
       "41 2020-11-04 11:59:39-05:00  \n",
       "42 2020-11-04 11:59:39-05:00  \n",
       "43 2020-11-04 11:59:39-05:00  \n",
       "44 2020-11-04 11:59:39-05:00  \n",
       "45 2020-11-04 11:59:39-05:00  \n",
       "46 2020-11-04 11:59:39-05:00  \n",
       "47 2020-11-04 11:59:39-05:00  \n",
       "48 2020-11-04 11:59:39-05:00  \n",
       "49 2020-11-04 11:59:39-05:00  "
      ],
      "text/html": "<div>\n<style scoped>\n    .dataframe tbody tr th:only-of-type {\n        vertical-align: middle;\n    }\n\n    .dataframe tbody tr th {\n        vertical-align: top;\n    }\n\n    .dataframe thead th {\n        text-align: right;\n    }\n</style>\n<table border=\"1\" class=\"dataframe\">\n  <thead>\n    <tr style=\"text-align: right;\">\n      <th></th>\n      <th>trip_id</th>\n      <th>start_date</th>\n      <th>start_time</th>\n      <th>route_id</th>\n      <th>stop_sequence</th>\n      <th>actual_departure_time</th>\n      <th>stop_id</th>\n      <th>vehicle_id</th>\n      <th>vehicle_label</th>\n      <th>timestamp</th>\n    </tr>\n  </thead>\n  <tbody>\n    <tr>\n      <th>0</th>\n      <td>1346803</td>\n      <td>20201104</td>\n      <td>11:18:00</td>\n      <td>24</td>\n      <td>41</td>\n      <td>2020-11-04 11:54:09-05:00</td>\n      <td>WESTMAL1</td>\n      <td>3140</td>\n      <td>140</td>\n      <td>2020-11-04 11:59:30-05:00</td>\n    </tr>\n    <tr>\n      <th>1</th>\n      <td>1346803</td>\n      <td>20201104</td>\n      <td>11:18:00</td>\n      <td>24</td>\n      <td>42</td>\n      <td>2020-11-04 11:54:10-05:00</td>\n      <td>VISCFARN</td>\n      <td>3140</td>\n      <td>140</td>\n      <td>2020-11-04 11:59:30-05:00</td>\n    </tr>\n    <tr>\n      <th>2</th>\n      <td>1346803</td>\n      <td>20201104</td>\n      <td>11:18:00</td>\n      <td>24</td>\n      <td>43</td>\n      <td>2020-11-04 11:54:49-05:00</td>\n      <td>VISCVIGR</td>\n      <td>3140</td>\n      <td>140</td>\n      <td>2020-11-04 11:59:30-05:00</td>\n    </tr>\n    <tr>\n      <th>3</th>\n      <td>1346803</td>\n      <td>20201104</td>\n      <td>11:18:00</td>\n      <td>24</td>\n      <td>44</td>\n      <td>2020-11-04 11:55:28-05:00</td>\n      <td>VISCCRAN</td>\n      <td>3140</td>\n      <td>140</td>\n      <td>2020-11-04 11:59:30-05:00</td>\n    </tr>\n    <tr>\n      <th>4</th>\n      <td>1346803</td>\n      <td>20201104</td>\n      <td>11:18:00</td>\n      <td>24</td>\n      <td>45</td>\n      <td>2020-11-04 11:56:22-05:00</td>\n      <td>CRANBAR2</td>\n      <td>3140</td>\n      <td>140</td>\n      <td>2020-11-04 11:59:30-05:00</td>\n    </tr>\n    <tr>\n      <th>5</th>\n      <td>1346803</td>\n      <td>20201104</td>\n      <td>11:18:00</td>\n      <td>24</td>\n      <td>46</td>\n      <td>2020-11-04 11:57:02-05:00</td>\n      <td>CRANBIRC</td>\n      <td>3140</td>\n      <td>140</td>\n      <td>2020-11-04 11:59:30-05:00</td>\n    </tr>\n    <tr>\n      <th>6</th>\n      <td>1346803</td>\n      <td>20201104</td>\n      <td>11:18:00</td>\n      <td>24</td>\n      <td>47</td>\n      <td>2020-11-04 11:57:30-05:00</td>\n      <td>CRANSCHR</td>\n      <td>3140</td>\n      <td>140</td>\n      <td>2020-11-04 11:59:30-05:00</td>\n    </tr>\n    <tr>\n      <th>7</th>\n      <td>1346803</td>\n      <td>20201104</td>\n      <td>11:18:00</td>\n      <td>24</td>\n      <td>48</td>\n      <td>2020-11-04 11:58:07-05:00</td>\n      <td>TILLSOUT</td>\n      <td>3140</td>\n      <td>140</td>\n      <td>2020-11-04 11:59:30-05:00</td>\n    </tr>\n    <tr>\n      <th>8</th>\n      <td>1346803</td>\n      <td>20201104</td>\n      <td>11:18:00</td>\n      <td>24</td>\n      <td>49</td>\n      <td>2020-11-04 11:58:35-05:00</td>\n      <td>TILLRALE</td>\n      <td>3140</td>\n      <td>140</td>\n      <td>2020-11-04 11:59:30-05:00</td>\n    </tr>\n    <tr>\n      <th>9</th>\n      <td>1346803</td>\n      <td>20201104</td>\n      <td>11:18:00</td>\n      <td>24</td>\n      <td>50</td>\n      <td>2020-11-04 11:59:07-05:00</td>\n      <td>TILBPOME</td>\n      <td>3140</td>\n      <td>140</td>\n      <td>2020-11-04 11:59:30-05:00</td>\n    </tr>\n    <tr>\n      <th>10</th>\n      <td>1346803</td>\n      <td>20201104</td>\n      <td>11:18:00</td>\n      <td>24</td>\n      <td>51</td>\n      <td>2020-11-04 11:59:50-05:00</td>\n      <td>RALERALE</td>\n      <td>3140</td>\n      <td>140</td>\n      <td>2020-11-04 11:59:30-05:00</td>\n    </tr>\n    <tr>\n      <th>11</th>\n      <td>1346803</td>\n      <td>20201104</td>\n      <td>11:18:00</td>\n      <td>24</td>\n      <td>52</td>\n      <td>2020-11-04 12:00:14-05:00</td>\n      <td>RALECOLT</td>\n      <td>3140</td>\n      <td>140</td>\n      <td>2020-11-04 11:59:30-05:00</td>\n    </tr>\n    <tr>\n      <th>12</th>\n      <td>1346803</td>\n      <td>20201104</td>\n      <td>11:18:00</td>\n      <td>24</td>\n      <td>53</td>\n      <td>2020-11-04 12:01:15-05:00</td>\n      <td>COLTSOU2</td>\n      <td>3140</td>\n      <td>140</td>\n      <td>2020-11-04 11:59:30-05:00</td>\n    </tr>\n    <tr>\n      <th>13</th>\n      <td>1346628</td>\n      <td>20201104</td>\n      <td>11:39:00</td>\n      <td>19</td>\n      <td>9</td>\n      <td>2020-11-04 11:47:57-05:00</td>\n      <td>SUNNYMCA</td>\n      <td>3141</td>\n      <td>141</td>\n      <td>2020-11-04 11:59:31-05:00</td>\n    </tr>\n    <tr>\n      <th>14</th>\n      <td>1346628</td>\n      <td>20201104</td>\n      <td>11:39:00</td>\n      <td>19</td>\n      <td>10</td>\n      <td>2020-11-04 11:48:58-05:00</td>\n      <td>SUNNADE2</td>\n      <td>3141</td>\n      <td>141</td>\n      <td>2020-11-04 11:59:31-05:00</td>\n    </tr>\n    <tr>\n      <th>15</th>\n      <td>1346628</td>\n      <td>20201104</td>\n      <td>11:39:00</td>\n      <td>19</td>\n      <td>11</td>\n      <td>2020-11-04 11:51:31-05:00</td>\n      <td>SUNNCANV</td>\n      <td>3141</td>\n      <td>141</td>\n      <td>2020-11-04 11:59:31-05:00</td>\n    </tr>\n    <tr>\n      <th>16</th>\n      <td>1346628</td>\n      <td>20201104</td>\n      <td>11:39:00</td>\n      <td>19</td>\n      <td>12</td>\n      <td>2020-11-04 11:52:21-05:00</td>\n      <td>BLUESUN2</td>\n      <td>3141</td>\n      <td>141</td>\n      <td>2020-11-04 11:59:31-05:00</td>\n    </tr>\n    <tr>\n      <th>17</th>\n      <td>1346628</td>\n      <td>20201104</td>\n      <td>11:39:00</td>\n      <td>19</td>\n      <td>13</td>\n      <td>2020-11-04 11:52:44-05:00</td>\n      <td>SKYLCHAM</td>\n      <td>3141</td>\n      <td>141</td>\n      <td>2020-11-04 11:59:31-05:00</td>\n    </tr>\n    <tr>\n      <th>18</th>\n      <td>1346628</td>\n      <td>20201104</td>\n      <td>11:39:00</td>\n      <td>19</td>\n      <td>14</td>\n      <td>2020-11-04 11:54:07-05:00</td>\n      <td>CHAMWHIS</td>\n      <td>3141</td>\n      <td>141</td>\n      <td>2020-11-04 11:59:31-05:00</td>\n    </tr>\n    <tr>\n      <th>19</th>\n      <td>1346628</td>\n      <td>20201104</td>\n      <td>11:39:00</td>\n      <td>19</td>\n      <td>15</td>\n      <td>2020-11-04 11:54:37-05:00</td>\n      <td>HASTCHA2</td>\n      <td>3141</td>\n      <td>141</td>\n      <td>2020-11-04 11:59:31-05:00</td>\n    </tr>\n    <tr>\n      <th>20</th>\n      <td>1346628</td>\n      <td>20201104</td>\n      <td>11:39:00</td>\n      <td>19</td>\n      <td>16</td>\n      <td>2020-11-04 11:55:39-05:00</td>\n      <td>HASTVIR2</td>\n      <td>3141</td>\n      <td>141</td>\n      <td>2020-11-04 11:59:31-05:00</td>\n    </tr>\n    <tr>\n      <th>21</th>\n      <td>1346628</td>\n      <td>20201104</td>\n      <td>11:39:00</td>\n      <td>19</td>\n      <td>17</td>\n      <td>2020-11-04 11:57:45-05:00</td>\n      <td>FANSJEN2</td>\n      <td>3141</td>\n      <td>141</td>\n      <td>2020-11-04 11:59:31-05:00</td>\n    </tr>\n    <tr>\n      <th>22</th>\n      <td>1346628</td>\n      <td>20201104</td>\n      <td>11:39:00</td>\n      <td>19</td>\n      <td>18</td>\n      <td>2020-11-04 11:58:25-05:00</td>\n      <td>FANSJEN4</td>\n      <td>3141</td>\n      <td>141</td>\n      <td>2020-11-04 11:59:31-05:00</td>\n    </tr>\n    <tr>\n      <th>23</th>\n      <td>1346628</td>\n      <td>20201104</td>\n      <td>11:39:00</td>\n      <td>19</td>\n      <td>19</td>\n      <td>2020-11-04 11:59:30-05:00</td>\n      <td>FANSNCR2</td>\n      <td>3141</td>\n      <td>141</td>\n      <td>2020-11-04 11:59:31-05:00</td>\n    </tr>\n    <tr>\n      <th>24</th>\n      <td>1347315</td>\n      <td>20201104</td>\n      <td>11:42:00</td>\n      <td>2</td>\n      <td>10</td>\n      <td>2020-11-04 11:54:21-05:00</td>\n      <td>WHARPAUL</td>\n      <td>3507</td>\n      <td>507</td>\n      <td>2020-11-04 11:59:40-05:00</td>\n    </tr>\n    <tr>\n      <th>25</th>\n      <td>1347315</td>\n      <td>20201104</td>\n      <td>11:42:00</td>\n      <td>2</td>\n      <td>11</td>\n      <td>2020-11-04 11:55:15-05:00</td>\n      <td>WHARLEXI</td>\n      <td>3507</td>\n      <td>507</td>\n      <td>2020-11-04 11:59:40-05:00</td>\n    </tr>\n    <tr>\n      <th>26</th>\n      <td>1347315</td>\n      <td>20201104</td>\n      <td>11:42:00</td>\n      <td>2</td>\n      <td>12</td>\n      <td>2020-11-04 11:55:59-05:00</td>\n      <td>WHARMPL2</td>\n      <td>3507</td>\n      <td>507</td>\n      <td>2020-11-04 11:59:40-05:00</td>\n    </tr>\n    <tr>\n      <th>27</th>\n      <td>1347315</td>\n      <td>20201104</td>\n      <td>11:42:00</td>\n      <td>2</td>\n      <td>13</td>\n      <td>2020-11-04 11:56:37-05:00</td>\n      <td>RIVEWHA1</td>\n      <td>3507</td>\n      <td>507</td>\n      <td>2020-11-04 11:59:40-05:00</td>\n    </tr>\n    <tr>\n      <th>28</th>\n      <td>1347315</td>\n      <td>20201104</td>\n      <td>11:42:00</td>\n      <td>2</td>\n      <td>14</td>\n      <td>2020-11-04 11:57:09-05:00</td>\n      <td>RIVEWIL1</td>\n      <td>3507</td>\n      <td>507</td>\n      <td>2020-11-04 11:59:40-05:00</td>\n    </tr>\n    <tr>\n      <th>29</th>\n      <td>1347315</td>\n      <td>20201104</td>\n      <td>11:42:00</td>\n      <td>2</td>\n      <td>15</td>\n      <td>2020-11-04 11:58:34-05:00</td>\n      <td>DUNDRIDO</td>\n      <td>3507</td>\n      <td>507</td>\n      <td>2020-11-04 11:59:40-05:00</td>\n    </tr>\n    <tr>\n      <th>30</th>\n      <td>1347315</td>\n      <td>20201104</td>\n      <td>11:42:00</td>\n      <td>2</td>\n      <td>16</td>\n      <td>2020-11-04 11:59:22-05:00</td>\n      <td>KINGTALB</td>\n      <td>3507</td>\n      <td>507</td>\n      <td>2020-11-04 11:59:40-05:00</td>\n    </tr>\n    <tr>\n      <th>31</th>\n      <td>1347315</td>\n      <td>20201104</td>\n      <td>11:42:00</td>\n      <td>2</td>\n      <td>17</td>\n      <td>2020-11-04 12:00:15-05:00</td>\n      <td>KINGRIC1</td>\n      <td>3507</td>\n      <td>507</td>\n      <td>2020-11-04 11:59:40-05:00</td>\n    </tr>\n    <tr>\n      <th>32</th>\n      <td>1347315</td>\n      <td>20201104</td>\n      <td>11:42:00</td>\n      <td>2</td>\n      <td>18</td>\n      <td>2020-11-04 12:00:15-05:00</td>\n      <td>KINGRIC1</td>\n      <td>3507</td>\n      <td>507</td>\n      <td>2020-11-04 11:59:40-05:00</td>\n    </tr>\n    <tr>\n      <th>33</th>\n      <td>1345731</td>\n      <td>20201104</td>\n      <td>11:27:00</td>\n      <td>15</td>\n      <td>38</td>\n      <td>2020-11-04 11:59:55-05:00</td>\n      <td>HORTRIC2</td>\n      <td>3510</td>\n      <td>510</td>\n      <td>2020-11-04 11:59:42-05:00</td>\n    </tr>\n    <tr>\n      <th>34</th>\n      <td>1345731</td>\n      <td>20201104</td>\n      <td>11:27:00</td>\n      <td>15</td>\n      <td>39</td>\n      <td>2020-11-04 12:01:15-05:00</td>\n      <td>RIDOHORT</td>\n      <td>3510</td>\n      <td>510</td>\n      <td>2020-11-04 11:59:42-05:00</td>\n    </tr>\n    <tr>\n      <th>35</th>\n      <td>1338046</td>\n      <td>20201104</td>\n      <td>11:05:00</td>\n      <td>20</td>\n      <td>62</td>\n      <td>2020-11-04 11:58:55-05:00</td>\n      <td>OXFOHIG3</td>\n      <td>3159</td>\n      <td>159</td>\n      <td>2020-11-04 11:59:34-05:00</td>\n    </tr>\n    <tr>\n      <th>36</th>\n      <td>1338046</td>\n      <td>20201104</td>\n      <td>11:05:00</td>\n      <td>20</td>\n      <td>63</td>\n      <td>2020-11-04 12:00:30-05:00</td>\n      <td>FANCOLL3</td>\n      <td>3159</td>\n      <td>159</td>\n      <td>2020-11-04 11:59:34-05:00</td>\n    </tr>\n    <tr>\n      <th>37</th>\n      <td>1347390</td>\n      <td>20201104</td>\n      <td>11:32:00</td>\n      <td>2</td>\n      <td>37</td>\n      <td>2020-11-04 12:00:00-05:00</td>\n      <td>QUEERIC1</td>\n      <td>3162</td>\n      <td>162</td>\n      <td>2020-11-04 11:59:51-05:00</td>\n    </tr>\n    <tr>\n      <th>38</th>\n      <td>1339307</td>\n      <td>20201104</td>\n      <td>11:50:00</td>\n      <td>27</td>\n      <td>2</td>\n      <td>2020-11-04 11:59:45-05:00</td>\n      <td>WONDOXF1</td>\n      <td>3314</td>\n      <td>314</td>\n      <td>2020-11-04 11:59:48-05:00</td>\n    </tr>\n    <tr>\n      <th>39</th>\n      <td>1347409</td>\n      <td>20201104</td>\n      <td>11:30:00</td>\n      <td>2</td>\n      <td>19</td>\n      <td>2020-11-04 11:52:15-05:00</td>\n      <td>DUNDCLK4</td>\n      <td>3513</td>\n      <td>513</td>\n      <td>2020-11-04 11:59:39-05:00</td>\n    </tr>\n    <tr>\n      <th>40</th>\n      <td>1347409</td>\n      <td>20201104</td>\n      <td>11:30:00</td>\n      <td>2</td>\n      <td>20</td>\n      <td>2020-11-04 11:53:27-05:00</td>\n      <td>DUNDBEA2</td>\n      <td>3513</td>\n      <td>513</td>\n      <td>2020-11-04 11:59:39-05:00</td>\n    </tr>\n    <tr>\n      <th>41</th>\n      <td>1347409</td>\n      <td>20201104</td>\n      <td>11:30:00</td>\n      <td>2</td>\n      <td>21</td>\n      <td>2020-11-04 11:54:53-05:00</td>\n      <td>DUNDTHR</td>\n      <td>3513</td>\n      <td>513</td>\n      <td>2020-11-04 11:59:39-05:00</td>\n    </tr>\n    <tr>\n      <th>42</th>\n      <td>1347409</td>\n      <td>20201104</td>\n      <td>11:30:00</td>\n      <td>2</td>\n      <td>22</td>\n      <td>2020-11-04 11:56:03-05:00</td>\n      <td>DUNDBUR2</td>\n      <td>3513</td>\n      <td>513</td>\n      <td>2020-11-04 11:59:39-05:00</td>\n    </tr>\n    <tr>\n      <th>43</th>\n      <td>1347409</td>\n      <td>20201104</td>\n      <td>11:30:00</td>\n      <td>2</td>\n      <td>23</td>\n      <td>2020-11-04 11:57:08-05:00</td>\n      <td>DUNDFIR2</td>\n      <td>3513</td>\n      <td>513</td>\n      <td>2020-11-04 11:59:39-05:00</td>\n    </tr>\n    <tr>\n      <th>44</th>\n      <td>1347409</td>\n      <td>20201104</td>\n      <td>11:30:00</td>\n      <td>2</td>\n      <td>24</td>\n      <td>2020-11-04 11:58:21-05:00</td>\n      <td>DUNDHAL2</td>\n      <td>3513</td>\n      <td>513</td>\n      <td>2020-11-04 11:59:39-05:00</td>\n    </tr>\n    <tr>\n      <th>45</th>\n      <td>1347409</td>\n      <td>20201104</td>\n      <td>11:30:00</td>\n      <td>2</td>\n      <td>25</td>\n      <td>2020-11-04 11:58:53-05:00</td>\n      <td>DUNDHAL4</td>\n      <td>3513</td>\n      <td>513</td>\n      <td>2020-11-04 11:59:39-05:00</td>\n    </tr>\n    <tr>\n      <th>46</th>\n      <td>1347409</td>\n      <td>20201104</td>\n      <td>11:30:00</td>\n      <td>2</td>\n      <td>26</td>\n      <td>2020-11-04 12:00:00-05:00</td>\n      <td>DUNDHIG2</td>\n      <td>3513</td>\n      <td>513</td>\n      <td>2020-11-04 11:59:39-05:00</td>\n    </tr>\n    <tr>\n      <th>47</th>\n      <td>1347409</td>\n      <td>20201104</td>\n      <td>11:30:00</td>\n      <td>2</td>\n      <td>27</td>\n      <td>2020-11-04 12:01:13-05:00</td>\n      <td>DUNDASH4</td>\n      <td>3513</td>\n      <td>513</td>\n      <td>2020-11-04 11:59:39-05:00</td>\n    </tr>\n    <tr>\n      <th>48</th>\n      <td>1347409</td>\n      <td>20201104</td>\n      <td>11:30:00</td>\n      <td>2</td>\n      <td>28</td>\n      <td>2020-11-04 12:02:13-05:00</td>\n      <td>DUNDMCOR</td>\n      <td>3513</td>\n      <td>513</td>\n      <td>2020-11-04 11:59:39-05:00</td>\n    </tr>\n    <tr>\n      <th>49</th>\n      <td>1347409</td>\n      <td>20201104</td>\n      <td>11:30:00</td>\n      <td>2</td>\n      <td>29</td>\n      <td>2020-11-04 12:03:02-05:00</td>\n      <td>DUNDDORI</td>\n      <td>3513</td>\n      <td>513</td>\n      <td>2020-11-04 11:59:39-05:00</td>\n    </tr>\n  </tbody>\n</table>\n</div>"
     },
     "metadata": {},
     "execution_count": 6
    }
   ],
   "source": [
    "actual_df['actual_departure_time'] = pd.to_datetime(actual_df['actual_departure_time'], unit='s', errors='coerce').dt.tz_localize('utc').dt.tz_convert('America/Toronto')\n",
    "actual_df['timestamp'] = pd.to_datetime(actual_df['timestamp'], unit='s', errors='coerce').dt.tz_localize('utc').dt.tz_convert('America/Toronto')\n",
    "actual_df['stop_id'] = actual_df['stop_id'].astype('category')\n",
    "# actual_df['start_date'] = pd.to_datetime(actual_df['start_date'], infer_datetime_format=True, errors='coerce')\n",
    "# actual_df['start_time'] = pd.to_datetime(actual_df['start_time'], infer_datetime_format=True, errors='coerce')\n",
    "\n",
    "actual_df.info()\n",
    "actual_df.head(50)"
   ]
  },
  {
   "cell_type": "code",
   "execution_count": 7,
   "metadata": {},
   "outputs": [
    {
     "output_type": "stream",
     "name": "stdout",
     "text": [
      "<class 'pandas.core.frame.DataFrame'>\nInt64Index: 1864497 entries, 0 to 1864496\nData columns (total 11 columns):\n #   Column                 Dtype                          \n---  ------                 -----                          \n 0   trip_id                int32                          \n 1   start_date             object                         \n 2   start_time             object                         \n 3   route_id               int32                          \n 4   stop_sequence          int32                          \n 5   actual_departure_time  datetime64[ns, America/Toronto]\n 6   stop_id                object                         \n 7   vehicle_id             int32                          \n 8   vehicle_label          int32                          \n 9   timestamp              datetime64[ns, America/Toronto]\n 10  departure_time         datetime64[ns]                 \ndtypes: datetime64[ns, America/Toronto](2), datetime64[ns](1), int32(5), object(3)\nmemory usage: 135.1+ MB\n"
     ]
    },
    {
     "output_type": "execute_result",
     "data": {
      "text/plain": [
       "     trip_id start_date start_time  route_id  stop_sequence  \\\n",
       "0    1346628   20201104   11:39:00        19              9   \n",
       "1    1346628   20201105   11:39:00        19              9   \n",
       "2    1346628   20201106   11:39:00        19              9   \n",
       "3    1346628   20201109   11:39:00        19              9   \n",
       "4    1346628   20201110   11:39:00        19              9   \n",
       "..       ...        ...        ...       ...            ...   \n",
       "495  1388396   20201126   11:48:00       102             15   \n",
       "496  1388396   20201127   11:48:00       102             15   \n",
       "497  1388396   20201104   11:48:00       102             15   \n",
       "498  1388396   20201105   11:48:00       102             15   \n",
       "499  1388396   20201106   11:48:00       102             15   \n",
       "\n",
       "        actual_departure_time   stop_id  vehicle_id  vehicle_label  \\\n",
       "0   2020-11-04 11:47:57-05:00  SUNNYMCA        3141            141   \n",
       "1   2020-11-05 11:43:38-05:00  SUNNYMCA        3317            317   \n",
       "2   2020-11-06 11:43:52-05:00  SUNNYMCA        3108            108   \n",
       "3   2020-11-09 11:42:28-05:00  SUNNYMCA        3153            153   \n",
       "4   2020-11-10 11:42:13-05:00  SUNNYMCA        3303            303   \n",
       "..                        ...       ...         ...            ...   \n",
       "495 2020-11-26 11:56:51-05:00  ALUMHAL1        3520            520   \n",
       "496 2020-11-27 12:00:36-05:00  ALUMHAL1        3518            518   \n",
       "497 2020-11-04 11:57:06-05:00  ALUMHAL1        3516            516   \n",
       "498 2020-11-05 12:03:36-05:00  ALUMHAL1        3324            324   \n",
       "499 2020-11-06 11:58:36-05:00  ALUMHAL1        3347            347   \n",
       "\n",
       "                    timestamp      departure_time  \n",
       "0   2020-11-04 11:59:31-05:00 1900-01-01 11:40:27  \n",
       "1   2020-11-05 11:52:43-05:00 1900-01-01 11:40:27  \n",
       "2   2020-11-06 11:52:34-05:00 1900-01-01 11:40:27  \n",
       "3   2020-11-09 11:50:47-05:00 1900-01-01 11:40:27  \n",
       "4   2020-11-10 11:50:33-05:00 1900-01-01 11:40:27  \n",
       "..                        ...                 ...  \n",
       "495 2020-11-26 11:58:24-05:00 1900-01-01 12:01:21  \n",
       "496 2020-11-27 12:03:17-05:00 1900-01-01 12:01:21  \n",
       "497 2020-11-04 11:59:53-05:00 1900-01-01 12:01:21  \n",
       "498 2020-11-05 12:06:40-05:00 1900-01-01 12:01:21  \n",
       "499 2020-11-06 12:01:42-05:00 1900-01-01 12:01:21  \n",
       "\n",
       "[500 rows x 11 columns]"
      ],
      "text/html": "<div>\n<style scoped>\n    .dataframe tbody tr th:only-of-type {\n        vertical-align: middle;\n    }\n\n    .dataframe tbody tr th {\n        vertical-align: top;\n    }\n\n    .dataframe thead th {\n        text-align: right;\n    }\n</style>\n<table border=\"1\" class=\"dataframe\">\n  <thead>\n    <tr style=\"text-align: right;\">\n      <th></th>\n      <th>trip_id</th>\n      <th>start_date</th>\n      <th>start_time</th>\n      <th>route_id</th>\n      <th>stop_sequence</th>\n      <th>actual_departure_time</th>\n      <th>stop_id</th>\n      <th>vehicle_id</th>\n      <th>vehicle_label</th>\n      <th>timestamp</th>\n      <th>departure_time</th>\n    </tr>\n  </thead>\n  <tbody>\n    <tr>\n      <th>0</th>\n      <td>1346628</td>\n      <td>20201104</td>\n      <td>11:39:00</td>\n      <td>19</td>\n      <td>9</td>\n      <td>2020-11-04 11:47:57-05:00</td>\n      <td>SUNNYMCA</td>\n      <td>3141</td>\n      <td>141</td>\n      <td>2020-11-04 11:59:31-05:00</td>\n      <td>1900-01-01 11:40:27</td>\n    </tr>\n    <tr>\n      <th>1</th>\n      <td>1346628</td>\n      <td>20201105</td>\n      <td>11:39:00</td>\n      <td>19</td>\n      <td>9</td>\n      <td>2020-11-05 11:43:38-05:00</td>\n      <td>SUNNYMCA</td>\n      <td>3317</td>\n      <td>317</td>\n      <td>2020-11-05 11:52:43-05:00</td>\n      <td>1900-01-01 11:40:27</td>\n    </tr>\n    <tr>\n      <th>2</th>\n      <td>1346628</td>\n      <td>20201106</td>\n      <td>11:39:00</td>\n      <td>19</td>\n      <td>9</td>\n      <td>2020-11-06 11:43:52-05:00</td>\n      <td>SUNNYMCA</td>\n      <td>3108</td>\n      <td>108</td>\n      <td>2020-11-06 11:52:34-05:00</td>\n      <td>1900-01-01 11:40:27</td>\n    </tr>\n    <tr>\n      <th>3</th>\n      <td>1346628</td>\n      <td>20201109</td>\n      <td>11:39:00</td>\n      <td>19</td>\n      <td>9</td>\n      <td>2020-11-09 11:42:28-05:00</td>\n      <td>SUNNYMCA</td>\n      <td>3153</td>\n      <td>153</td>\n      <td>2020-11-09 11:50:47-05:00</td>\n      <td>1900-01-01 11:40:27</td>\n    </tr>\n    <tr>\n      <th>4</th>\n      <td>1346628</td>\n      <td>20201110</td>\n      <td>11:39:00</td>\n      <td>19</td>\n      <td>9</td>\n      <td>2020-11-10 11:42:13-05:00</td>\n      <td>SUNNYMCA</td>\n      <td>3303</td>\n      <td>303</td>\n      <td>2020-11-10 11:50:33-05:00</td>\n      <td>1900-01-01 11:40:27</td>\n    </tr>\n    <tr>\n      <th>...</th>\n      <td>...</td>\n      <td>...</td>\n      <td>...</td>\n      <td>...</td>\n      <td>...</td>\n      <td>...</td>\n      <td>...</td>\n      <td>...</td>\n      <td>...</td>\n      <td>...</td>\n      <td>...</td>\n    </tr>\n    <tr>\n      <th>495</th>\n      <td>1388396</td>\n      <td>20201126</td>\n      <td>11:48:00</td>\n      <td>102</td>\n      <td>15</td>\n      <td>2020-11-26 11:56:51-05:00</td>\n      <td>ALUMHAL1</td>\n      <td>3520</td>\n      <td>520</td>\n      <td>2020-11-26 11:58:24-05:00</td>\n      <td>1900-01-01 12:01:21</td>\n    </tr>\n    <tr>\n      <th>496</th>\n      <td>1388396</td>\n      <td>20201127</td>\n      <td>11:48:00</td>\n      <td>102</td>\n      <td>15</td>\n      <td>2020-11-27 12:00:36-05:00</td>\n      <td>ALUMHAL1</td>\n      <td>3518</td>\n      <td>518</td>\n      <td>2020-11-27 12:03:17-05:00</td>\n      <td>1900-01-01 12:01:21</td>\n    </tr>\n    <tr>\n      <th>497</th>\n      <td>1388396</td>\n      <td>20201104</td>\n      <td>11:48:00</td>\n      <td>102</td>\n      <td>15</td>\n      <td>2020-11-04 11:57:06-05:00</td>\n      <td>ALUMHAL1</td>\n      <td>3516</td>\n      <td>516</td>\n      <td>2020-11-04 11:59:53-05:00</td>\n      <td>1900-01-01 12:01:21</td>\n    </tr>\n    <tr>\n      <th>498</th>\n      <td>1388396</td>\n      <td>20201105</td>\n      <td>11:48:00</td>\n      <td>102</td>\n      <td>15</td>\n      <td>2020-11-05 12:03:36-05:00</td>\n      <td>ALUMHAL1</td>\n      <td>3324</td>\n      <td>324</td>\n      <td>2020-11-05 12:06:40-05:00</td>\n      <td>1900-01-01 12:01:21</td>\n    </tr>\n    <tr>\n      <th>499</th>\n      <td>1388396</td>\n      <td>20201106</td>\n      <td>11:48:00</td>\n      <td>102</td>\n      <td>15</td>\n      <td>2020-11-06 11:58:36-05:00</td>\n      <td>ALUMHAL1</td>\n      <td>3347</td>\n      <td>347</td>\n      <td>2020-11-06 12:01:42-05:00</td>\n      <td>1900-01-01 12:01:21</td>\n    </tr>\n  </tbody>\n</table>\n<p>500 rows × 11 columns</p>\n</div>"
     },
     "metadata": {},
     "execution_count": 7
    }
   ],
   "source": [
    "combined_df = actual_df.merge(schedule_df, how='inner', on=['trip_id', 'stop_id', 'stop_sequence'])\n",
    "combined_df.info()\n",
    "combined_df.head(500)"
   ]
  },
  {
   "cell_type": "code",
   "execution_count": 8,
   "metadata": {},
   "outputs": [],
   "source": [
    "combined_df['actual_departure_time'] = combined_df['actual_departure_time'].values.astype(int)\n",
    "combined_df['departure_time'] = combined_df['departure_time'].values.astype(int)"
   ]
  },
  {
   "cell_type": "code",
   "execution_count": 9,
   "metadata": {},
   "outputs": [],
   "source": [
    "# import seaborn as sns\n",
    "# sns.relplot(data=combined_df, x='departure_time', y='actual_departure_time')"
   ]
  },
  {
   "source": [
    "# Predict\n",
    "\n",
    "We should be able to predict an actual time given a row from the scheduled times.\n",
    "Or, we should use linear regression to get the actual time for all the scheduled times.\n"
   ],
   "cell_type": "markdown",
   "metadata": {}
  },
  {
   "cell_type": "code",
   "execution_count": 10,
   "metadata": {},
   "outputs": [
    {
     "output_type": "execute_result",
     "data": {
      "text/plain": [
       "2.8455953932415845e-05"
      ]
     },
     "metadata": {},
     "execution_count": 10
    }
   ],
   "source": [
    "X = combined_df[['trip_id', 'route_id', 'stop_sequence', 'actual_departure_time', 'vehicle_id']]\n",
    "Y = combined_df['departure_time']\n",
    "reg = LinearRegression().fit(X, Y)\n",
    "reg.score(X, Y)"
   ]
  },
  {
   "cell_type": "code",
   "execution_count": 15,
   "metadata": {},
   "outputs": [
    {
     "output_type": "execute_result",
     "data": {
      "text/plain": [
       "array([-56275070.34156585])"
      ]
     },
     "metadata": {},
     "execution_count": 15
    }
   ],
   "source": [
    "import numpy as np\n",
    "reg.predict(np.array([1346803, 24, 41, 1604508849, 140]).reshape(1, -1))"
   ]
  },
  {
   "cell_type": "code",
   "execution_count": null,
   "metadata": {},
   "outputs": [],
   "source": []
  }
 ]
}