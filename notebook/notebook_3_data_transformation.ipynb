{
 "metadata": {
  "language_info": {
   "codemirror_mode": {
    "name": "ipython",
    "version": 3
   },
   "file_extension": ".py",
   "mimetype": "text/x-python",
   "name": "python",
   "nbconvert_exporter": "python",
   "pygments_lexer": "ipython3",
   "version": 3
  },
  "orig_nbformat": 2
 },
 "nbformat": 4,
 "nbformat_minor": 2,
 "cells": [
  {
   "source": [
    "# SE-2200E Notebook 3: Data Transformation\n",
    "\n",
    "Ningsong Shen\n",
    "\n",
    "February 12, 2021\n",
    "\n",
    "## Summary\n",
    "\n",
    "We want to transform the data to make it easier to use, we want to select a subset of data to use, remove outliers, remove irrelvant features so that we can apply simple techniques. Make note of meetings that we have with Katchabaw in the related notebooks, these should be recorded too."
   ],
   "cell_type": "markdown",
   "metadata": {}
  }
 ]
}