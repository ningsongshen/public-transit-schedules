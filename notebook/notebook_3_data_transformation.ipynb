{
 "metadata": {
  "language_info": {
   "codemirror_mode": {
    "name": "ipython",
    "version": 3
   },
   "file_extension": ".py",
   "mimetype": "text/x-python",
   "name": "python",
   "nbconvert_exporter": "python",
   "pygments_lexer": "ipython3",
   "version": "3.8.5-final"
  },
  "orig_nbformat": 2,
  "kernelspec": {
   "name": "python3",
   "display_name": "Python 3.8.5 64-bit (conda)",
   "metadata": {
    "interpreter": {
     "hash": "d7c09ad3868b344ce4721317c2e75351e1424d0f2535b4a31ee4a3afec4c5490"
    }
   }
  }
 },
 "nbformat": 4,
 "nbformat_minor": 2,
 "cells": [
  {
   "source": [
    "# SE-2200E Notebook 3: Data Transformation\n",
    "\n",
    "Ningsong Shen\n",
    "\n",
    "February 12, 2021\n",
    "\n",
    "## Summary\n",
    "\n",
    "We want to transform the data to make it easier to use, we want to select a subset of data to use, remove outliers, remove irrelevant features so that we can apply simple techniques. Professor Katchabaw suggested this method which would make testing and isolating any issues easier."
   ],
   "cell_type": "markdown",
   "metadata": {}
  },
  {
   "cell_type": "code",
   "execution_count": 3,
   "metadata": {},
   "outputs": [],
   "source": [
    "import pandas as pd\n",
    "import numpy as np\n"
   ]
  },
  {
   "cell_type": "code",
   "execution_count": 4,
   "metadata": {},
   "outputs": [
    {
     "output_type": "stream",
     "name": "stderr",
     "text": [
      "C:\\Users\\nings\\anaconda3\\lib\\site-packages\\IPython\\core\\interactiveshell.py:3146: DtypeWarning: Columns (2) have mixed types.Specify dtype option on import or set low_memory=False.\n  has_raised = await self.run_ast_nodes(code_ast.body, cell_name,\n"
     ]
    }
   ],
   "source": [
    "df = pd.read_csv('../clean_data/prepared_data.csv')"
   ]
  },
  {
   "source": [
    "df['trip_id'] = df['trip_id'].astype('category')\n",
    "df.head()"
   ],
   "cell_type": "code",
   "metadata": {},
   "execution_count": 5,
   "outputs": [
    {
     "output_type": "execute_result",
     "data": {
      "text/plain": [
       "   trip_id  start_date route_id  stop_sequence  realtime_departure_time  \\\n",
       "0  1346803    20201104       24             41               1604508849   \n",
       "1  1346803    20201105       24             41               1604595120   \n",
       "2  1346803    20201106       24             41               1604681520   \n",
       "3  1346803    20201109       24             41               1604940720   \n",
       "4  1346803    20201110       24             41               1605027120   \n",
       "\n",
       "   vehicle_id scheduled_departure_time  \n",
       "0      3140.0                 11:53:34  \n",
       "1      3177.0                 11:53:34  \n",
       "2      3143.0                 11:53:34  \n",
       "3      3144.0                 11:53:34  \n",
       "4      3178.0                 11:53:34  "
      ],
      "text/html": "<div>\n<style scoped>\n    .dataframe tbody tr th:only-of-type {\n        vertical-align: middle;\n    }\n\n    .dataframe tbody tr th {\n        vertical-align: top;\n    }\n\n    .dataframe thead th {\n        text-align: right;\n    }\n</style>\n<table border=\"1\" class=\"dataframe\">\n  <thead>\n    <tr style=\"text-align: right;\">\n      <th></th>\n      <th>trip_id</th>\n      <th>start_date</th>\n      <th>route_id</th>\n      <th>stop_sequence</th>\n      <th>realtime_departure_time</th>\n      <th>vehicle_id</th>\n      <th>scheduled_departure_time</th>\n    </tr>\n  </thead>\n  <tbody>\n    <tr>\n      <th>0</th>\n      <td>1346803</td>\n      <td>20201104</td>\n      <td>24</td>\n      <td>41</td>\n      <td>1604508849</td>\n      <td>3140.0</td>\n      <td>11:53:34</td>\n    </tr>\n    <tr>\n      <th>1</th>\n      <td>1346803</td>\n      <td>20201105</td>\n      <td>24</td>\n      <td>41</td>\n      <td>1604595120</td>\n      <td>3177.0</td>\n      <td>11:53:34</td>\n    </tr>\n    <tr>\n      <th>2</th>\n      <td>1346803</td>\n      <td>20201106</td>\n      <td>24</td>\n      <td>41</td>\n      <td>1604681520</td>\n      <td>3143.0</td>\n      <td>11:53:34</td>\n    </tr>\n    <tr>\n      <th>3</th>\n      <td>1346803</td>\n      <td>20201109</td>\n      <td>24</td>\n      <td>41</td>\n      <td>1604940720</td>\n      <td>3144.0</td>\n      <td>11:53:34</td>\n    </tr>\n    <tr>\n      <th>4</th>\n      <td>1346803</td>\n      <td>20201110</td>\n      <td>24</td>\n      <td>41</td>\n      <td>1605027120</td>\n      <td>3178.0</td>\n      <td>11:53:34</td>\n    </tr>\n  </tbody>\n</table>\n</div>"
     },
     "metadata": {},
     "execution_count": 5
    }
   ]
  },
  {
   "source": [
    "Let's choose some features: a single route id and stop sequence will identify a single stop."
   ],
   "cell_type": "markdown",
   "metadata": {}
  },
  {
   "source": [
    "## More Data Cleaning\n",
    "\n",
    "To do a linear regression, we need to convert all the dates and times into a numeric value. We will use seconds from the departure time."
   ],
   "cell_type": "markdown",
   "metadata": {}
  },
  {
   "cell_type": "code",
   "execution_count": 6,
   "metadata": {},
   "outputs": [
    {
     "output_type": "execute_result",
     "data": {
      "text/plain": [
       "     trip_id start_time\n",
       "0    1342560    6:13:00\n",
       "57   1342561    7:33:00\n",
       "114  1342562    6:53:00\n",
       "175  1342563    8:02:00\n",
       "236  1342564    9:02:00"
      ],
      "text/html": "<div>\n<style scoped>\n    .dataframe tbody tr th:only-of-type {\n        vertical-align: middle;\n    }\n\n    .dataframe tbody tr th {\n        vertical-align: top;\n    }\n\n    .dataframe thead th {\n        text-align: right;\n    }\n</style>\n<table border=\"1\" class=\"dataframe\">\n  <thead>\n    <tr style=\"text-align: right;\">\n      <th></th>\n      <th>trip_id</th>\n      <th>start_time</th>\n    </tr>\n  </thead>\n  <tbody>\n    <tr>\n      <th>0</th>\n      <td>1342560</td>\n      <td>6:13:00</td>\n    </tr>\n    <tr>\n      <th>57</th>\n      <td>1342561</td>\n      <td>7:33:00</td>\n    </tr>\n    <tr>\n      <th>114</th>\n      <td>1342562</td>\n      <td>6:53:00</td>\n    </tr>\n    <tr>\n      <th>175</th>\n      <td>1342563</td>\n      <td>8:02:00</td>\n    </tr>\n    <tr>\n      <th>236</th>\n      <td>1342564</td>\n      <td>9:02:00</td>\n    </tr>\n  </tbody>\n</table>\n</div>"
     },
     "metadata": {},
     "execution_count": 6
    }
   ],
   "source": [
    "# Combine the start times with the existing dataframe.\n",
    "df1 = pd.read_csv('../raw_data/schedule/stop_times.txt')\n",
    "df2 = df1[df1[\"stop_sequence\"] == 1][['trip_id', 'departure_time']].rename(columns={'departure_time': 'start_time'})\n",
    "df2['trip_id'] = df2['trip_id'].astype('category')\n",
    "df2.head()"
   ]
  },
  {
   "cell_type": "code",
   "execution_count": 6,
   "metadata": {},
   "outputs": [
    {
     "output_type": "execute_result",
     "data": {
      "text/plain": [
       "   trip_id  start_date route_id  stop_sequence  realtime_departure_time  \\\n",
       "0  1346803    20201104       24             41               1604508849   \n",
       "1  1346803    20201105       24             41               1604595120   \n",
       "2  1346803    20201106       24             41               1604681520   \n",
       "3  1346803    20201109       24             41               1604940720   \n",
       "4  1346803    20201110       24             41               1605027120   \n",
       "\n",
       "   vehicle_id scheduled_departure_time start_time real_departure_time  \n",
       "0      3140.0                 11:53:34   11:18:00            11:54:09  \n",
       "1      3177.0                 11:53:34   11:18:00            11:52:00  \n",
       "2      3143.0                 11:53:34   11:18:00            11:52:00  \n",
       "3      3144.0                 11:53:34   11:18:00            11:52:00  \n",
       "4      3178.0                 11:53:34   11:18:00            11:52:00  "
      ],
      "text/html": "<div>\n<style scoped>\n    .dataframe tbody tr th:only-of-type {\n        vertical-align: middle;\n    }\n\n    .dataframe tbody tr th {\n        vertical-align: top;\n    }\n\n    .dataframe thead th {\n        text-align: right;\n    }\n</style>\n<table border=\"1\" class=\"dataframe\">\n  <thead>\n    <tr style=\"text-align: right;\">\n      <th></th>\n      <th>trip_id</th>\n      <th>start_date</th>\n      <th>route_id</th>\n      <th>stop_sequence</th>\n      <th>realtime_departure_time</th>\n      <th>vehicle_id</th>\n      <th>scheduled_departure_time</th>\n      <th>start_time</th>\n      <th>real_departure_time</th>\n    </tr>\n  </thead>\n  <tbody>\n    <tr>\n      <th>0</th>\n      <td>1346803</td>\n      <td>20201104</td>\n      <td>24</td>\n      <td>41</td>\n      <td>1604508849</td>\n      <td>3140.0</td>\n      <td>11:53:34</td>\n      <td>11:18:00</td>\n      <td>11:54:09</td>\n    </tr>\n    <tr>\n      <th>1</th>\n      <td>1346803</td>\n      <td>20201105</td>\n      <td>24</td>\n      <td>41</td>\n      <td>1604595120</td>\n      <td>3177.0</td>\n      <td>11:53:34</td>\n      <td>11:18:00</td>\n      <td>11:52:00</td>\n    </tr>\n    <tr>\n      <th>2</th>\n      <td>1346803</td>\n      <td>20201106</td>\n      <td>24</td>\n      <td>41</td>\n      <td>1604681520</td>\n      <td>3143.0</td>\n      <td>11:53:34</td>\n      <td>11:18:00</td>\n      <td>11:52:00</td>\n    </tr>\n    <tr>\n      <th>3</th>\n      <td>1346803</td>\n      <td>20201109</td>\n      <td>24</td>\n      <td>41</td>\n      <td>1604940720</td>\n      <td>3144.0</td>\n      <td>11:53:34</td>\n      <td>11:18:00</td>\n      <td>11:52:00</td>\n    </tr>\n    <tr>\n      <th>4</th>\n      <td>1346803</td>\n      <td>20201110</td>\n      <td>24</td>\n      <td>41</td>\n      <td>1605027120</td>\n      <td>3178.0</td>\n      <td>11:53:34</td>\n      <td>11:18:00</td>\n      <td>11:52:00</td>\n    </tr>\n  </tbody>\n</table>\n</div>"
     },
     "metadata": {},
     "execution_count": 6
    }
   ],
   "source": [
    "combined_df = df.merge(df2, on=\"trip_id\", how='inner')\n",
    "combined_df['real_departure_time'] = pd.to_datetime(combined_df['realtime_departure_time'],unit='s').dt.tz_localize(\"GMT\").dt.tz_convert('America/Toronto').dt.time\n",
    "combined_df.head()"
   ]
  },
  {
   "source": [
    "After the mess of converting times, we now had to find the number of seconds between the times so that a regression can be performed. Initially, I had no idea how to best model the dataset in a way that the regression can assist with prediction. Individual times and stops lacked sufficient data, times were not exactly numeric, and I wanted to be able to isolate different datasets to make testing easier. In a flash of inspiration, I found that the number of seconds elapsed from the terminal departure time was ideal. This would let me isolate by line, see patterns in journey times, and do better prediction with an abundance of data."
   ],
   "cell_type": "markdown",
   "metadata": {}
  },
  {
   "cell_type": "code",
   "execution_count": 7,
   "metadata": {},
   "outputs": [],
   "source": [
    "helper = np.vectorize(lambda x: x.total_seconds())\n",
    "combined_df['real_departure_time'] = helper(pd.to_datetime(combined_df['real_departure_time'].astype(str)).dt.to_pydatetime() - pd.to_datetime(combined_df['start_time'].astype(str)).dt.to_pydatetime())\n",
    "\n",
    "combined_df['scheduled_departure_time'] = helper(pd.to_datetime(combined_df['scheduled_departure_time'].astype(str)).dt.to_pydatetime() - pd.to_datetime(combined_df['start_time'].astype(str)).dt.to_pydatetime())"
   ]
  },
  {
   "cell_type": "code",
   "execution_count": 8,
   "metadata": {},
   "outputs": [],
   "source": [
    "del combined_df[\"realtime_departure_time\"]\n",
    "del combined_df[\"start_time\"]\n"
   ]
  },
  {
   "cell_type": "code",
   "execution_count": 9,
   "metadata": {},
   "outputs": [
    {
     "output_type": "execute_result",
     "data": {
      "text/plain": [
       "   trip_id  start_date route_id  stop_sequence  vehicle_id  \\\n",
       "0  1346803    20201104       24             41      3140.0   \n",
       "1  1346803    20201105       24             41      3177.0   \n",
       "2  1346803    20201106       24             41      3143.0   \n",
       "3  1346803    20201109       24             41      3144.0   \n",
       "4  1346803    20201110       24             41      3178.0   \n",
       "\n",
       "   scheduled_departure_time  real_departure_time  \n",
       "0                    2134.0               2169.0  \n",
       "1                    2134.0               2040.0  \n",
       "2                    2134.0               2040.0  \n",
       "3                    2134.0               2040.0  \n",
       "4                    2134.0               2040.0  "
      ],
      "text/html": "<div>\n<style scoped>\n    .dataframe tbody tr th:only-of-type {\n        vertical-align: middle;\n    }\n\n    .dataframe tbody tr th {\n        vertical-align: top;\n    }\n\n    .dataframe thead th {\n        text-align: right;\n    }\n</style>\n<table border=\"1\" class=\"dataframe\">\n  <thead>\n    <tr style=\"text-align: right;\">\n      <th></th>\n      <th>trip_id</th>\n      <th>start_date</th>\n      <th>route_id</th>\n      <th>stop_sequence</th>\n      <th>vehicle_id</th>\n      <th>scheduled_departure_time</th>\n      <th>real_departure_time</th>\n    </tr>\n  </thead>\n  <tbody>\n    <tr>\n      <th>0</th>\n      <td>1346803</td>\n      <td>20201104</td>\n      <td>24</td>\n      <td>41</td>\n      <td>3140.0</td>\n      <td>2134.0</td>\n      <td>2169.0</td>\n    </tr>\n    <tr>\n      <th>1</th>\n      <td>1346803</td>\n      <td>20201105</td>\n      <td>24</td>\n      <td>41</td>\n      <td>3177.0</td>\n      <td>2134.0</td>\n      <td>2040.0</td>\n    </tr>\n    <tr>\n      <th>2</th>\n      <td>1346803</td>\n      <td>20201106</td>\n      <td>24</td>\n      <td>41</td>\n      <td>3143.0</td>\n      <td>2134.0</td>\n      <td>2040.0</td>\n    </tr>\n    <tr>\n      <th>3</th>\n      <td>1346803</td>\n      <td>20201109</td>\n      <td>24</td>\n      <td>41</td>\n      <td>3144.0</td>\n      <td>2134.0</td>\n      <td>2040.0</td>\n    </tr>\n    <tr>\n      <th>4</th>\n      <td>1346803</td>\n      <td>20201110</td>\n      <td>24</td>\n      <td>41</td>\n      <td>3178.0</td>\n      <td>2134.0</td>\n      <td>2040.0</td>\n    </tr>\n  </tbody>\n</table>\n</div>"
     },
     "metadata": {},
     "execution_count": 9
    }
   ],
   "source": [
    "combined_df.head()"
   ]
  },
  {
   "source": [
    "## Selecting a Route and storing it in a csv"
   ],
   "cell_type": "markdown",
   "metadata": {}
  },
  {
   "cell_type": "code",
   "execution_count": 2,
   "metadata": {},
   "outputs": [
    {
     "output_type": "error",
     "ename": "NameError",
     "evalue": "name 'combined_df' is not defined",
     "traceback": [
      "\u001b[1;31m---------------------------------------------------------------------------\u001b[0m",
      "\u001b[1;31mNameError\u001b[0m                                 Traceback (most recent call last)",
      "\u001b[1;32m<ipython-input-2-76ab49af7072>\u001b[0m in \u001b[0;36m<module>\u001b[1;34m\u001b[0m\n\u001b[0;32m      1\u001b[0m \u001b[1;31m# Currently we try all data, a good representative sample is 1345770\u001b[0m\u001b[1;33m\u001b[0m\u001b[1;33m\u001b[0m\u001b[1;33m\u001b[0m\u001b[0m\n\u001b[0;32m      2\u001b[0m \u001b[1;31m# stop_route = combined_df.loc[(df['trip_id'] == 1345770)]\u001b[0m\u001b[1;33m\u001b[0m\u001b[1;33m\u001b[0m\u001b[1;33m\u001b[0m\u001b[0m\n\u001b[1;32m----> 3\u001b[1;33m \u001b[0mstop_route\u001b[0m \u001b[1;33m=\u001b[0m \u001b[0mcombined_df\u001b[0m\u001b[1;33m\u001b[0m\u001b[1;33m\u001b[0m\u001b[0m\n\u001b[0m",
      "\u001b[1;31mNameError\u001b[0m: name 'combined_df' is not defined"
     ]
    }
   ],
   "source": [
    "# Currently we try all data, a good representative sample is 1345770\n",
    "# stop_route = combined_df.loc[(df['trip_id'] == 1345770)]\n",
    "stop_route = combined_df"
   ]
  },
  {
   "cell_type": "code",
   "execution_count": 1,
   "metadata": {},
   "outputs": [
    {
     "output_type": "error",
     "ename": "NameError",
     "evalue": "name 'stop_route' is not defined",
     "traceback": [
      "\u001b[1;31m---------------------------------------------------------------------------\u001b[0m",
      "\u001b[1;31mNameError\u001b[0m                                 Traceback (most recent call last)",
      "\u001b[1;32m<ipython-input-1-7dad30d92171>\u001b[0m in \u001b[0;36m<module>\u001b[1;34m\u001b[0m\n\u001b[1;32m----> 1\u001b[1;33m \u001b[0mstop_route\u001b[0m\u001b[1;33m.\u001b[0m\u001b[0msample\u001b[0m\u001b[1;33m(\u001b[0m\u001b[1;33m)\u001b[0m\u001b[1;33m\u001b[0m\u001b[1;33m\u001b[0m\u001b[0m\n\u001b[0m",
      "\u001b[1;31mNameError\u001b[0m: name 'stop_route' is not defined"
     ]
    }
   ],
   "source": [
    "stop_route.sample(20)"
   ]
  },
  {
   "cell_type": "code",
   "execution_count": 12,
   "metadata": {},
   "outputs": [],
   "source": [
    "stop_route.to_csv('../clean_data/sample_data.csv', index=False)"
   ]
  },
  {
   "cell_type": "code",
   "execution_count": null,
   "metadata": {},
   "outputs": [],
   "source": []
  }
 ]
}