{
 "metadata": {
  "language_info": {
   "codemirror_mode": {
    "name": "ipython",
    "version": 3
   },
   "file_extension": ".py",
   "mimetype": "text/x-python",
   "name": "python",
   "nbconvert_exporter": "python",
   "pygments_lexer": "ipython3",
   "version": "3.8.5-final"
  },
  "orig_nbformat": 2,
  "kernelspec": {
   "name": "python3",
   "display_name": "Python 3.8.5 64-bit (conda)",
   "metadata": {
    "interpreter": {
     "hash": "d7c09ad3868b344ce4721317c2e75351e1424d0f2535b4a31ee4a3afec4c5490"
    }
   }
  }
 },
 "nbformat": 4,
 "nbformat_minor": 2,
 "cells": [
  {
   "source": [
    "# SE-2200E Notebook 3: Data Transformation\n",
    "\n",
    "Ningsong Shen\n",
    "\n",
    "February 12, 2021\n",
    "\n",
    "## Summary\n",
    "\n",
    "We want to transform the data to make it easier to use, we want to select a subset of data to use, remove outliers, remove irrelevant features so that we can apply simple techniques. Professor Katchabaw suggested this method which would make testing and isolating any issues easier."
   ],
   "cell_type": "markdown",
   "metadata": {}
  },
  {
   "cell_type": "code",
   "execution_count": 2,
   "metadata": {},
   "outputs": [],
   "source": [
    "import pandas as pd \n"
   ]
  },
  {
   "cell_type": "code",
   "execution_count": 3,
   "metadata": {},
   "outputs": [
    {
     "output_type": "stream",
     "name": "stderr",
     "text": [
      "C:\\Users\\nings\\anaconda3\\lib\\site-packages\\IPython\\core\\interactiveshell.py:3146: DtypeWarning: Columns (2) have mixed types.Specify dtype option on import or set low_memory=False.\n  has_raised = await self.run_ast_nodes(code_ast.body, cell_name,\n"
     ]
    }
   ],
   "source": [
    "df = pd.read_csv('../clean_data/prepared_data.csv')"
   ]
  },
  {
   "source": [
    "df.head(50)"
   ],
   "cell_type": "code",
   "metadata": {},
   "execution_count": 4,
   "outputs": [
    {
     "output_type": "execute_result",
     "data": {
      "text/plain": [
       "    trip_id  start_date route_id  stop_sequence  realtime_departure_time  \\\n",
       "0   1346803    20201104       24             41               1604508849   \n",
       "1   1346803    20201105       24             41               1604595120   \n",
       "2   1346803    20201106       24             41               1604681520   \n",
       "3   1346803    20201109       24             41               1604940720   \n",
       "4   1346803    20201110       24             41               1605027120   \n",
       "5   1346803    20201111       24             41               1605113520   \n",
       "6   1346803    20201112       24             41               1605199920   \n",
       "7   1346803    20201113       24             41               1605286320   \n",
       "8   1346803    20201116       24             41               1605545520   \n",
       "9   1346803    20201117       24             41               1605631920   \n",
       "10  1346803    20201118       24             41               1605718320   \n",
       "11  1346803    20201119       24             41               1605804720   \n",
       "12  1346803    20201120       24             41               1605891120   \n",
       "13  1346803    20201123       24             41               1606150320   \n",
       "14  1346803    20201124       24             41               1606236720   \n",
       "15  1346803    20201125       24             41               1606323120   \n",
       "16  1346803    20201126       24             41               1606409520   \n",
       "17  1346803    20201127       24             41               1606496024   \n",
       "18  1346803    20201105       24             41               1604595120   \n",
       "19  1346803    20201106       24             41               1604681520   \n",
       "20  1346803    20201109       24             41               1604940720   \n",
       "21  1346803    20201110       24             41               1605027120   \n",
       "22  1346803    20201111       24             41               1605113520   \n",
       "23  1346803    20201104       24             42               1604508850   \n",
       "24  1346803    20201105       24             42               1604595130   \n",
       "25  1346803    20201106       24             42               1604681695   \n",
       "26  1346803    20201109       24             42               1604940865   \n",
       "27  1346803    20201110       24             42               1605027265   \n",
       "28  1346803    20201111       24             42               1605113710   \n",
       "29  1346803    20201112       24             42               1605200050   \n",
       "30  1346803    20201113       24             42               1605286645   \n",
       "31  1346803    20201116       24             42               1605545635   \n",
       "32  1346803    20201117       24             42               1605631945   \n",
       "33  1346803    20201118       24             42               1605718555   \n",
       "34  1346803    20201119       24             42               1605804865   \n",
       "35  1346803    20201120       24             42               1605891175   \n",
       "36  1346803    20201123       24             42               1606150435   \n",
       "37  1346803    20201124       24             42               1606236970   \n",
       "38  1346803    20201125       24             42               1606323295   \n",
       "39  1346803    20201126       24             42               1606409605   \n",
       "40  1346803    20201127       24             42               1606496050   \n",
       "41  1346803    20201105       24             42               1604595130   \n",
       "42  1346803    20201106       24             42               1604681695   \n",
       "43  1346803    20201109       24             42               1604940865   \n",
       "44  1346803    20201110       24             42               1605027265   \n",
       "45  1346803    20201111       24             42               1605113710   \n",
       "46  1346803    20201104       24             43               1604508889   \n",
       "47  1346803    20201105       24             43               1604595169   \n",
       "48  1346803    20201106       24             43               1604681734   \n",
       "49  1346803    20201109       24             43               1604940904   \n",
       "\n",
       "    vehicle_id scheduled_departure_time  \n",
       "0       3140.0                 11:53:34  \n",
       "1       3177.0                 11:53:34  \n",
       "2       3143.0                 11:53:34  \n",
       "3       3144.0                 11:53:34  \n",
       "4       3178.0                 11:53:34  \n",
       "5       3503.0                 11:53:34  \n",
       "6       3510.0                 11:53:34  \n",
       "7       3338.0                 11:53:34  \n",
       "8       3164.0                 11:53:34  \n",
       "9       3520.0                 11:53:34  \n",
       "10      3340.0                 11:53:34  \n",
       "11      3512.0                 11:53:34  \n",
       "12      3108.0                 11:53:34  \n",
       "13      3514.0                 11:53:34  \n",
       "14      3325.0                 11:53:34  \n",
       "15      3352.0                 11:53:34  \n",
       "16      3552.0                 11:53:34  \n",
       "17      3148.0                 11:53:34  \n",
       "18      3177.0                 11:53:34  \n",
       "19      3143.0                 11:53:34  \n",
       "20      3144.0                 11:53:34  \n",
       "21      3178.0                 11:53:34  \n",
       "22      3503.0                 11:53:34  \n",
       "23      3140.0                 11:54:13  \n",
       "24      3177.0                 11:54:13  \n",
       "25      3143.0                 11:54:13  \n",
       "26      3144.0                 11:54:13  \n",
       "27      3178.0                 11:54:13  \n",
       "28      3503.0                 11:54:13  \n",
       "29      3510.0                 11:54:13  \n",
       "30      3338.0                 11:54:13  \n",
       "31      3164.0                 11:54:13  \n",
       "32      3520.0                 11:54:13  \n",
       "33      3340.0                 11:54:13  \n",
       "34      3512.0                 11:54:13  \n",
       "35      3108.0                 11:54:13  \n",
       "36      3514.0                 11:54:13  \n",
       "37      3325.0                 11:54:13  \n",
       "38      3352.0                 11:54:13  \n",
       "39      3552.0                 11:54:13  \n",
       "40      3148.0                 11:54:13  \n",
       "41      3177.0                 11:54:13  \n",
       "42      3143.0                 11:54:13  \n",
       "43      3144.0                 11:54:13  \n",
       "44      3178.0                 11:54:13  \n",
       "45      3503.0                 11:54:13  \n",
       "46      3140.0                 11:55:07  \n",
       "47      3177.0                 11:55:07  \n",
       "48      3143.0                 11:55:07  \n",
       "49      3144.0                 11:55:07  "
      ],
      "text/html": "<div>\n<style scoped>\n    .dataframe tbody tr th:only-of-type {\n        vertical-align: middle;\n    }\n\n    .dataframe tbody tr th {\n        vertical-align: top;\n    }\n\n    .dataframe thead th {\n        text-align: right;\n    }\n</style>\n<table border=\"1\" class=\"dataframe\">\n  <thead>\n    <tr style=\"text-align: right;\">\n      <th></th>\n      <th>trip_id</th>\n      <th>start_date</th>\n      <th>route_id</th>\n      <th>stop_sequence</th>\n      <th>realtime_departure_time</th>\n      <th>vehicle_id</th>\n      <th>scheduled_departure_time</th>\n    </tr>\n  </thead>\n  <tbody>\n    <tr>\n      <th>0</th>\n      <td>1346803</td>\n      <td>20201104</td>\n      <td>24</td>\n      <td>41</td>\n      <td>1604508849</td>\n      <td>3140.0</td>\n      <td>11:53:34</td>\n    </tr>\n    <tr>\n      <th>1</th>\n      <td>1346803</td>\n      <td>20201105</td>\n      <td>24</td>\n      <td>41</td>\n      <td>1604595120</td>\n      <td>3177.0</td>\n      <td>11:53:34</td>\n    </tr>\n    <tr>\n      <th>2</th>\n      <td>1346803</td>\n      <td>20201106</td>\n      <td>24</td>\n      <td>41</td>\n      <td>1604681520</td>\n      <td>3143.0</td>\n      <td>11:53:34</td>\n    </tr>\n    <tr>\n      <th>3</th>\n      <td>1346803</td>\n      <td>20201109</td>\n      <td>24</td>\n      <td>41</td>\n      <td>1604940720</td>\n      <td>3144.0</td>\n      <td>11:53:34</td>\n    </tr>\n    <tr>\n      <th>4</th>\n      <td>1346803</td>\n      <td>20201110</td>\n      <td>24</td>\n      <td>41</td>\n      <td>1605027120</td>\n      <td>3178.0</td>\n      <td>11:53:34</td>\n    </tr>\n    <tr>\n      <th>5</th>\n      <td>1346803</td>\n      <td>20201111</td>\n      <td>24</td>\n      <td>41</td>\n      <td>1605113520</td>\n      <td>3503.0</td>\n      <td>11:53:34</td>\n    </tr>\n    <tr>\n      <th>6</th>\n      <td>1346803</td>\n      <td>20201112</td>\n      <td>24</td>\n      <td>41</td>\n      <td>1605199920</td>\n      <td>3510.0</td>\n      <td>11:53:34</td>\n    </tr>\n    <tr>\n      <th>7</th>\n      <td>1346803</td>\n      <td>20201113</td>\n      <td>24</td>\n      <td>41</td>\n      <td>1605286320</td>\n      <td>3338.0</td>\n      <td>11:53:34</td>\n    </tr>\n    <tr>\n      <th>8</th>\n      <td>1346803</td>\n      <td>20201116</td>\n      <td>24</td>\n      <td>41</td>\n      <td>1605545520</td>\n      <td>3164.0</td>\n      <td>11:53:34</td>\n    </tr>\n    <tr>\n      <th>9</th>\n      <td>1346803</td>\n      <td>20201117</td>\n      <td>24</td>\n      <td>41</td>\n      <td>1605631920</td>\n      <td>3520.0</td>\n      <td>11:53:34</td>\n    </tr>\n    <tr>\n      <th>10</th>\n      <td>1346803</td>\n      <td>20201118</td>\n      <td>24</td>\n      <td>41</td>\n      <td>1605718320</td>\n      <td>3340.0</td>\n      <td>11:53:34</td>\n    </tr>\n    <tr>\n      <th>11</th>\n      <td>1346803</td>\n      <td>20201119</td>\n      <td>24</td>\n      <td>41</td>\n      <td>1605804720</td>\n      <td>3512.0</td>\n      <td>11:53:34</td>\n    </tr>\n    <tr>\n      <th>12</th>\n      <td>1346803</td>\n      <td>20201120</td>\n      <td>24</td>\n      <td>41</td>\n      <td>1605891120</td>\n      <td>3108.0</td>\n      <td>11:53:34</td>\n    </tr>\n    <tr>\n      <th>13</th>\n      <td>1346803</td>\n      <td>20201123</td>\n      <td>24</td>\n      <td>41</td>\n      <td>1606150320</td>\n      <td>3514.0</td>\n      <td>11:53:34</td>\n    </tr>\n    <tr>\n      <th>14</th>\n      <td>1346803</td>\n      <td>20201124</td>\n      <td>24</td>\n      <td>41</td>\n      <td>1606236720</td>\n      <td>3325.0</td>\n      <td>11:53:34</td>\n    </tr>\n    <tr>\n      <th>15</th>\n      <td>1346803</td>\n      <td>20201125</td>\n      <td>24</td>\n      <td>41</td>\n      <td>1606323120</td>\n      <td>3352.0</td>\n      <td>11:53:34</td>\n    </tr>\n    <tr>\n      <th>16</th>\n      <td>1346803</td>\n      <td>20201126</td>\n      <td>24</td>\n      <td>41</td>\n      <td>1606409520</td>\n      <td>3552.0</td>\n      <td>11:53:34</td>\n    </tr>\n    <tr>\n      <th>17</th>\n      <td>1346803</td>\n      <td>20201127</td>\n      <td>24</td>\n      <td>41</td>\n      <td>1606496024</td>\n      <td>3148.0</td>\n      <td>11:53:34</td>\n    </tr>\n    <tr>\n      <th>18</th>\n      <td>1346803</td>\n      <td>20201105</td>\n      <td>24</td>\n      <td>41</td>\n      <td>1604595120</td>\n      <td>3177.0</td>\n      <td>11:53:34</td>\n    </tr>\n    <tr>\n      <th>19</th>\n      <td>1346803</td>\n      <td>20201106</td>\n      <td>24</td>\n      <td>41</td>\n      <td>1604681520</td>\n      <td>3143.0</td>\n      <td>11:53:34</td>\n    </tr>\n    <tr>\n      <th>20</th>\n      <td>1346803</td>\n      <td>20201109</td>\n      <td>24</td>\n      <td>41</td>\n      <td>1604940720</td>\n      <td>3144.0</td>\n      <td>11:53:34</td>\n    </tr>\n    <tr>\n      <th>21</th>\n      <td>1346803</td>\n      <td>20201110</td>\n      <td>24</td>\n      <td>41</td>\n      <td>1605027120</td>\n      <td>3178.0</td>\n      <td>11:53:34</td>\n    </tr>\n    <tr>\n      <th>22</th>\n      <td>1346803</td>\n      <td>20201111</td>\n      <td>24</td>\n      <td>41</td>\n      <td>1605113520</td>\n      <td>3503.0</td>\n      <td>11:53:34</td>\n    </tr>\n    <tr>\n      <th>23</th>\n      <td>1346803</td>\n      <td>20201104</td>\n      <td>24</td>\n      <td>42</td>\n      <td>1604508850</td>\n      <td>3140.0</td>\n      <td>11:54:13</td>\n    </tr>\n    <tr>\n      <th>24</th>\n      <td>1346803</td>\n      <td>20201105</td>\n      <td>24</td>\n      <td>42</td>\n      <td>1604595130</td>\n      <td>3177.0</td>\n      <td>11:54:13</td>\n    </tr>\n    <tr>\n      <th>25</th>\n      <td>1346803</td>\n      <td>20201106</td>\n      <td>24</td>\n      <td>42</td>\n      <td>1604681695</td>\n      <td>3143.0</td>\n      <td>11:54:13</td>\n    </tr>\n    <tr>\n      <th>26</th>\n      <td>1346803</td>\n      <td>20201109</td>\n      <td>24</td>\n      <td>42</td>\n      <td>1604940865</td>\n      <td>3144.0</td>\n      <td>11:54:13</td>\n    </tr>\n    <tr>\n      <th>27</th>\n      <td>1346803</td>\n      <td>20201110</td>\n      <td>24</td>\n      <td>42</td>\n      <td>1605027265</td>\n      <td>3178.0</td>\n      <td>11:54:13</td>\n    </tr>\n    <tr>\n      <th>28</th>\n      <td>1346803</td>\n      <td>20201111</td>\n      <td>24</td>\n      <td>42</td>\n      <td>1605113710</td>\n      <td>3503.0</td>\n      <td>11:54:13</td>\n    </tr>\n    <tr>\n      <th>29</th>\n      <td>1346803</td>\n      <td>20201112</td>\n      <td>24</td>\n      <td>42</td>\n      <td>1605200050</td>\n      <td>3510.0</td>\n      <td>11:54:13</td>\n    </tr>\n    <tr>\n      <th>30</th>\n      <td>1346803</td>\n      <td>20201113</td>\n      <td>24</td>\n      <td>42</td>\n      <td>1605286645</td>\n      <td>3338.0</td>\n      <td>11:54:13</td>\n    </tr>\n    <tr>\n      <th>31</th>\n      <td>1346803</td>\n      <td>20201116</td>\n      <td>24</td>\n      <td>42</td>\n      <td>1605545635</td>\n      <td>3164.0</td>\n      <td>11:54:13</td>\n    </tr>\n    <tr>\n      <th>32</th>\n      <td>1346803</td>\n      <td>20201117</td>\n      <td>24</td>\n      <td>42</td>\n      <td>1605631945</td>\n      <td>3520.0</td>\n      <td>11:54:13</td>\n    </tr>\n    <tr>\n      <th>33</th>\n      <td>1346803</td>\n      <td>20201118</td>\n      <td>24</td>\n      <td>42</td>\n      <td>1605718555</td>\n      <td>3340.0</td>\n      <td>11:54:13</td>\n    </tr>\n    <tr>\n      <th>34</th>\n      <td>1346803</td>\n      <td>20201119</td>\n      <td>24</td>\n      <td>42</td>\n      <td>1605804865</td>\n      <td>3512.0</td>\n      <td>11:54:13</td>\n    </tr>\n    <tr>\n      <th>35</th>\n      <td>1346803</td>\n      <td>20201120</td>\n      <td>24</td>\n      <td>42</td>\n      <td>1605891175</td>\n      <td>3108.0</td>\n      <td>11:54:13</td>\n    </tr>\n    <tr>\n      <th>36</th>\n      <td>1346803</td>\n      <td>20201123</td>\n      <td>24</td>\n      <td>42</td>\n      <td>1606150435</td>\n      <td>3514.0</td>\n      <td>11:54:13</td>\n    </tr>\n    <tr>\n      <th>37</th>\n      <td>1346803</td>\n      <td>20201124</td>\n      <td>24</td>\n      <td>42</td>\n      <td>1606236970</td>\n      <td>3325.0</td>\n      <td>11:54:13</td>\n    </tr>\n    <tr>\n      <th>38</th>\n      <td>1346803</td>\n      <td>20201125</td>\n      <td>24</td>\n      <td>42</td>\n      <td>1606323295</td>\n      <td>3352.0</td>\n      <td>11:54:13</td>\n    </tr>\n    <tr>\n      <th>39</th>\n      <td>1346803</td>\n      <td>20201126</td>\n      <td>24</td>\n      <td>42</td>\n      <td>1606409605</td>\n      <td>3552.0</td>\n      <td>11:54:13</td>\n    </tr>\n    <tr>\n      <th>40</th>\n      <td>1346803</td>\n      <td>20201127</td>\n      <td>24</td>\n      <td>42</td>\n      <td>1606496050</td>\n      <td>3148.0</td>\n      <td>11:54:13</td>\n    </tr>\n    <tr>\n      <th>41</th>\n      <td>1346803</td>\n      <td>20201105</td>\n      <td>24</td>\n      <td>42</td>\n      <td>1604595130</td>\n      <td>3177.0</td>\n      <td>11:54:13</td>\n    </tr>\n    <tr>\n      <th>42</th>\n      <td>1346803</td>\n      <td>20201106</td>\n      <td>24</td>\n      <td>42</td>\n      <td>1604681695</td>\n      <td>3143.0</td>\n      <td>11:54:13</td>\n    </tr>\n    <tr>\n      <th>43</th>\n      <td>1346803</td>\n      <td>20201109</td>\n      <td>24</td>\n      <td>42</td>\n      <td>1604940865</td>\n      <td>3144.0</td>\n      <td>11:54:13</td>\n    </tr>\n    <tr>\n      <th>44</th>\n      <td>1346803</td>\n      <td>20201110</td>\n      <td>24</td>\n      <td>42</td>\n      <td>1605027265</td>\n      <td>3178.0</td>\n      <td>11:54:13</td>\n    </tr>\n    <tr>\n      <th>45</th>\n      <td>1346803</td>\n      <td>20201111</td>\n      <td>24</td>\n      <td>42</td>\n      <td>1605113710</td>\n      <td>3503.0</td>\n      <td>11:54:13</td>\n    </tr>\n    <tr>\n      <th>46</th>\n      <td>1346803</td>\n      <td>20201104</td>\n      <td>24</td>\n      <td>43</td>\n      <td>1604508889</td>\n      <td>3140.0</td>\n      <td>11:55:07</td>\n    </tr>\n    <tr>\n      <th>47</th>\n      <td>1346803</td>\n      <td>20201105</td>\n      <td>24</td>\n      <td>43</td>\n      <td>1604595169</td>\n      <td>3177.0</td>\n      <td>11:55:07</td>\n    </tr>\n    <tr>\n      <th>48</th>\n      <td>1346803</td>\n      <td>20201106</td>\n      <td>24</td>\n      <td>43</td>\n      <td>1604681734</td>\n      <td>3143.0</td>\n      <td>11:55:07</td>\n    </tr>\n    <tr>\n      <th>49</th>\n      <td>1346803</td>\n      <td>20201109</td>\n      <td>24</td>\n      <td>43</td>\n      <td>1604940904</td>\n      <td>3144.0</td>\n      <td>11:55:07</td>\n    </tr>\n  </tbody>\n</table>\n</div>"
     },
     "metadata": {},
     "execution_count": 4
    }
   ]
  },
  {
   "source": [
    "Let's choose some features: a single route id and stop sequence will identify a single stop."
   ],
   "cell_type": "markdown",
   "metadata": {}
  },
  {
   "cell_type": "code",
   "execution_count": 5,
   "metadata": {},
   "outputs": [],
   "source": [
    "stop_route = df.loc[(df['trip_id'] == 1346803) & (df['stop_sequence'] == 41)]"
   ]
  },
  {
   "cell_type": "code",
   "execution_count": 7,
   "metadata": {},
   "outputs": [
    {
     "output_type": "execute_result",
     "data": {
      "text/plain": [
       "    trip_id  start_date route_id  stop_sequence  realtime_departure_time  \\\n",
       "0   1346803    20201104       24             41               1604508849   \n",
       "1   1346803    20201105       24             41               1604595120   \n",
       "2   1346803    20201106       24             41               1604681520   \n",
       "3   1346803    20201109       24             41               1604940720   \n",
       "4   1346803    20201110       24             41               1605027120   \n",
       "5   1346803    20201111       24             41               1605113520   \n",
       "6   1346803    20201112       24             41               1605199920   \n",
       "7   1346803    20201113       24             41               1605286320   \n",
       "8   1346803    20201116       24             41               1605545520   \n",
       "9   1346803    20201117       24             41               1605631920   \n",
       "10  1346803    20201118       24             41               1605718320   \n",
       "11  1346803    20201119       24             41               1605804720   \n",
       "12  1346803    20201120       24             41               1605891120   \n",
       "13  1346803    20201123       24             41               1606150320   \n",
       "14  1346803    20201124       24             41               1606236720   \n",
       "15  1346803    20201125       24             41               1606323120   \n",
       "16  1346803    20201126       24             41               1606409520   \n",
       "17  1346803    20201127       24             41               1606496024   \n",
       "18  1346803    20201105       24             41               1604595120   \n",
       "19  1346803    20201106       24             41               1604681520   \n",
       "20  1346803    20201109       24             41               1604940720   \n",
       "21  1346803    20201110       24             41               1605027120   \n",
       "22  1346803    20201111       24             41               1605113520   \n",
       "\n",
       "    vehicle_id scheduled_departure_time  \n",
       "0       3140.0                 11:53:34  \n",
       "1       3177.0                 11:53:34  \n",
       "2       3143.0                 11:53:34  \n",
       "3       3144.0                 11:53:34  \n",
       "4       3178.0                 11:53:34  \n",
       "5       3503.0                 11:53:34  \n",
       "6       3510.0                 11:53:34  \n",
       "7       3338.0                 11:53:34  \n",
       "8       3164.0                 11:53:34  \n",
       "9       3520.0                 11:53:34  \n",
       "10      3340.0                 11:53:34  \n",
       "11      3512.0                 11:53:34  \n",
       "12      3108.0                 11:53:34  \n",
       "13      3514.0                 11:53:34  \n",
       "14      3325.0                 11:53:34  \n",
       "15      3352.0                 11:53:34  \n",
       "16      3552.0                 11:53:34  \n",
       "17      3148.0                 11:53:34  \n",
       "18      3177.0                 11:53:34  \n",
       "19      3143.0                 11:53:34  \n",
       "20      3144.0                 11:53:34  \n",
       "21      3178.0                 11:53:34  \n",
       "22      3503.0                 11:53:34  "
      ],
      "text/html": "<div>\n<style scoped>\n    .dataframe tbody tr th:only-of-type {\n        vertical-align: middle;\n    }\n\n    .dataframe tbody tr th {\n        vertical-align: top;\n    }\n\n    .dataframe thead th {\n        text-align: right;\n    }\n</style>\n<table border=\"1\" class=\"dataframe\">\n  <thead>\n    <tr style=\"text-align: right;\">\n      <th></th>\n      <th>trip_id</th>\n      <th>start_date</th>\n      <th>route_id</th>\n      <th>stop_sequence</th>\n      <th>realtime_departure_time</th>\n      <th>vehicle_id</th>\n      <th>scheduled_departure_time</th>\n    </tr>\n  </thead>\n  <tbody>\n    <tr>\n      <th>0</th>\n      <td>1346803</td>\n      <td>20201104</td>\n      <td>24</td>\n      <td>41</td>\n      <td>1604508849</td>\n      <td>3140.0</td>\n      <td>11:53:34</td>\n    </tr>\n    <tr>\n      <th>1</th>\n      <td>1346803</td>\n      <td>20201105</td>\n      <td>24</td>\n      <td>41</td>\n      <td>1604595120</td>\n      <td>3177.0</td>\n      <td>11:53:34</td>\n    </tr>\n    <tr>\n      <th>2</th>\n      <td>1346803</td>\n      <td>20201106</td>\n      <td>24</td>\n      <td>41</td>\n      <td>1604681520</td>\n      <td>3143.0</td>\n      <td>11:53:34</td>\n    </tr>\n    <tr>\n      <th>3</th>\n      <td>1346803</td>\n      <td>20201109</td>\n      <td>24</td>\n      <td>41</td>\n      <td>1604940720</td>\n      <td>3144.0</td>\n      <td>11:53:34</td>\n    </tr>\n    <tr>\n      <th>4</th>\n      <td>1346803</td>\n      <td>20201110</td>\n      <td>24</td>\n      <td>41</td>\n      <td>1605027120</td>\n      <td>3178.0</td>\n      <td>11:53:34</td>\n    </tr>\n    <tr>\n      <th>5</th>\n      <td>1346803</td>\n      <td>20201111</td>\n      <td>24</td>\n      <td>41</td>\n      <td>1605113520</td>\n      <td>3503.0</td>\n      <td>11:53:34</td>\n    </tr>\n    <tr>\n      <th>6</th>\n      <td>1346803</td>\n      <td>20201112</td>\n      <td>24</td>\n      <td>41</td>\n      <td>1605199920</td>\n      <td>3510.0</td>\n      <td>11:53:34</td>\n    </tr>\n    <tr>\n      <th>7</th>\n      <td>1346803</td>\n      <td>20201113</td>\n      <td>24</td>\n      <td>41</td>\n      <td>1605286320</td>\n      <td>3338.0</td>\n      <td>11:53:34</td>\n    </tr>\n    <tr>\n      <th>8</th>\n      <td>1346803</td>\n      <td>20201116</td>\n      <td>24</td>\n      <td>41</td>\n      <td>1605545520</td>\n      <td>3164.0</td>\n      <td>11:53:34</td>\n    </tr>\n    <tr>\n      <th>9</th>\n      <td>1346803</td>\n      <td>20201117</td>\n      <td>24</td>\n      <td>41</td>\n      <td>1605631920</td>\n      <td>3520.0</td>\n      <td>11:53:34</td>\n    </tr>\n    <tr>\n      <th>10</th>\n      <td>1346803</td>\n      <td>20201118</td>\n      <td>24</td>\n      <td>41</td>\n      <td>1605718320</td>\n      <td>3340.0</td>\n      <td>11:53:34</td>\n    </tr>\n    <tr>\n      <th>11</th>\n      <td>1346803</td>\n      <td>20201119</td>\n      <td>24</td>\n      <td>41</td>\n      <td>1605804720</td>\n      <td>3512.0</td>\n      <td>11:53:34</td>\n    </tr>\n    <tr>\n      <th>12</th>\n      <td>1346803</td>\n      <td>20201120</td>\n      <td>24</td>\n      <td>41</td>\n      <td>1605891120</td>\n      <td>3108.0</td>\n      <td>11:53:34</td>\n    </tr>\n    <tr>\n      <th>13</th>\n      <td>1346803</td>\n      <td>20201123</td>\n      <td>24</td>\n      <td>41</td>\n      <td>1606150320</td>\n      <td>3514.0</td>\n      <td>11:53:34</td>\n    </tr>\n    <tr>\n      <th>14</th>\n      <td>1346803</td>\n      <td>20201124</td>\n      <td>24</td>\n      <td>41</td>\n      <td>1606236720</td>\n      <td>3325.0</td>\n      <td>11:53:34</td>\n    </tr>\n    <tr>\n      <th>15</th>\n      <td>1346803</td>\n      <td>20201125</td>\n      <td>24</td>\n      <td>41</td>\n      <td>1606323120</td>\n      <td>3352.0</td>\n      <td>11:53:34</td>\n    </tr>\n    <tr>\n      <th>16</th>\n      <td>1346803</td>\n      <td>20201126</td>\n      <td>24</td>\n      <td>41</td>\n      <td>1606409520</td>\n      <td>3552.0</td>\n      <td>11:53:34</td>\n    </tr>\n    <tr>\n      <th>17</th>\n      <td>1346803</td>\n      <td>20201127</td>\n      <td>24</td>\n      <td>41</td>\n      <td>1606496024</td>\n      <td>3148.0</td>\n      <td>11:53:34</td>\n    </tr>\n    <tr>\n      <th>18</th>\n      <td>1346803</td>\n      <td>20201105</td>\n      <td>24</td>\n      <td>41</td>\n      <td>1604595120</td>\n      <td>3177.0</td>\n      <td>11:53:34</td>\n    </tr>\n    <tr>\n      <th>19</th>\n      <td>1346803</td>\n      <td>20201106</td>\n      <td>24</td>\n      <td>41</td>\n      <td>1604681520</td>\n      <td>3143.0</td>\n      <td>11:53:34</td>\n    </tr>\n    <tr>\n      <th>20</th>\n      <td>1346803</td>\n      <td>20201109</td>\n      <td>24</td>\n      <td>41</td>\n      <td>1604940720</td>\n      <td>3144.0</td>\n      <td>11:53:34</td>\n    </tr>\n    <tr>\n      <th>21</th>\n      <td>1346803</td>\n      <td>20201110</td>\n      <td>24</td>\n      <td>41</td>\n      <td>1605027120</td>\n      <td>3178.0</td>\n      <td>11:53:34</td>\n    </tr>\n    <tr>\n      <th>22</th>\n      <td>1346803</td>\n      <td>20201111</td>\n      <td>24</td>\n      <td>41</td>\n      <td>1605113520</td>\n      <td>3503.0</td>\n      <td>11:53:34</td>\n    </tr>\n  </tbody>\n</table>\n</div>"
     },
     "metadata": {},
     "execution_count": 7
    }
   ],
   "source": [
    "stop_route.head(50)"
   ]
  }
 ]
}