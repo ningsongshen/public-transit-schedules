{
 "metadata": {
  "language_info": {
   "codemirror_mode": {
    "name": "ipython",
    "version": 3
   },
   "file_extension": ".py",
   "mimetype": "text/x-python",
   "name": "python",
   "nbconvert_exporter": "python",
   "pygments_lexer": "ipython3",
   "version": 3
  },
  "orig_nbformat": 2
 },
 "nbformat": 4,
 "nbformat_minor": 2,
 "cells": [
  {
   "source": [
    "# SE-2200E Notebook 1: Data Collection\n",
    "\n",
    "Ningsong Shen\n",
    "\n",
    "December 14, 2020\n",
    "\n",
    "## Summary\n",
    "\n",
    "In this notebook, I describe the process by which we collect bus arrival time data for usage in the project. Simple scripts, a virtual machine, and one-click pipeline processing is used. Most of the work was done with scripts so this note book is mainly for description with some sample code."
   ],
   "cell_type": "markdown",
   "metadata": {}
  },
  {
   "source": [
    "## The Problem and Task Description"
   ],
   "cell_type": "markdown",
   "metadata": {}
  },
  {
   "source": [
    "## Understanding Data Formats and API Usage"
   ],
   "cell_type": "markdown",
   "metadata": {}
  },
  {
   "source": [
    "## Manual Experimentation and Data Transformation"
   ],
   "cell_type": "markdown",
   "metadata": {}
  },
  {
   "source": [
    "## Automation with a Virtual Machine"
   ],
   "cell_type": "markdown",
   "metadata": {}
  },
  {
   "source": [
    "## Data Storage and Transfer to Local Machine"
   ],
   "cell_type": "markdown",
   "metadata": {}
  },
  {
   "source": [
    "## Larger Scale Processing and Automation"
   ],
   "cell_type": "markdown",
   "metadata": {}
  },
  {
   "source": [
    "## Data Collection Timeline and Diminishing Returns"
   ],
   "cell_type": "markdown",
   "metadata": {}
  }
 ]
}