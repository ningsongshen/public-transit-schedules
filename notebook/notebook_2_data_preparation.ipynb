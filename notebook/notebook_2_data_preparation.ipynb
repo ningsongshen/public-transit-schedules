{
 "metadata": {
  "language_info": {
   "codemirror_mode": {
    "name": "ipython",
    "version": 3
   },
   "file_extension": ".py",
   "mimetype": "text/x-python",
   "name": "python",
   "nbconvert_exporter": "python",
   "pygments_lexer": "ipython3",
   "version": "3.8.5-final"
  },
  "orig_nbformat": 2,
  "kernelspec": {
   "name": "python3",
   "display_name": "Python 3",
   "language": "python"
  }
 },
 "nbformat": 4,
 "nbformat_minor": 2,
 "cells": [
  {
   "source": [
    "# SE-2200E Notebook 2: Data Preparation\n",
    "\n",
    "Ningsong Shen\n",
    "\n",
    "January 24, 2021\n",
    "\n",
    "## Summary\n",
    "\n",
    "In this notebook, the collected data is prepared for further processing in Python. A simple check is conducted to ensure the sensibility of the data. Note that this is the chart that can be found in the project proposal.\n",
    "\n",
    "Get inspired: https://machinelearningmastery.com/start-here/\n",
    "\n",
    "We have CSVs with actual stop times, scheduled stop times, and we want to combine them to run a regression to predict future times. "
   ],
   "cell_type": "markdown",
   "metadata": {}
  },
  {
   "cell_type": "code",
   "execution_count": 1,
   "metadata": {},
   "outputs": [],
   "source": [
    "import datetime as dt\n",
    "import pandas as pd\n",
    "import sklearn as sk\n",
    "\n",
    "REALTIME_DATA_PATH = 'C:/Users/nings/OneDrive - The University of Western Ontario/Scholar\\'s 2200E/result_data/result.csv'\n",
    "SCHEDULE_DATA_PATH = 'C:/Users/nings/Documents/GitHub/se-2200e/raw_data/schedule/stop_times.txt'"
   ]
  },
  {
   "source": [
    "## Data Preparation\n",
    "Remove excess features, identify outliers, regularization, transformation"
   ],
   "cell_type": "markdown",
   "metadata": {}
  },
  {
   "cell_type": "code",
   "execution_count": 2,
   "metadata": {},
   "outputs": [
    {
     "output_type": "execute_result",
     "data": {
      "text/plain": [
       "   trip_id start_date route_id stop_sequence realtime_departure_time  \\\n",
       "0  1346803   20201104       24            41              1604508849   \n",
       "1  1346803   20201105       24            41              1604595120   \n",
       "2  1346803   20201106       24            41              1604681520   \n",
       "3  1346803   20201109       24            41              1604940720   \n",
       "4  1346803   20201110       24            41              1605027120   \n",
       "\n",
       "  vehicle_id scheduled_departure_time  \n",
       "0       3140                 11:53:34  \n",
       "1       3177                 11:53:34  \n",
       "2       3143                 11:53:34  \n",
       "3       3144                 11:53:34  \n",
       "4       3178                 11:53:34  "
      ],
      "text/html": "<div>\n<style scoped>\n    .dataframe tbody tr th:only-of-type {\n        vertical-align: middle;\n    }\n\n    .dataframe tbody tr th {\n        vertical-align: top;\n    }\n\n    .dataframe thead th {\n        text-align: right;\n    }\n</style>\n<table border=\"1\" class=\"dataframe\">\n  <thead>\n    <tr style=\"text-align: right;\">\n      <th></th>\n      <th>trip_id</th>\n      <th>start_date</th>\n      <th>route_id</th>\n      <th>stop_sequence</th>\n      <th>realtime_departure_time</th>\n      <th>vehicle_id</th>\n      <th>scheduled_departure_time</th>\n    </tr>\n  </thead>\n  <tbody>\n    <tr>\n      <th>0</th>\n      <td>1346803</td>\n      <td>20201104</td>\n      <td>24</td>\n      <td>41</td>\n      <td>1604508849</td>\n      <td>3140</td>\n      <td>11:53:34</td>\n    </tr>\n    <tr>\n      <th>1</th>\n      <td>1346803</td>\n      <td>20201105</td>\n      <td>24</td>\n      <td>41</td>\n      <td>1604595120</td>\n      <td>3177</td>\n      <td>11:53:34</td>\n    </tr>\n    <tr>\n      <th>2</th>\n      <td>1346803</td>\n      <td>20201106</td>\n      <td>24</td>\n      <td>41</td>\n      <td>1604681520</td>\n      <td>3143</td>\n      <td>11:53:34</td>\n    </tr>\n    <tr>\n      <th>3</th>\n      <td>1346803</td>\n      <td>20201109</td>\n      <td>24</td>\n      <td>41</td>\n      <td>1604940720</td>\n      <td>3144</td>\n      <td>11:53:34</td>\n    </tr>\n    <tr>\n      <th>4</th>\n      <td>1346803</td>\n      <td>20201110</td>\n      <td>24</td>\n      <td>41</td>\n      <td>1605027120</td>\n      <td>3178</td>\n      <td>11:53:34</td>\n    </tr>\n  </tbody>\n</table>\n</div>"
     },
     "metadata": {},
     "execution_count": 2
    }
   ],
   "source": [
    "realtime_df = pd.read_csv(REALTIME_DATA_PATH, sep=',', error_bad_lines=False, index_col=False)\n",
    "realtime_df = realtime_df.drop(columns=['start_time', 'stop_id', 'vehicle_label', 'timestamp'])\n",
    "realtime_df = realtime_df.rename(columns={'departure_time': 'realtime_departure_time'})\n",
    "\n",
    "schedule_df = pd.read_csv(SCHEDULE_DATA_PATH, sep=',', error_bad_lines=False, index_col=False)\n",
    "schedule_df = schedule_df.drop(columns=['arrival_time', 'drop_off_type', 'pickup_type', 'stop_headsign', 'stop_id', 'timepoint'])\n",
    "schedule_df = schedule_df.rename(columns={'departure_time': 'scheduled_departure_time'})\n",
    "\n",
    "combined_df = realtime_df.merge(schedule_df, how='inner', on=['trip_id', 'stop_sequence'])\n",
    "combined_df.head()\n",
    "\n"
   ]
  },
  {
   "cell_type": "code",
   "execution_count": 29,
   "metadata": {},
   "outputs": [
    {
     "output_type": "stream",
     "name": "stdout",
     "text": [
      "<class 'pandas.core.frame.DataFrame'>\nInt64Index: 3128386 entries, 0 to 3128385\nData columns (total 7 columns):\n #   Column                    Dtype   \n---  ------                    -----   \n 0   trip_id                   category\n 1   start_date                object  \n 2   route_id                  category\n 3   stop_sequence             int32   \n 4   realtime_departure_time   object  \n 5   vehicle_id                category\n 6   scheduled_departure_time  object  \ndtypes: category(3), int32(1), object(3)\nmemory usage: 122.5+ MB\n"
     ]
    },
    {
     "output_type": "execute_result",
     "data": {
      "text/plain": [
       "         trip_id start_date route_id  stop_sequence realtime_departure_time  \\\n",
       "2207272  1346227   20201116       16             32                09:57:55   \n",
       "981142   1330741   20201113       04             53                17:53:40   \n",
       "144844   1347335   20201123       02             21                12:47:49   \n",
       "1216295  1339271   20201110       27             34                19:41:00   \n",
       "427272   1343657   20201112       93             14                14:33:53   \n",
       "336517   1347394   20201111        2             49                14:10:30   \n",
       "141032   1338050   20201110       20             33                12:57:45   \n",
       "2088867  1339294   20201111       27              7                09:12:00   \n",
       "2698738  1346301   20201107       16             40                15:18:28   \n",
       "675441   1347056   20201106       35              7                16:07:38   \n",
       "\n",
       "        vehicle_id scheduled_departure_time  \n",
       "2207272     3178.0                 09:58:40  \n",
       "981142      3518.0                 17:58:17  \n",
       "144844      3174.0                 12:47:49  \n",
       "1216295     3560.0                 19:40:00  \n",
       "427272      3136.0                 14:31:53  \n",
       "336517      3150.0                 14:11:09  \n",
       "141032      3366.0                 12:52:39  \n",
       "2088867     3033.0                 09:11:00  \n",
       "2698738     3361.0                 15:14:28  \n",
       "675441      3521.0                 16:03:53  "
      ],
      "text/html": "<div>\n<style scoped>\n    .dataframe tbody tr th:only-of-type {\n        vertical-align: middle;\n    }\n\n    .dataframe tbody tr th {\n        vertical-align: top;\n    }\n\n    .dataframe thead th {\n        text-align: right;\n    }\n</style>\n<table border=\"1\" class=\"dataframe\">\n  <thead>\n    <tr style=\"text-align: right;\">\n      <th></th>\n      <th>trip_id</th>\n      <th>start_date</th>\n      <th>route_id</th>\n      <th>stop_sequence</th>\n      <th>realtime_departure_time</th>\n      <th>vehicle_id</th>\n      <th>scheduled_departure_time</th>\n    </tr>\n  </thead>\n  <tbody>\n    <tr>\n      <th>2207272</th>\n      <td>1346227</td>\n      <td>20201116</td>\n      <td>16</td>\n      <td>32</td>\n      <td>09:57:55</td>\n      <td>3178.0</td>\n      <td>09:58:40</td>\n    </tr>\n    <tr>\n      <th>981142</th>\n      <td>1330741</td>\n      <td>20201113</td>\n      <td>04</td>\n      <td>53</td>\n      <td>17:53:40</td>\n      <td>3518.0</td>\n      <td>17:58:17</td>\n    </tr>\n    <tr>\n      <th>144844</th>\n      <td>1347335</td>\n      <td>20201123</td>\n      <td>02</td>\n      <td>21</td>\n      <td>12:47:49</td>\n      <td>3174.0</td>\n      <td>12:47:49</td>\n    </tr>\n    <tr>\n      <th>1216295</th>\n      <td>1339271</td>\n      <td>20201110</td>\n      <td>27</td>\n      <td>34</td>\n      <td>19:41:00</td>\n      <td>3560.0</td>\n      <td>19:40:00</td>\n    </tr>\n    <tr>\n      <th>427272</th>\n      <td>1343657</td>\n      <td>20201112</td>\n      <td>93</td>\n      <td>14</td>\n      <td>14:33:53</td>\n      <td>3136.0</td>\n      <td>14:31:53</td>\n    </tr>\n    <tr>\n      <th>336517</th>\n      <td>1347394</td>\n      <td>20201111</td>\n      <td>2</td>\n      <td>49</td>\n      <td>14:10:30</td>\n      <td>3150.0</td>\n      <td>14:11:09</td>\n    </tr>\n    <tr>\n      <th>141032</th>\n      <td>1338050</td>\n      <td>20201110</td>\n      <td>20</td>\n      <td>33</td>\n      <td>12:57:45</td>\n      <td>3366.0</td>\n      <td>12:52:39</td>\n    </tr>\n    <tr>\n      <th>2088867</th>\n      <td>1339294</td>\n      <td>20201111</td>\n      <td>27</td>\n      <td>7</td>\n      <td>09:12:00</td>\n      <td>3033.0</td>\n      <td>09:11:00</td>\n    </tr>\n    <tr>\n      <th>2698738</th>\n      <td>1346301</td>\n      <td>20201107</td>\n      <td>16</td>\n      <td>40</td>\n      <td>15:18:28</td>\n      <td>3361.0</td>\n      <td>15:14:28</td>\n    </tr>\n    <tr>\n      <th>675441</th>\n      <td>1347056</td>\n      <td>20201106</td>\n      <td>35</td>\n      <td>7</td>\n      <td>16:07:38</td>\n      <td>3521.0</td>\n      <td>16:03:53</td>\n    </tr>\n  </tbody>\n</table>\n</div>"
     },
     "metadata": {},
     "execution_count": 29
    }
   ],
   "source": [
    "# Categorical\n",
    "combined_df['trip_id'] = pd.Categorical(combined_df['trip_id'])\n",
    "\n",
    "# Categorical\n",
    "combined_df['route_id'] = pd.Categorical(combined_df['route_id'])\n",
    "\n",
    "# Numeric\n",
    "combined_df['stop_sequence'] = pd.to_numeric(combined_df['stop_sequence'], errors='coerce').fillna(0).astype(int)\n",
    "\n",
    "# Convert UTC to EST\n",
    "try:\n",
    "    combined_df['realtime_departure_time'] = pd.to_datetime(combined_df['realtime_departure_time'], unit='s', errors='coerce').dt.tz_localize('utc').dt.tz_convert('America/Toronto').dt.time\n",
    "except TypeError:\n",
    "    pass\n",
    "\n",
    "# Categorical\n",
    "combined_df['vehicle_id'] = pd.Categorical(combined_df['vehicle_id'])\n",
    "\n",
    "# Time\n",
    "combined_df['scheduled_departure_time'] = pd.to_datetime(combined_df['scheduled_departure_time'], format='%H:%M:%S', errors='coerce').dt.time\n",
    "\n",
    "combined_df.info()\n",
    "combined_df.sample(10)"
   ]
  },
  {
   "source": [
    "## Checking the Data\n",
    "I see if the numbers make sense."
   ],
   "cell_type": "markdown",
   "metadata": {}
  },
  {
   "cell_type": "code",
   "execution_count": 86,
   "metadata": {},
   "outputs": [],
   "source": [
    "diff = pd.to_datetime(combined_df['realtime_departure_time'].astype(str)).dt.to_pydatetime() - pd.to_datetime(combined_df['scheduled_departure_time'].astype(str)).dt.to_pydatetime()"
   ]
  },
  {
   "cell_type": "code",
   "execution_count": 91,
   "metadata": {},
   "outputs": [
    {
     "output_type": "execute_result",
     "data": {
      "text/plain": [
       "(array([  5322.,   6568.,  11560.,  33188.,  87748., 251827., 498305.,\n",
       "        700027., 444394., 378717., 208939., 139860.,  97213.,  52639.,\n",
       "         35997.]),\n",
       " array([-500.        , -433.33333333, -366.66666667, -300.        ,\n",
       "        -233.33333333, -166.66666667, -100.        ,  -33.33333333,\n",
       "          33.33333333,  100.        ,  166.66666667,  233.33333333,\n",
       "         300.        ,  366.66666667,  433.33333333,  500.        ]),\n",
       " <a list of 15 Patch objects>)"
      ]
     },
     "metadata": {},
     "execution_count": 91
    },
    {
     "output_type": "display_data",
     "data": {
      "text/plain": "<Figure size 432x288 with 1 Axes>",
      "image/svg+xml": "<?xml version=\"1.0\" encoding=\"utf-8\" standalone=\"no\"?>\r\n<!DOCTYPE svg PUBLIC \"-//W3C//DTD SVG 1.1//EN\"\r\n  \"http://www.w3.org/Graphics/SVG/1.1/DTD/svg11.dtd\">\r\n<!-- Created with matplotlib (https://matplotlib.org/) -->\r\n<svg height=\"248.518125pt\" version=\"1.1\" viewBox=\"0 0 394.375 248.518125\" width=\"394.375pt\" xmlns=\"http://www.w3.org/2000/svg\" xmlns:xlink=\"http://www.w3.org/1999/xlink\">\r\n <defs>\r\n  <style type=\"text/css\">\r\n*{stroke-linecap:butt;stroke-linejoin:round;}\r\n  </style>\r\n </defs>\r\n <g id=\"figure_1\">\r\n  <g id=\"patch_1\">\r\n   <path d=\"M 0 248.518125 \r\nL 394.375 248.518125 \r\nL 394.375 0 \r\nL 0 0 \r\nz\r\n\" style=\"fill:none;\"/>\r\n  </g>\r\n  <g id=\"axes_1\">\r\n   <g id=\"patch_2\">\r\n    <path d=\"M 52.375 224.64 \r\nL 387.175 224.64 \r\nL 387.175 7.2 \r\nL 52.375 7.2 \r\nz\r\n\" style=\"fill:#ffffff;\"/>\r\n   </g>\r\n   <g id=\"patch_3\">\r\n    <path clip-path=\"url(#pe6c935e6d5)\" d=\"M 67.593182 224.64 \r\nL 87.884091 224.64 \r\nL 87.884091 223.065618 \r\nL 67.593182 223.065618 \r\nz\r\n\" style=\"fill:#1f77b4;\"/>\r\n   </g>\r\n   <g id=\"patch_4\">\r\n    <path clip-path=\"url(#pe6c935e6d5)\" d=\"M 87.884091 224.64 \r\nL 108.175 224.64 \r\nL 108.175 222.697019 \r\nL 87.884091 222.697019 \r\nz\r\n\" style=\"fill:#1f77b4;\"/>\r\n   </g>\r\n   <g id=\"patch_5\">\r\n    <path clip-path=\"url(#pe6c935e6d5)\" d=\"M 108.175 224.64 \r\nL 128.465909 224.64 \r\nL 128.465909 221.220259 \r\nL 108.175 221.220259 \r\nz\r\n\" style=\"fill:#1f77b4;\"/>\r\n   </g>\r\n   <g id=\"patch_6\">\r\n    <path clip-path=\"url(#pe6c935e6d5)\" d=\"M 128.465909 224.64 \r\nL 148.756818 224.64 \r\nL 148.756818 214.822149 \r\nL 128.465909 214.822149 \r\nz\r\n\" style=\"fill:#1f77b4;\"/>\r\n   </g>\r\n   <g id=\"patch_7\">\r\n    <path clip-path=\"url(#pe6c935e6d5)\" d=\"M 148.756818 224.64 \r\nL 169.047727 224.64 \r\nL 169.047727 198.681919 \r\nL 148.756818 198.681919 \r\nz\r\n\" style=\"fill:#1f77b4;\"/>\r\n   </g>\r\n   <g id=\"patch_8\">\r\n    <path clip-path=\"url(#pe6c935e6d5)\" d=\"M 169.047727 224.64 \r\nL 189.338636 224.64 \r\nL 189.338636 150.143196 \r\nL 169.047727 150.143196 \r\nz\r\n\" style=\"fill:#1f77b4;\"/>\r\n   </g>\r\n   <g id=\"patch_9\">\r\n    <path clip-path=\"url(#pe6c935e6d5)\" d=\"M 189.338636 224.64 \r\nL 209.629545 224.64 \r\nL 209.629545 77.228762 \r\nL 189.338636 77.228762 \r\nz\r\n\" style=\"fill:#1f77b4;\"/>\r\n   </g>\r\n   <g id=\"patch_10\">\r\n    <path clip-path=\"url(#pe6c935e6d5)\" d=\"M 209.629545 224.64 \r\nL 229.920455 224.64 \r\nL 229.920455 17.554286 \r\nL 209.629545 17.554286 \r\nz\r\n\" style=\"fill:#1f77b4;\"/>\r\n   </g>\r\n   <g id=\"patch_11\">\r\n    <path clip-path=\"url(#pe6c935e6d5)\" d=\"M 229.920455 224.64 \r\nL 250.211364 224.64 \r\nL 250.211364 93.177001 \r\nL 229.920455 93.177001 \r\nz\r\n\" style=\"fill:#1f77b4;\"/>\r\n   </g>\r\n   <g id=\"patch_12\">\r\n    <path clip-path=\"url(#pe6c935e6d5)\" d=\"M 250.211364 224.64 \r\nL 270.502273 224.64 \r\nL 270.502273 112.605921 \r\nL 250.211364 112.605921 \r\nz\r\n\" style=\"fill:#1f77b4;\"/>\r\n   </g>\r\n   <g id=\"patch_13\">\r\n    <path clip-path=\"url(#pe6c935e6d5)\" d=\"M 270.502273 224.64 \r\nL 290.793182 224.64 \r\nL 290.793182 162.830553 \r\nL 270.502273 162.830553 \r\nz\r\n\" style=\"fill:#1f77b4;\"/>\r\n   </g>\r\n   <g id=\"patch_14\">\r\n    <path clip-path=\"url(#pe6c935e6d5)\" d=\"M 290.793182 224.64 \r\nL 311.084091 224.64 \r\nL 311.084091 183.26587 \r\nL 290.793182 183.26587 \r\nz\r\n\" style=\"fill:#1f77b4;\"/>\r\n   </g>\r\n   <g id=\"patch_15\">\r\n    <path clip-path=\"url(#pe6c935e6d5)\" d=\"M 311.084091 224.64 \r\nL 331.375 224.64 \r\nL 331.375 195.881933 \r\nL 311.084091 195.881933 \r\nz\r\n\" style=\"fill:#1f77b4;\"/>\r\n   </g>\r\n   <g id=\"patch_16\">\r\n    <path clip-path=\"url(#pe6c935e6d5)\" d=\"M 331.375 224.64 \r\nL 351.665909 224.64 \r\nL 351.665909 209.068051 \r\nL 331.375 209.068051 \r\nz\r\n\" style=\"fill:#1f77b4;\"/>\r\n   </g>\r\n   <g id=\"patch_17\">\r\n    <path clip-path=\"url(#pe6c935e6d5)\" d=\"M 351.665909 224.64 \r\nL 371.956818 224.64 \r\nL 371.956818 213.991176 \r\nL 351.665909 213.991176 \r\nz\r\n\" style=\"fill:#1f77b4;\"/>\r\n   </g>\r\n   <g id=\"matplotlib.axis_1\">\r\n    <g id=\"xtick_1\">\r\n     <g id=\"line2d_1\">\r\n      <defs>\r\n       <path d=\"M 0 0 \r\nL 0 3.5 \r\n\" id=\"m25aa5a77d1\" style=\"stroke:#000000;stroke-width:0.8;\"/>\r\n      </defs>\r\n      <g>\r\n       <use style=\"stroke:#000000;stroke-width:0.8;\" x=\"98.029545\" xlink:href=\"#m25aa5a77d1\" y=\"224.64\"/>\r\n      </g>\r\n     </g>\r\n     <g id=\"text_1\">\r\n      <!-- −400 -->\r\n      <defs>\r\n       <path d=\"M 10.59375 35.5 \r\nL 73.1875 35.5 \r\nL 73.1875 27.203125 \r\nL 10.59375 27.203125 \r\nz\r\n\" id=\"DejaVuSans-8722\"/>\r\n       <path d=\"M 37.796875 64.3125 \r\nL 12.890625 25.390625 \r\nL 37.796875 25.390625 \r\nz\r\nM 35.203125 72.90625 \r\nL 47.609375 72.90625 \r\nL 47.609375 25.390625 \r\nL 58.015625 25.390625 \r\nL 58.015625 17.1875 \r\nL 47.609375 17.1875 \r\nL 47.609375 0 \r\nL 37.796875 0 \r\nL 37.796875 17.1875 \r\nL 4.890625 17.1875 \r\nL 4.890625 26.703125 \r\nz\r\n\" id=\"DejaVuSans-52\"/>\r\n       <path d=\"M 31.78125 66.40625 \r\nQ 24.171875 66.40625 20.328125 58.90625 \r\nQ 16.5 51.421875 16.5 36.375 \r\nQ 16.5 21.390625 20.328125 13.890625 \r\nQ 24.171875 6.390625 31.78125 6.390625 \r\nQ 39.453125 6.390625 43.28125 13.890625 \r\nQ 47.125 21.390625 47.125 36.375 \r\nQ 47.125 51.421875 43.28125 58.90625 \r\nQ 39.453125 66.40625 31.78125 66.40625 \r\nz\r\nM 31.78125 74.21875 \r\nQ 44.046875 74.21875 50.515625 64.515625 \r\nQ 56.984375 54.828125 56.984375 36.375 \r\nQ 56.984375 17.96875 50.515625 8.265625 \r\nQ 44.046875 -1.421875 31.78125 -1.421875 \r\nQ 19.53125 -1.421875 13.0625 8.265625 \r\nQ 6.59375 17.96875 6.59375 36.375 \r\nQ 6.59375 54.828125 13.0625 64.515625 \r\nQ 19.53125 74.21875 31.78125 74.21875 \r\nz\r\n\" id=\"DejaVuSans-48\"/>\r\n      </defs>\r\n      <g transform=\"translate(84.295952 239.238437)scale(0.1 -0.1)\">\r\n       <use xlink:href=\"#DejaVuSans-8722\"/>\r\n       <use x=\"83.789062\" xlink:href=\"#DejaVuSans-52\"/>\r\n       <use x=\"147.412109\" xlink:href=\"#DejaVuSans-48\"/>\r\n       <use x=\"211.035156\" xlink:href=\"#DejaVuSans-48\"/>\r\n      </g>\r\n     </g>\r\n    </g>\r\n    <g id=\"xtick_2\">\r\n     <g id=\"line2d_2\">\r\n      <g>\r\n       <use style=\"stroke:#000000;stroke-width:0.8;\" x=\"158.902273\" xlink:href=\"#m25aa5a77d1\" y=\"224.64\"/>\r\n      </g>\r\n     </g>\r\n     <g id=\"text_2\">\r\n      <!-- −200 -->\r\n      <defs>\r\n       <path d=\"M 19.1875 8.296875 \r\nL 53.609375 8.296875 \r\nL 53.609375 0 \r\nL 7.328125 0 \r\nL 7.328125 8.296875 \r\nQ 12.9375 14.109375 22.625 23.890625 \r\nQ 32.328125 33.6875 34.8125 36.53125 \r\nQ 39.546875 41.84375 41.421875 45.53125 \r\nQ 43.3125 49.21875 43.3125 52.78125 \r\nQ 43.3125 58.59375 39.234375 62.25 \r\nQ 35.15625 65.921875 28.609375 65.921875 \r\nQ 23.96875 65.921875 18.8125 64.3125 \r\nQ 13.671875 62.703125 7.8125 59.421875 \r\nL 7.8125 69.390625 \r\nQ 13.765625 71.78125 18.9375 73 \r\nQ 24.125 74.21875 28.421875 74.21875 \r\nQ 39.75 74.21875 46.484375 68.546875 \r\nQ 53.21875 62.890625 53.21875 53.421875 \r\nQ 53.21875 48.921875 51.53125 44.890625 \r\nQ 49.859375 40.875 45.40625 35.40625 \r\nQ 44.1875 33.984375 37.640625 27.21875 \r\nQ 31.109375 20.453125 19.1875 8.296875 \r\nz\r\n\" id=\"DejaVuSans-50\"/>\r\n      </defs>\r\n      <g transform=\"translate(145.168679 239.238437)scale(0.1 -0.1)\">\r\n       <use xlink:href=\"#DejaVuSans-8722\"/>\r\n       <use x=\"83.789062\" xlink:href=\"#DejaVuSans-50\"/>\r\n       <use x=\"147.412109\" xlink:href=\"#DejaVuSans-48\"/>\r\n       <use x=\"211.035156\" xlink:href=\"#DejaVuSans-48\"/>\r\n      </g>\r\n     </g>\r\n    </g>\r\n    <g id=\"xtick_3\">\r\n     <g id=\"line2d_3\">\r\n      <g>\r\n       <use style=\"stroke:#000000;stroke-width:0.8;\" x=\"219.775\" xlink:href=\"#m25aa5a77d1\" y=\"224.64\"/>\r\n      </g>\r\n     </g>\r\n     <g id=\"text_3\">\r\n      <!-- 0 -->\r\n      <g transform=\"translate(216.59375 239.238437)scale(0.1 -0.1)\">\r\n       <use xlink:href=\"#DejaVuSans-48\"/>\r\n      </g>\r\n     </g>\r\n    </g>\r\n    <g id=\"xtick_4\">\r\n     <g id=\"line2d_4\">\r\n      <g>\r\n       <use style=\"stroke:#000000;stroke-width:0.8;\" x=\"280.647727\" xlink:href=\"#m25aa5a77d1\" y=\"224.64\"/>\r\n      </g>\r\n     </g>\r\n     <g id=\"text_4\">\r\n      <!-- 200 -->\r\n      <g transform=\"translate(271.103977 239.238437)scale(0.1 -0.1)\">\r\n       <use xlink:href=\"#DejaVuSans-50\"/>\r\n       <use x=\"63.623047\" xlink:href=\"#DejaVuSans-48\"/>\r\n       <use x=\"127.246094\" xlink:href=\"#DejaVuSans-48\"/>\r\n      </g>\r\n     </g>\r\n    </g>\r\n    <g id=\"xtick_5\">\r\n     <g id=\"line2d_5\">\r\n      <g>\r\n       <use style=\"stroke:#000000;stroke-width:0.8;\" x=\"341.520455\" xlink:href=\"#m25aa5a77d1\" y=\"224.64\"/>\r\n      </g>\r\n     </g>\r\n     <g id=\"text_5\">\r\n      <!-- 400 -->\r\n      <g transform=\"translate(331.976705 239.238437)scale(0.1 -0.1)\">\r\n       <use xlink:href=\"#DejaVuSans-52\"/>\r\n       <use x=\"63.623047\" xlink:href=\"#DejaVuSans-48\"/>\r\n       <use x=\"127.246094\" xlink:href=\"#DejaVuSans-48\"/>\r\n      </g>\r\n     </g>\r\n    </g>\r\n   </g>\r\n   <g id=\"matplotlib.axis_2\">\r\n    <g id=\"ytick_1\">\r\n     <g id=\"line2d_6\">\r\n      <defs>\r\n       <path d=\"M 0 0 \r\nL -3.5 0 \r\n\" id=\"mddc03292af\" style=\"stroke:#000000;stroke-width:0.8;\"/>\r\n      </defs>\r\n      <g>\r\n       <use style=\"stroke:#000000;stroke-width:0.8;\" x=\"52.375\" xlink:href=\"#mddc03292af\" y=\"224.64\"/>\r\n      </g>\r\n     </g>\r\n     <g id=\"text_6\">\r\n      <!-- 0 -->\r\n      <g transform=\"translate(39.0125 228.439219)scale(0.1 -0.1)\">\r\n       <use xlink:href=\"#DejaVuSans-48\"/>\r\n      </g>\r\n     </g>\r\n    </g>\r\n    <g id=\"ytick_2\">\r\n     <g id=\"line2d_7\">\r\n      <g>\r\n       <use style=\"stroke:#000000;stroke-width:0.8;\" x=\"52.375\" xlink:href=\"#mddc03292af\" y=\"195.057468\"/>\r\n      </g>\r\n     </g>\r\n     <g id=\"text_7\">\r\n      <!-- 100000 -->\r\n      <defs>\r\n       <path d=\"M 12.40625 8.296875 \r\nL 28.515625 8.296875 \r\nL 28.515625 63.921875 \r\nL 10.984375 60.40625 \r\nL 10.984375 69.390625 \r\nL 28.421875 72.90625 \r\nL 38.28125 72.90625 \r\nL 38.28125 8.296875 \r\nL 54.390625 8.296875 \r\nL 54.390625 0 \r\nL 12.40625 0 \r\nz\r\n\" id=\"DejaVuSans-49\"/>\r\n      </defs>\r\n      <g transform=\"translate(7.2 198.856686)scale(0.1 -0.1)\">\r\n       <use xlink:href=\"#DejaVuSans-49\"/>\r\n       <use x=\"63.623047\" xlink:href=\"#DejaVuSans-48\"/>\r\n       <use x=\"127.246094\" xlink:href=\"#DejaVuSans-48\"/>\r\n       <use x=\"190.869141\" xlink:href=\"#DejaVuSans-48\"/>\r\n       <use x=\"254.492188\" xlink:href=\"#DejaVuSans-48\"/>\r\n       <use x=\"318.115234\" xlink:href=\"#DejaVuSans-48\"/>\r\n      </g>\r\n     </g>\r\n    </g>\r\n    <g id=\"ytick_3\">\r\n     <g id=\"line2d_8\">\r\n      <g>\r\n       <use style=\"stroke:#000000;stroke-width:0.8;\" x=\"52.375\" xlink:href=\"#mddc03292af\" y=\"165.474935\"/>\r\n      </g>\r\n     </g>\r\n     <g id=\"text_8\">\r\n      <!-- 200000 -->\r\n      <g transform=\"translate(7.2 169.274154)scale(0.1 -0.1)\">\r\n       <use xlink:href=\"#DejaVuSans-50\"/>\r\n       <use x=\"63.623047\" xlink:href=\"#DejaVuSans-48\"/>\r\n       <use x=\"127.246094\" xlink:href=\"#DejaVuSans-48\"/>\r\n       <use x=\"190.869141\" xlink:href=\"#DejaVuSans-48\"/>\r\n       <use x=\"254.492188\" xlink:href=\"#DejaVuSans-48\"/>\r\n       <use x=\"318.115234\" xlink:href=\"#DejaVuSans-48\"/>\r\n      </g>\r\n     </g>\r\n    </g>\r\n    <g id=\"ytick_4\">\r\n     <g id=\"line2d_9\">\r\n      <g>\r\n       <use style=\"stroke:#000000;stroke-width:0.8;\" x=\"52.375\" xlink:href=\"#mddc03292af\" y=\"135.892403\"/>\r\n      </g>\r\n     </g>\r\n     <g id=\"text_9\">\r\n      <!-- 300000 -->\r\n      <defs>\r\n       <path d=\"M 40.578125 39.3125 \r\nQ 47.65625 37.796875 51.625 33 \r\nQ 55.609375 28.21875 55.609375 21.1875 \r\nQ 55.609375 10.40625 48.1875 4.484375 \r\nQ 40.765625 -1.421875 27.09375 -1.421875 \r\nQ 22.515625 -1.421875 17.65625 -0.515625 \r\nQ 12.796875 0.390625 7.625 2.203125 \r\nL 7.625 11.71875 \r\nQ 11.71875 9.328125 16.59375 8.109375 \r\nQ 21.484375 6.890625 26.8125 6.890625 \r\nQ 36.078125 6.890625 40.9375 10.546875 \r\nQ 45.796875 14.203125 45.796875 21.1875 \r\nQ 45.796875 27.640625 41.28125 31.265625 \r\nQ 36.765625 34.90625 28.71875 34.90625 \r\nL 20.21875 34.90625 \r\nL 20.21875 43.015625 \r\nL 29.109375 43.015625 \r\nQ 36.375 43.015625 40.234375 45.921875 \r\nQ 44.09375 48.828125 44.09375 54.296875 \r\nQ 44.09375 59.90625 40.109375 62.90625 \r\nQ 36.140625 65.921875 28.71875 65.921875 \r\nQ 24.65625 65.921875 20.015625 65.03125 \r\nQ 15.375 64.15625 9.8125 62.3125 \r\nL 9.8125 71.09375 \r\nQ 15.4375 72.65625 20.34375 73.4375 \r\nQ 25.25 74.21875 29.59375 74.21875 \r\nQ 40.828125 74.21875 47.359375 69.109375 \r\nQ 53.90625 64.015625 53.90625 55.328125 \r\nQ 53.90625 49.265625 50.4375 45.09375 \r\nQ 46.96875 40.921875 40.578125 39.3125 \r\nz\r\n\" id=\"DejaVuSans-51\"/>\r\n      </defs>\r\n      <g transform=\"translate(7.2 139.691621)scale(0.1 -0.1)\">\r\n       <use xlink:href=\"#DejaVuSans-51\"/>\r\n       <use x=\"63.623047\" xlink:href=\"#DejaVuSans-48\"/>\r\n       <use x=\"127.246094\" xlink:href=\"#DejaVuSans-48\"/>\r\n       <use x=\"190.869141\" xlink:href=\"#DejaVuSans-48\"/>\r\n       <use x=\"254.492188\" xlink:href=\"#DejaVuSans-48\"/>\r\n       <use x=\"318.115234\" xlink:href=\"#DejaVuSans-48\"/>\r\n      </g>\r\n     </g>\r\n    </g>\r\n    <g id=\"ytick_5\">\r\n     <g id=\"line2d_10\">\r\n      <g>\r\n       <use style=\"stroke:#000000;stroke-width:0.8;\" x=\"52.375\" xlink:href=\"#mddc03292af\" y=\"106.30987\"/>\r\n      </g>\r\n     </g>\r\n     <g id=\"text_10\">\r\n      <!-- 400000 -->\r\n      <g transform=\"translate(7.2 110.109089)scale(0.1 -0.1)\">\r\n       <use xlink:href=\"#DejaVuSans-52\"/>\r\n       <use x=\"63.623047\" xlink:href=\"#DejaVuSans-48\"/>\r\n       <use x=\"127.246094\" xlink:href=\"#DejaVuSans-48\"/>\r\n       <use x=\"190.869141\" xlink:href=\"#DejaVuSans-48\"/>\r\n       <use x=\"254.492188\" xlink:href=\"#DejaVuSans-48\"/>\r\n       <use x=\"318.115234\" xlink:href=\"#DejaVuSans-48\"/>\r\n      </g>\r\n     </g>\r\n    </g>\r\n    <g id=\"ytick_6\">\r\n     <g id=\"line2d_11\">\r\n      <g>\r\n       <use style=\"stroke:#000000;stroke-width:0.8;\" x=\"52.375\" xlink:href=\"#mddc03292af\" y=\"76.727338\"/>\r\n      </g>\r\n     </g>\r\n     <g id=\"text_11\">\r\n      <!-- 500000 -->\r\n      <defs>\r\n       <path d=\"M 10.796875 72.90625 \r\nL 49.515625 72.90625 \r\nL 49.515625 64.59375 \r\nL 19.828125 64.59375 \r\nL 19.828125 46.734375 \r\nQ 21.96875 47.46875 24.109375 47.828125 \r\nQ 26.265625 48.1875 28.421875 48.1875 \r\nQ 40.625 48.1875 47.75 41.5 \r\nQ 54.890625 34.8125 54.890625 23.390625 \r\nQ 54.890625 11.625 47.5625 5.09375 \r\nQ 40.234375 -1.421875 26.90625 -1.421875 \r\nQ 22.3125 -1.421875 17.546875 -0.640625 \r\nQ 12.796875 0.140625 7.71875 1.703125 \r\nL 7.71875 11.625 \r\nQ 12.109375 9.234375 16.796875 8.0625 \r\nQ 21.484375 6.890625 26.703125 6.890625 \r\nQ 35.15625 6.890625 40.078125 11.328125 \r\nQ 45.015625 15.765625 45.015625 23.390625 \r\nQ 45.015625 31 40.078125 35.4375 \r\nQ 35.15625 39.890625 26.703125 39.890625 \r\nQ 22.75 39.890625 18.8125 39.015625 \r\nQ 14.890625 38.140625 10.796875 36.28125 \r\nz\r\n\" id=\"DejaVuSans-53\"/>\r\n      </defs>\r\n      <g transform=\"translate(7.2 80.526557)scale(0.1 -0.1)\">\r\n       <use xlink:href=\"#DejaVuSans-53\"/>\r\n       <use x=\"63.623047\" xlink:href=\"#DejaVuSans-48\"/>\r\n       <use x=\"127.246094\" xlink:href=\"#DejaVuSans-48\"/>\r\n       <use x=\"190.869141\" xlink:href=\"#DejaVuSans-48\"/>\r\n       <use x=\"254.492188\" xlink:href=\"#DejaVuSans-48\"/>\r\n       <use x=\"318.115234\" xlink:href=\"#DejaVuSans-48\"/>\r\n      </g>\r\n     </g>\r\n    </g>\r\n    <g id=\"ytick_7\">\r\n     <g id=\"line2d_12\">\r\n      <g>\r\n       <use style=\"stroke:#000000;stroke-width:0.8;\" x=\"52.375\" xlink:href=\"#mddc03292af\" y=\"47.144805\"/>\r\n      </g>\r\n     </g>\r\n     <g id=\"text_12\">\r\n      <!-- 600000 -->\r\n      <defs>\r\n       <path d=\"M 33.015625 40.375 \r\nQ 26.375 40.375 22.484375 35.828125 \r\nQ 18.609375 31.296875 18.609375 23.390625 \r\nQ 18.609375 15.53125 22.484375 10.953125 \r\nQ 26.375 6.390625 33.015625 6.390625 \r\nQ 39.65625 6.390625 43.53125 10.953125 \r\nQ 47.40625 15.53125 47.40625 23.390625 \r\nQ 47.40625 31.296875 43.53125 35.828125 \r\nQ 39.65625 40.375 33.015625 40.375 \r\nz\r\nM 52.59375 71.296875 \r\nL 52.59375 62.3125 \r\nQ 48.875 64.0625 45.09375 64.984375 \r\nQ 41.3125 65.921875 37.59375 65.921875 \r\nQ 27.828125 65.921875 22.671875 59.328125 \r\nQ 17.53125 52.734375 16.796875 39.40625 \r\nQ 19.671875 43.65625 24.015625 45.921875 \r\nQ 28.375 48.1875 33.59375 48.1875 \r\nQ 44.578125 48.1875 50.953125 41.515625 \r\nQ 57.328125 34.859375 57.328125 23.390625 \r\nQ 57.328125 12.15625 50.6875 5.359375 \r\nQ 44.046875 -1.421875 33.015625 -1.421875 \r\nQ 20.359375 -1.421875 13.671875 8.265625 \r\nQ 6.984375 17.96875 6.984375 36.375 \r\nQ 6.984375 53.65625 15.1875 63.9375 \r\nQ 23.390625 74.21875 37.203125 74.21875 \r\nQ 40.921875 74.21875 44.703125 73.484375 \r\nQ 48.484375 72.75 52.59375 71.296875 \r\nz\r\n\" id=\"DejaVuSans-54\"/>\r\n      </defs>\r\n      <g transform=\"translate(7.2 50.944024)scale(0.1 -0.1)\">\r\n       <use xlink:href=\"#DejaVuSans-54\"/>\r\n       <use x=\"63.623047\" xlink:href=\"#DejaVuSans-48\"/>\r\n       <use x=\"127.246094\" xlink:href=\"#DejaVuSans-48\"/>\r\n       <use x=\"190.869141\" xlink:href=\"#DejaVuSans-48\"/>\r\n       <use x=\"254.492188\" xlink:href=\"#DejaVuSans-48\"/>\r\n       <use x=\"318.115234\" xlink:href=\"#DejaVuSans-48\"/>\r\n      </g>\r\n     </g>\r\n    </g>\r\n    <g id=\"ytick_8\">\r\n     <g id=\"line2d_13\">\r\n      <g>\r\n       <use style=\"stroke:#000000;stroke-width:0.8;\" x=\"52.375\" xlink:href=\"#mddc03292af\" y=\"17.562273\"/>\r\n      </g>\r\n     </g>\r\n     <g id=\"text_13\">\r\n      <!-- 700000 -->\r\n      <defs>\r\n       <path d=\"M 8.203125 72.90625 \r\nL 55.078125 72.90625 \r\nL 55.078125 68.703125 \r\nL 28.609375 0 \r\nL 18.3125 0 \r\nL 43.21875 64.59375 \r\nL 8.203125 64.59375 \r\nz\r\n\" id=\"DejaVuSans-55\"/>\r\n      </defs>\r\n      <g transform=\"translate(7.2 21.361492)scale(0.1 -0.1)\">\r\n       <use xlink:href=\"#DejaVuSans-55\"/>\r\n       <use x=\"63.623047\" xlink:href=\"#DejaVuSans-48\"/>\r\n       <use x=\"127.246094\" xlink:href=\"#DejaVuSans-48\"/>\r\n       <use x=\"190.869141\" xlink:href=\"#DejaVuSans-48\"/>\r\n       <use x=\"254.492188\" xlink:href=\"#DejaVuSans-48\"/>\r\n       <use x=\"318.115234\" xlink:href=\"#DejaVuSans-48\"/>\r\n      </g>\r\n     </g>\r\n    </g>\r\n   </g>\r\n   <g id=\"patch_18\">\r\n    <path d=\"M 52.375 224.64 \r\nL 52.375 7.2 \r\n\" style=\"fill:none;stroke:#000000;stroke-linecap:square;stroke-linejoin:miter;stroke-width:0.8;\"/>\r\n   </g>\r\n   <g id=\"patch_19\">\r\n    <path d=\"M 387.175 224.64 \r\nL 387.175 7.2 \r\n\" style=\"fill:none;stroke:#000000;stroke-linecap:square;stroke-linejoin:miter;stroke-width:0.8;\"/>\r\n   </g>\r\n   <g id=\"patch_20\">\r\n    <path d=\"M 52.375 224.64 \r\nL 387.175 224.64 \r\n\" style=\"fill:none;stroke:#000000;stroke-linecap:square;stroke-linejoin:miter;stroke-width:0.8;\"/>\r\n   </g>\r\n   <g id=\"patch_21\">\r\n    <path d=\"M 52.375 7.2 \r\nL 387.175 7.2 \r\n\" style=\"fill:none;stroke:#000000;stroke-linecap:square;stroke-linejoin:miter;stroke-width:0.8;\"/>\r\n   </g>\r\n  </g>\r\n </g>\r\n <defs>\r\n  <clipPath id=\"pe6c935e6d5\">\r\n   <rect height=\"217.44\" width=\"334.8\" x=\"52.375\" y=\"7.2\"/>\r\n  </clipPath>\r\n </defs>\r\n</svg>\r\n",
      "image/png": "[encoded data removed]"
     },
     "metadata": {
      "needs_background": "light"
     }
    }
   ],
   "source": [
    "import matplotlib.pyplot as plt \n",
    "import numpy as np \n",
    "\n",
    "helper = np.vectorize(lambda x: x.total_seconds())\n",
    "duration = helper(diff)\n",
    "\n",
    "plt.hist(duration, range=[-500, 500], bins=15)"
   ]
  },
  {
   "cell_type": "code",
   "execution_count": 4,
   "metadata": {},
   "outputs": [],
   "source": [
    "combined_df.to_csv('../clean_data/prepared_data.csv', index=False)"
   ]
  },
  {
   "source": [
    "The residuals are normally distributed, which clearly show the variance that is involved when predicting bus times."
   ],
   "cell_type": "markdown",
   "metadata": {}
  }
 ]
}