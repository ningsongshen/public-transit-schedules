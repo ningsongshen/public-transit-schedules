{
 "metadata": {
  "language_info": {
   "codemirror_mode": {
    "name": "ipython",
    "version": 3
   },
   "file_extension": ".py",
   "mimetype": "text/x-python",
   "name": "python",
   "nbconvert_exporter": "python",
   "pygments_lexer": "ipython3",
   "version": 3
  },
  "orig_nbformat": 2
 },
 "nbformat": 4,
 "nbformat_minor": 2,
 "cells": [
  {
   "source": [
    "# SE-2200E Notebook 5: Another Prediction\n",
    "\n",
    "Ningsong Shen\n",
    "\n",
    "March 9, 2021"
   ],
   "cell_type": "markdown",
   "metadata": {}
  }
 ]
}