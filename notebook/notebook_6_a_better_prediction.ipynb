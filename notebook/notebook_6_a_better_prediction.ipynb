{
 "metadata": {
  "language_info": {
   "codemirror_mode": {
    "name": "ipython",
    "version": 3
   },
   "file_extension": ".py",
   "mimetype": "text/x-python",
   "name": "python",
   "nbconvert_exporter": "python",
   "pygments_lexer": "ipython3",
   "version": 3
  },
  "orig_nbformat": 2
 },
 "nbformat": 4,
 "nbformat_minor": 2,
 "cells": [
  {
   "source": [
    "# SE-2200E Notebook 6: A Better Prediction\n",
    "\n",
    "Ningsong Shen\n",
    "\n",
    "March 14, 2021"
   ],
   "cell_type": "markdown",
   "metadata": {}
  },
  {
   "source": [
    "Conclusion: if we can use simple machine learning techniques on sparse data to predict, there is definitely opportunity for more complicated technologies to move in"
   ],
   "cell_type": "markdown",
   "metadata": {}
  }
 ]
}